{
 "cells": [
  {
   "cell_type": "markdown",
   "id": "4d4bade7",
   "metadata": {},
   "source": [
    "# Credti Card fraud detection\n",
    "\n",
    "Data science task: Imbalanced binary classification using cost-sensitive learning"
   ]
  },
  {
   "cell_type": "markdown",
   "id": "33465263",
   "metadata": {},
   "source": [
    "## 0. Extracting dataset from Kaggle"
   ]
  },
  {
   "cell_type": "code",
   "execution_count": 3,
   "id": "57a4c8cb",
   "metadata": {},
   "outputs": [
    {
     "name": "stdout",
     "output_type": "stream",
     "text": [
      "Warning: Your Kaggle API key is readable by other users on this system! To fix this, you can run 'chmod 600 /home/gustavo/.kaggle/kaggle.json'\n"
     ]
    }
   ],
   "source": [
    "import kaggle"
   ]
  },
  {
   "cell_type": "code",
   "execution_count": 5,
   "id": "348a7586",
   "metadata": {},
   "outputs": [],
   "source": [
    "def extract_kaggle_dataset(url_kaggle):\n",
    "    \"\"\" Connect with given kaggle url to download all available files.\n",
    "    Arg:\n",
    "        url_kaggle (string): kaggle url from any repository you want to download files.\n",
    "    \"\"\"\n",
    "    # This extract all files from a given kaggle url\n",
    "    kaggle.api.dataset_download_files(url_kaggle, quiet=False, unzip=True)"
   ]
  },
  {
   "cell_type": "code",
   "execution_count": 6,
   "id": "2d6a2122",
   "metadata": {},
   "outputs": [
    {
     "name": "stdout",
     "output_type": "stream",
     "text": [
      "Downloading creditcardfraud.zip to /home/gustavo/Documents/Credit Card\n"
     ]
    },
    {
     "name": "stderr",
     "output_type": "stream",
     "text": [
      "100%|██████████| 66.0M/66.0M [00:16<00:00, 4.25MB/s]\n"
     ]
    },
    {
     "name": "stdout",
     "output_type": "stream",
     "text": [
      "\n"
     ]
    }
   ],
   "source": [
    "extract_kaggle_dataset('mlg-ulb/creditcardfraud')"
   ]
  },
  {
   "cell_type": "markdown",
   "id": "24e44026",
   "metadata": {},
   "source": [
    "## 1. Loading from local directory"
   ]
  },
  {
   "cell_type": "code",
   "execution_count": 1,
   "id": "1eda5522",
   "metadata": {},
   "outputs": [],
   "source": [
    "import numpy as np\n",
    "import pandas as pd\n",
    "import matplotlib.pyplot as plt"
   ]
  },
  {
   "cell_type": "code",
   "execution_count": 2,
   "id": "d1969c2b",
   "metadata": {},
   "outputs": [],
   "source": [
    "# Load credit card fraud data\n",
    "fraud = pd.read_csv('creditcard.csv')"
   ]
  },
  {
   "cell_type": "markdown",
   "id": "fbada1ee",
   "metadata": {},
   "source": [
    "## 2. Exploratory Data Analysis"
   ]
  },
  {
   "cell_type": "code",
   "execution_count": 3,
   "id": "0f23f341",
   "metadata": {},
   "outputs": [
    {
     "data": {
      "text/html": [
       "<div>\n",
       "<style scoped>\n",
       "    .dataframe tbody tr th:only-of-type {\n",
       "        vertical-align: middle;\n",
       "    }\n",
       "\n",
       "    .dataframe tbody tr th {\n",
       "        vertical-align: top;\n",
       "    }\n",
       "\n",
       "    .dataframe thead th {\n",
       "        text-align: right;\n",
       "    }\n",
       "</style>\n",
       "<table border=\"1\" class=\"dataframe\">\n",
       "  <thead>\n",
       "    <tr style=\"text-align: right;\">\n",
       "      <th></th>\n",
       "      <th>Time</th>\n",
       "      <th>V1</th>\n",
       "      <th>V2</th>\n",
       "      <th>V3</th>\n",
       "      <th>V4</th>\n",
       "      <th>V5</th>\n",
       "      <th>V6</th>\n",
       "      <th>V7</th>\n",
       "      <th>V8</th>\n",
       "      <th>V9</th>\n",
       "      <th>...</th>\n",
       "      <th>V21</th>\n",
       "      <th>V22</th>\n",
       "      <th>V23</th>\n",
       "      <th>V24</th>\n",
       "      <th>V25</th>\n",
       "      <th>V26</th>\n",
       "      <th>V27</th>\n",
       "      <th>V28</th>\n",
       "      <th>Amount</th>\n",
       "      <th>Class</th>\n",
       "    </tr>\n",
       "  </thead>\n",
       "  <tbody>\n",
       "    <tr>\n",
       "      <th>0</th>\n",
       "      <td>0.0</td>\n",
       "      <td>-1.359807</td>\n",
       "      <td>-0.072781</td>\n",
       "      <td>2.536347</td>\n",
       "      <td>1.378155</td>\n",
       "      <td>-0.338321</td>\n",
       "      <td>0.462388</td>\n",
       "      <td>0.239599</td>\n",
       "      <td>0.098698</td>\n",
       "      <td>0.363787</td>\n",
       "      <td>...</td>\n",
       "      <td>-0.018307</td>\n",
       "      <td>0.277838</td>\n",
       "      <td>-0.110474</td>\n",
       "      <td>0.066928</td>\n",
       "      <td>0.128539</td>\n",
       "      <td>-0.189115</td>\n",
       "      <td>0.133558</td>\n",
       "      <td>-0.021053</td>\n",
       "      <td>149.62</td>\n",
       "      <td>0</td>\n",
       "    </tr>\n",
       "    <tr>\n",
       "      <th>1</th>\n",
       "      <td>0.0</td>\n",
       "      <td>1.191857</td>\n",
       "      <td>0.266151</td>\n",
       "      <td>0.166480</td>\n",
       "      <td>0.448154</td>\n",
       "      <td>0.060018</td>\n",
       "      <td>-0.082361</td>\n",
       "      <td>-0.078803</td>\n",
       "      <td>0.085102</td>\n",
       "      <td>-0.255425</td>\n",
       "      <td>...</td>\n",
       "      <td>-0.225775</td>\n",
       "      <td>-0.638672</td>\n",
       "      <td>0.101288</td>\n",
       "      <td>-0.339846</td>\n",
       "      <td>0.167170</td>\n",
       "      <td>0.125895</td>\n",
       "      <td>-0.008983</td>\n",
       "      <td>0.014724</td>\n",
       "      <td>2.69</td>\n",
       "      <td>0</td>\n",
       "    </tr>\n",
       "    <tr>\n",
       "      <th>2</th>\n",
       "      <td>1.0</td>\n",
       "      <td>-1.358354</td>\n",
       "      <td>-1.340163</td>\n",
       "      <td>1.773209</td>\n",
       "      <td>0.379780</td>\n",
       "      <td>-0.503198</td>\n",
       "      <td>1.800499</td>\n",
       "      <td>0.791461</td>\n",
       "      <td>0.247676</td>\n",
       "      <td>-1.514654</td>\n",
       "      <td>...</td>\n",
       "      <td>0.247998</td>\n",
       "      <td>0.771679</td>\n",
       "      <td>0.909412</td>\n",
       "      <td>-0.689281</td>\n",
       "      <td>-0.327642</td>\n",
       "      <td>-0.139097</td>\n",
       "      <td>-0.055353</td>\n",
       "      <td>-0.059752</td>\n",
       "      <td>378.66</td>\n",
       "      <td>0</td>\n",
       "    </tr>\n",
       "    <tr>\n",
       "      <th>3</th>\n",
       "      <td>1.0</td>\n",
       "      <td>-0.966272</td>\n",
       "      <td>-0.185226</td>\n",
       "      <td>1.792993</td>\n",
       "      <td>-0.863291</td>\n",
       "      <td>-0.010309</td>\n",
       "      <td>1.247203</td>\n",
       "      <td>0.237609</td>\n",
       "      <td>0.377436</td>\n",
       "      <td>-1.387024</td>\n",
       "      <td>...</td>\n",
       "      <td>-0.108300</td>\n",
       "      <td>0.005274</td>\n",
       "      <td>-0.190321</td>\n",
       "      <td>-1.175575</td>\n",
       "      <td>0.647376</td>\n",
       "      <td>-0.221929</td>\n",
       "      <td>0.062723</td>\n",
       "      <td>0.061458</td>\n",
       "      <td>123.50</td>\n",
       "      <td>0</td>\n",
       "    </tr>\n",
       "    <tr>\n",
       "      <th>4</th>\n",
       "      <td>2.0</td>\n",
       "      <td>-1.158233</td>\n",
       "      <td>0.877737</td>\n",
       "      <td>1.548718</td>\n",
       "      <td>0.403034</td>\n",
       "      <td>-0.407193</td>\n",
       "      <td>0.095921</td>\n",
       "      <td>0.592941</td>\n",
       "      <td>-0.270533</td>\n",
       "      <td>0.817739</td>\n",
       "      <td>...</td>\n",
       "      <td>-0.009431</td>\n",
       "      <td>0.798278</td>\n",
       "      <td>-0.137458</td>\n",
       "      <td>0.141267</td>\n",
       "      <td>-0.206010</td>\n",
       "      <td>0.502292</td>\n",
       "      <td>0.219422</td>\n",
       "      <td>0.215153</td>\n",
       "      <td>69.99</td>\n",
       "      <td>0</td>\n",
       "    </tr>\n",
       "  </tbody>\n",
       "</table>\n",
       "<p>5 rows × 31 columns</p>\n",
       "</div>"
      ],
      "text/plain": [
       "   Time        V1        V2        V3        V4        V5        V6        V7  \\\n",
       "0   0.0 -1.359807 -0.072781  2.536347  1.378155 -0.338321  0.462388  0.239599   \n",
       "1   0.0  1.191857  0.266151  0.166480  0.448154  0.060018 -0.082361 -0.078803   \n",
       "2   1.0 -1.358354 -1.340163  1.773209  0.379780 -0.503198  1.800499  0.791461   \n",
       "3   1.0 -0.966272 -0.185226  1.792993 -0.863291 -0.010309  1.247203  0.237609   \n",
       "4   2.0 -1.158233  0.877737  1.548718  0.403034 -0.407193  0.095921  0.592941   \n",
       "\n",
       "         V8        V9  ...       V21       V22       V23       V24       V25  \\\n",
       "0  0.098698  0.363787  ... -0.018307  0.277838 -0.110474  0.066928  0.128539   \n",
       "1  0.085102 -0.255425  ... -0.225775 -0.638672  0.101288 -0.339846  0.167170   \n",
       "2  0.247676 -1.514654  ...  0.247998  0.771679  0.909412 -0.689281 -0.327642   \n",
       "3  0.377436 -1.387024  ... -0.108300  0.005274 -0.190321 -1.175575  0.647376   \n",
       "4 -0.270533  0.817739  ... -0.009431  0.798278 -0.137458  0.141267 -0.206010   \n",
       "\n",
       "        V26       V27       V28  Amount  Class  \n",
       "0 -0.189115  0.133558 -0.021053  149.62      0  \n",
       "1  0.125895 -0.008983  0.014724    2.69      0  \n",
       "2 -0.139097 -0.055353 -0.059752  378.66      0  \n",
       "3 -0.221929  0.062723  0.061458  123.50      0  \n",
       "4  0.502292  0.219422  0.215153   69.99      0  \n",
       "\n",
       "[5 rows x 31 columns]"
      ]
     },
     "execution_count": 3,
     "metadata": {},
     "output_type": "execute_result"
    }
   ],
   "source": [
    "# Look to the data\n",
    "fraud.head()"
   ]
  },
  {
   "cell_type": "code",
   "execution_count": 12,
   "id": "f9deaa92",
   "metadata": {},
   "outputs": [
    {
     "data": {
      "text/html": [
       "<div>\n",
       "<style scoped>\n",
       "    .dataframe tbody tr th:only-of-type {\n",
       "        vertical-align: middle;\n",
       "    }\n",
       "\n",
       "    .dataframe tbody tr th {\n",
       "        vertical-align: top;\n",
       "    }\n",
       "\n",
       "    .dataframe thead th {\n",
       "        text-align: right;\n",
       "    }\n",
       "</style>\n",
       "<table border=\"1\" class=\"dataframe\">\n",
       "  <thead>\n",
       "    <tr style=\"text-align: right;\">\n",
       "      <th></th>\n",
       "      <th>V1</th>\n",
       "      <th>V2</th>\n",
       "      <th>V3</th>\n",
       "      <th>V4</th>\n",
       "      <th>V5</th>\n",
       "      <th>V6</th>\n",
       "      <th>V7</th>\n",
       "      <th>V8</th>\n",
       "      <th>V9</th>\n",
       "      <th>V10</th>\n",
       "      <th>...</th>\n",
       "      <th>V20</th>\n",
       "      <th>V21</th>\n",
       "      <th>V22</th>\n",
       "      <th>V23</th>\n",
       "      <th>V24</th>\n",
       "      <th>V25</th>\n",
       "      <th>V26</th>\n",
       "      <th>V27</th>\n",
       "      <th>V28</th>\n",
       "      <th>Class</th>\n",
       "    </tr>\n",
       "  </thead>\n",
       "  <tbody>\n",
       "    <tr>\n",
       "      <th>count</th>\n",
       "      <td>2.848070e+05</td>\n",
       "      <td>2.848070e+05</td>\n",
       "      <td>2.848070e+05</td>\n",
       "      <td>2.848070e+05</td>\n",
       "      <td>2.848070e+05</td>\n",
       "      <td>2.848070e+05</td>\n",
       "      <td>2.848070e+05</td>\n",
       "      <td>2.848070e+05</td>\n",
       "      <td>2.848070e+05</td>\n",
       "      <td>2.848070e+05</td>\n",
       "      <td>...</td>\n",
       "      <td>2.848070e+05</td>\n",
       "      <td>2.848070e+05</td>\n",
       "      <td>2.848070e+05</td>\n",
       "      <td>2.848070e+05</td>\n",
       "      <td>2.848070e+05</td>\n",
       "      <td>2.848070e+05</td>\n",
       "      <td>2.848070e+05</td>\n",
       "      <td>2.848070e+05</td>\n",
       "      <td>2.848070e+05</td>\n",
       "      <td>284807.000000</td>\n",
       "    </tr>\n",
       "    <tr>\n",
       "      <th>mean</th>\n",
       "      <td>1.168375e-15</td>\n",
       "      <td>3.416908e-16</td>\n",
       "      <td>-1.379537e-15</td>\n",
       "      <td>2.074095e-15</td>\n",
       "      <td>9.604066e-16</td>\n",
       "      <td>1.487313e-15</td>\n",
       "      <td>-5.556467e-16</td>\n",
       "      <td>1.213481e-16</td>\n",
       "      <td>-2.406331e-15</td>\n",
       "      <td>2.239053e-15</td>\n",
       "      <td>...</td>\n",
       "      <td>6.406204e-16</td>\n",
       "      <td>1.654067e-16</td>\n",
       "      <td>-3.568593e-16</td>\n",
       "      <td>2.578648e-16</td>\n",
       "      <td>4.473266e-15</td>\n",
       "      <td>5.340915e-16</td>\n",
       "      <td>1.683437e-15</td>\n",
       "      <td>-3.660091e-16</td>\n",
       "      <td>-1.227390e-16</td>\n",
       "      <td>0.001727</td>\n",
       "    </tr>\n",
       "    <tr>\n",
       "      <th>std</th>\n",
       "      <td>1.958696e+00</td>\n",
       "      <td>1.651309e+00</td>\n",
       "      <td>1.516255e+00</td>\n",
       "      <td>1.415869e+00</td>\n",
       "      <td>1.380247e+00</td>\n",
       "      <td>1.332271e+00</td>\n",
       "      <td>1.237094e+00</td>\n",
       "      <td>1.194353e+00</td>\n",
       "      <td>1.098632e+00</td>\n",
       "      <td>1.088850e+00</td>\n",
       "      <td>...</td>\n",
       "      <td>7.709250e-01</td>\n",
       "      <td>7.345240e-01</td>\n",
       "      <td>7.257016e-01</td>\n",
       "      <td>6.244603e-01</td>\n",
       "      <td>6.056471e-01</td>\n",
       "      <td>5.212781e-01</td>\n",
       "      <td>4.822270e-01</td>\n",
       "      <td>4.036325e-01</td>\n",
       "      <td>3.300833e-01</td>\n",
       "      <td>0.041527</td>\n",
       "    </tr>\n",
       "    <tr>\n",
       "      <th>min</th>\n",
       "      <td>-5.640751e+01</td>\n",
       "      <td>-7.271573e+01</td>\n",
       "      <td>-4.832559e+01</td>\n",
       "      <td>-5.683171e+00</td>\n",
       "      <td>-1.137433e+02</td>\n",
       "      <td>-2.616051e+01</td>\n",
       "      <td>-4.355724e+01</td>\n",
       "      <td>-7.321672e+01</td>\n",
       "      <td>-1.343407e+01</td>\n",
       "      <td>-2.458826e+01</td>\n",
       "      <td>...</td>\n",
       "      <td>-5.449772e+01</td>\n",
       "      <td>-3.483038e+01</td>\n",
       "      <td>-1.093314e+01</td>\n",
       "      <td>-4.480774e+01</td>\n",
       "      <td>-2.836627e+00</td>\n",
       "      <td>-1.029540e+01</td>\n",
       "      <td>-2.604551e+00</td>\n",
       "      <td>-2.256568e+01</td>\n",
       "      <td>-1.543008e+01</td>\n",
       "      <td>0.000000</td>\n",
       "    </tr>\n",
       "    <tr>\n",
       "      <th>25%</th>\n",
       "      <td>-9.203734e-01</td>\n",
       "      <td>-5.985499e-01</td>\n",
       "      <td>-8.903648e-01</td>\n",
       "      <td>-8.486401e-01</td>\n",
       "      <td>-6.915971e-01</td>\n",
       "      <td>-7.682956e-01</td>\n",
       "      <td>-5.540759e-01</td>\n",
       "      <td>-2.086297e-01</td>\n",
       "      <td>-6.430976e-01</td>\n",
       "      <td>-5.354257e-01</td>\n",
       "      <td>...</td>\n",
       "      <td>-2.117214e-01</td>\n",
       "      <td>-2.283949e-01</td>\n",
       "      <td>-5.423504e-01</td>\n",
       "      <td>-1.618463e-01</td>\n",
       "      <td>-3.545861e-01</td>\n",
       "      <td>-3.171451e-01</td>\n",
       "      <td>-3.269839e-01</td>\n",
       "      <td>-7.083953e-02</td>\n",
       "      <td>-5.295979e-02</td>\n",
       "      <td>0.000000</td>\n",
       "    </tr>\n",
       "    <tr>\n",
       "      <th>50%</th>\n",
       "      <td>1.810880e-02</td>\n",
       "      <td>6.548556e-02</td>\n",
       "      <td>1.798463e-01</td>\n",
       "      <td>-1.984653e-02</td>\n",
       "      <td>-5.433583e-02</td>\n",
       "      <td>-2.741871e-01</td>\n",
       "      <td>4.010308e-02</td>\n",
       "      <td>2.235804e-02</td>\n",
       "      <td>-5.142873e-02</td>\n",
       "      <td>-9.291738e-02</td>\n",
       "      <td>...</td>\n",
       "      <td>-6.248109e-02</td>\n",
       "      <td>-2.945017e-02</td>\n",
       "      <td>6.781943e-03</td>\n",
       "      <td>-1.119293e-02</td>\n",
       "      <td>4.097606e-02</td>\n",
       "      <td>1.659350e-02</td>\n",
       "      <td>-5.213911e-02</td>\n",
       "      <td>1.342146e-03</td>\n",
       "      <td>1.124383e-02</td>\n",
       "      <td>0.000000</td>\n",
       "    </tr>\n",
       "    <tr>\n",
       "      <th>75%</th>\n",
       "      <td>1.315642e+00</td>\n",
       "      <td>8.037239e-01</td>\n",
       "      <td>1.027196e+00</td>\n",
       "      <td>7.433413e-01</td>\n",
       "      <td>6.119264e-01</td>\n",
       "      <td>3.985649e-01</td>\n",
       "      <td>5.704361e-01</td>\n",
       "      <td>3.273459e-01</td>\n",
       "      <td>5.971390e-01</td>\n",
       "      <td>4.539234e-01</td>\n",
       "      <td>...</td>\n",
       "      <td>1.330408e-01</td>\n",
       "      <td>1.863772e-01</td>\n",
       "      <td>5.285536e-01</td>\n",
       "      <td>1.476421e-01</td>\n",
       "      <td>4.395266e-01</td>\n",
       "      <td>3.507156e-01</td>\n",
       "      <td>2.409522e-01</td>\n",
       "      <td>9.104512e-02</td>\n",
       "      <td>7.827995e-02</td>\n",
       "      <td>0.000000</td>\n",
       "    </tr>\n",
       "    <tr>\n",
       "      <th>max</th>\n",
       "      <td>2.454930e+00</td>\n",
       "      <td>2.205773e+01</td>\n",
       "      <td>9.382558e+00</td>\n",
       "      <td>1.687534e+01</td>\n",
       "      <td>3.480167e+01</td>\n",
       "      <td>7.330163e+01</td>\n",
       "      <td>1.205895e+02</td>\n",
       "      <td>2.000721e+01</td>\n",
       "      <td>1.559499e+01</td>\n",
       "      <td>2.374514e+01</td>\n",
       "      <td>...</td>\n",
       "      <td>3.942090e+01</td>\n",
       "      <td>2.720284e+01</td>\n",
       "      <td>1.050309e+01</td>\n",
       "      <td>2.252841e+01</td>\n",
       "      <td>4.584549e+00</td>\n",
       "      <td>7.519589e+00</td>\n",
       "      <td>3.517346e+00</td>\n",
       "      <td>3.161220e+01</td>\n",
       "      <td>3.384781e+01</td>\n",
       "      <td>1.000000</td>\n",
       "    </tr>\n",
       "  </tbody>\n",
       "</table>\n",
       "<p>8 rows × 29 columns</p>\n",
       "</div>"
      ],
      "text/plain": [
       "                 V1            V2            V3            V4            V5  \\\n",
       "count  2.848070e+05  2.848070e+05  2.848070e+05  2.848070e+05  2.848070e+05   \n",
       "mean   1.168375e-15  3.416908e-16 -1.379537e-15  2.074095e-15  9.604066e-16   \n",
       "std    1.958696e+00  1.651309e+00  1.516255e+00  1.415869e+00  1.380247e+00   \n",
       "min   -5.640751e+01 -7.271573e+01 -4.832559e+01 -5.683171e+00 -1.137433e+02   \n",
       "25%   -9.203734e-01 -5.985499e-01 -8.903648e-01 -8.486401e-01 -6.915971e-01   \n",
       "50%    1.810880e-02  6.548556e-02  1.798463e-01 -1.984653e-02 -5.433583e-02   \n",
       "75%    1.315642e+00  8.037239e-01  1.027196e+00  7.433413e-01  6.119264e-01   \n",
       "max    2.454930e+00  2.205773e+01  9.382558e+00  1.687534e+01  3.480167e+01   \n",
       "\n",
       "                 V6            V7            V8            V9           V10  \\\n",
       "count  2.848070e+05  2.848070e+05  2.848070e+05  2.848070e+05  2.848070e+05   \n",
       "mean   1.487313e-15 -5.556467e-16  1.213481e-16 -2.406331e-15  2.239053e-15   \n",
       "std    1.332271e+00  1.237094e+00  1.194353e+00  1.098632e+00  1.088850e+00   \n",
       "min   -2.616051e+01 -4.355724e+01 -7.321672e+01 -1.343407e+01 -2.458826e+01   \n",
       "25%   -7.682956e-01 -5.540759e-01 -2.086297e-01 -6.430976e-01 -5.354257e-01   \n",
       "50%   -2.741871e-01  4.010308e-02  2.235804e-02 -5.142873e-02 -9.291738e-02   \n",
       "75%    3.985649e-01  5.704361e-01  3.273459e-01  5.971390e-01  4.539234e-01   \n",
       "max    7.330163e+01  1.205895e+02  2.000721e+01  1.559499e+01  2.374514e+01   \n",
       "\n",
       "       ...           V20           V21           V22           V23  \\\n",
       "count  ...  2.848070e+05  2.848070e+05  2.848070e+05  2.848070e+05   \n",
       "mean   ...  6.406204e-16  1.654067e-16 -3.568593e-16  2.578648e-16   \n",
       "std    ...  7.709250e-01  7.345240e-01  7.257016e-01  6.244603e-01   \n",
       "min    ... -5.449772e+01 -3.483038e+01 -1.093314e+01 -4.480774e+01   \n",
       "25%    ... -2.117214e-01 -2.283949e-01 -5.423504e-01 -1.618463e-01   \n",
       "50%    ... -6.248109e-02 -2.945017e-02  6.781943e-03 -1.119293e-02   \n",
       "75%    ...  1.330408e-01  1.863772e-01  5.285536e-01  1.476421e-01   \n",
       "max    ...  3.942090e+01  2.720284e+01  1.050309e+01  2.252841e+01   \n",
       "\n",
       "                V24           V25           V26           V27           V28  \\\n",
       "count  2.848070e+05  2.848070e+05  2.848070e+05  2.848070e+05  2.848070e+05   \n",
       "mean   4.473266e-15  5.340915e-16  1.683437e-15 -3.660091e-16 -1.227390e-16   \n",
       "std    6.056471e-01  5.212781e-01  4.822270e-01  4.036325e-01  3.300833e-01   \n",
       "min   -2.836627e+00 -1.029540e+01 -2.604551e+00 -2.256568e+01 -1.543008e+01   \n",
       "25%   -3.545861e-01 -3.171451e-01 -3.269839e-01 -7.083953e-02 -5.295979e-02   \n",
       "50%    4.097606e-02  1.659350e-02 -5.213911e-02  1.342146e-03  1.124383e-02   \n",
       "75%    4.395266e-01  3.507156e-01  2.409522e-01  9.104512e-02  7.827995e-02   \n",
       "max    4.584549e+00  7.519589e+00  3.517346e+00  3.161220e+01  3.384781e+01   \n",
       "\n",
       "               Class  \n",
       "count  284807.000000  \n",
       "mean        0.001727  \n",
       "std         0.041527  \n",
       "min         0.000000  \n",
       "25%         0.000000  \n",
       "50%         0.000000  \n",
       "75%         0.000000  \n",
       "max         1.000000  \n",
       "\n",
       "[8 rows x 29 columns]"
      ]
     },
     "execution_count": 12,
     "metadata": {},
     "output_type": "execute_result"
    }
   ],
   "source": [
    "# Credit card fraud PCA components descriptive stats\n",
    "fraud.drop(columns=['Time','Amount']).describe()"
   ]
  },
  {
   "cell_type": "code",
   "execution_count": 39,
   "id": "f7cb0445",
   "metadata": {},
   "outputs": [
    {
     "data": {
      "text/html": [
       "<div>\n",
       "<style scoped>\n",
       "    .dataframe tbody tr th:only-of-type {\n",
       "        vertical-align: middle;\n",
       "    }\n",
       "\n",
       "    .dataframe tbody tr th {\n",
       "        vertical-align: top;\n",
       "    }\n",
       "\n",
       "    .dataframe thead th {\n",
       "        text-align: right;\n",
       "    }\n",
       "</style>\n",
       "<table border=\"1\" class=\"dataframe\">\n",
       "  <thead>\n",
       "    <tr style=\"text-align: right;\">\n",
       "      <th></th>\n",
       "      <th>Time</th>\n",
       "      <th>Amount</th>\n",
       "    </tr>\n",
       "  </thead>\n",
       "  <tbody>\n",
       "    <tr>\n",
       "      <th>count</th>\n",
       "      <td>284807.000000</td>\n",
       "      <td>284807.000000</td>\n",
       "    </tr>\n",
       "    <tr>\n",
       "      <th>mean</th>\n",
       "      <td>94813.859575</td>\n",
       "      <td>88.349619</td>\n",
       "    </tr>\n",
       "    <tr>\n",
       "      <th>std</th>\n",
       "      <td>47488.145955</td>\n",
       "      <td>250.120109</td>\n",
       "    </tr>\n",
       "    <tr>\n",
       "      <th>min</th>\n",
       "      <td>0.000000</td>\n",
       "      <td>0.000000</td>\n",
       "    </tr>\n",
       "    <tr>\n",
       "      <th>25%</th>\n",
       "      <td>54201.500000</td>\n",
       "      <td>5.600000</td>\n",
       "    </tr>\n",
       "    <tr>\n",
       "      <th>50%</th>\n",
       "      <td>84692.000000</td>\n",
       "      <td>22.000000</td>\n",
       "    </tr>\n",
       "    <tr>\n",
       "      <th>75%</th>\n",
       "      <td>139320.500000</td>\n",
       "      <td>77.165000</td>\n",
       "    </tr>\n",
       "    <tr>\n",
       "      <th>max</th>\n",
       "      <td>172792.000000</td>\n",
       "      <td>25691.160000</td>\n",
       "    </tr>\n",
       "  </tbody>\n",
       "</table>\n",
       "</div>"
      ],
      "text/plain": [
       "                Time         Amount\n",
       "count  284807.000000  284807.000000\n",
       "mean    94813.859575      88.349619\n",
       "std     47488.145955     250.120109\n",
       "min         0.000000       0.000000\n",
       "25%     54201.500000       5.600000\n",
       "50%     84692.000000      22.000000\n",
       "75%    139320.500000      77.165000\n",
       "max    172792.000000   25691.160000"
      ]
     },
     "execution_count": 39,
     "metadata": {},
     "output_type": "execute_result"
    }
   ],
   "source": [
    "# Credit card fraud time and amount fearure descriptive stats\n",
    "fraud[['Time','Amount']].describe()"
   ]
  },
  {
   "cell_type": "code",
   "execution_count": 3,
   "id": "6c3bed97",
   "metadata": {},
   "outputs": [
    {
     "data": {
      "text/plain": [
       "(284807, 31)"
      ]
     },
     "execution_count": 3,
     "metadata": {},
     "output_type": "execute_result"
    }
   ],
   "source": [
    "# credit card fraud dataset dimesions\n",
    "fraud.shape"
   ]
  },
  {
   "cell_type": "code",
   "execution_count": 5,
   "id": "ba8daa99",
   "metadata": {},
   "outputs": [
    {
     "data": {
      "text/plain": [
       "0    284315\n",
       "1       492\n",
       "Name: Class, dtype: int64"
      ]
     },
     "execution_count": 5,
     "metadata": {},
     "output_type": "execute_result"
    }
   ],
   "source": [
    "# Transaction type counts\n",
    "fraud['Class'].value_counts()"
   ]
  },
  {
   "cell_type": "markdown",
   "id": "c9996f47",
   "metadata": {},
   "source": [
    "It's is highly imbalanced"
   ]
  },
  {
   "cell_type": "code",
   "execution_count": 5,
   "id": "378271a8",
   "metadata": {},
   "outputs": [
    {
     "data": {
      "text/plain": [
       "True         284315\n",
       "Fradulent       492\n",
       "Name: Class, dtype: int64"
      ]
     },
     "execution_count": 5,
     "metadata": {},
     "output_type": "execute_result"
    }
   ],
   "source": [
    "fraud['Class'].value_counts().rename(index={0:'True', 1:'Fradulent'})"
   ]
  },
  {
   "cell_type": "code",
   "execution_count": 7,
   "id": "66275c8a",
   "metadata": {},
   "outputs": [
    {
     "data": {
      "text/plain": [
       "Text(0.5, 0, 'Type of transaction')"
      ]
     },
     "execution_count": 7,
     "metadata": {},
     "output_type": "execute_result"
    },
    {
     "data": {
      "image/png": "[encoded data removed]",
      "text/plain": [
       "<Figure size 640x480 with 1 Axes>"
      ]
     },
     "metadata": {},
     "output_type": "display_data"
    }
   ],
   "source": [
    "fraud['Class'].value_counts().rename(index={0:'True', 1:'Fradulent'}).plot.bar(logy=True)\n",
    "plt.title('Credit card transaction type')\n",
    "plt.ylabel('Number of transactions (log(counts))')\n",
    "plt.xlabel('Type of transaction')\n",
    "plt.show()"
   ]
  },
  {
   "cell_type": "code",
   "execution_count": 25,
   "id": "a3c2bbf3",
   "metadata": {},
   "outputs": [
    {
     "data": {
      "image/png": "[encoded data removed]",
      "text/plain": [
       "<Figure size 640x480 with 1 Axes>"
      ]
     },
     "metadata": {},
     "output_type": "display_data"
    }
   ],
   "source": [
    "fraud['Amount'].plot.hist(logy=True)\n",
    "plt.axvline(x=fraud['Amount'].mean(), color = 'r', label = 'Amount mean')\n",
    "plt.title('Transaction amount histogram')\n",
    "plt.xlabel('Amount per transaction')\n",
    "plt.ylabel('log(Counts)')\n",
    "plt.legend()\n",
    "plt.show()"
   ]
  },
  {
   "cell_type": "code",
   "execution_count": 27,
   "id": "6786f86c",
   "metadata": {},
   "outputs": [
    {
     "data": {
      "text/plain": [
       "<Axes: >"
      ]
     },
     "execution_count": 27,
     "metadata": {},
     "output_type": "execute_result"
    },
    {
     "data": {
      "image/png": "[encoded data removed]",
      "text/plain": [
       "<Figure size 640x480 with 1 Axes>"
      ]
     },
     "metadata": {},
     "output_type": "display_data"
    }
   ],
   "source": [
    "fraud['Time'].cumsum().plot()"
   ]
  },
  {
   "cell_type": "markdown",
   "id": "6ceb4b0f",
   "metadata": {},
   "source": [
    "### 2.2. PCA analysis \n",
    "\n",
    "There are 2 feature selection type. one using the component with the hightest explained variance and using the componet with the hightest eigenvalue per component."
   ]
  },
  {
   "cell_type": "code",
   "execution_count": 33,
   "id": "25559876",
   "metadata": {},
   "outputs": [
    {
     "data": {
      "image/png": "[encoded data removed]",
      "text/plain": [
       "<Figure size 640x480 with 1 Axes>"
      ]
     },
     "metadata": {},
     "output_type": "display_data"
    }
   ],
   "source": [
    "plt.scatter(x=fraud['V1'],y=fraud['V2'], c=fraud['Class'])\n",
    "plt.show()"
   ]
  },
  {
   "cell_type": "code",
   "execution_count": 35,
   "id": "c027bcfb",
   "metadata": {},
   "outputs": [
    {
     "data": {
      "image/png": "[encoded data removed]",
      "text/plain": [
       "<Figure size 640x480 with 1 Axes>"
      ]
     },
     "metadata": {},
     "output_type": "display_data"
    }
   ],
   "source": [
    "plt.scatter(x=fraud['V7'],y=fraud['V6'], c=fraud['Class'])\n",
    "plt.show()"
   ]
  },
  {
   "cell_type": "code",
   "execution_count": 28,
   "id": "2ab263bb",
   "metadata": {},
   "outputs": [
    {
     "data": {
      "text/plain": [
       "V7     120.589494\n",
       "V6      73.301626\n",
       "V20     39.420904\n",
       "V5      34.801666\n",
       "V28     33.847808\n",
       "V27     31.612198\n",
       "V21     27.202839\n",
       "V10     23.745136\n",
       "V23     22.528412\n",
       "V2      22.057729\n",
       "V8      20.007208\n",
       "V16     17.315112\n",
       "V4      16.875344\n",
       "V9      15.594995\n",
       "V11     12.018913\n",
       "V14     10.526766\n",
       "V22     10.503090\n",
       "V3       9.382558\n",
       "V17      9.253526\n",
       "V15      8.877742\n",
       "V12      7.848392\n",
       "V25      7.519589\n",
       "V13      7.126883\n",
       "V19      5.591971\n",
       "V18      5.041069\n",
       "V24      4.584549\n",
       "V26      3.517346\n",
       "V1       2.454930\n",
       "dtype: float64"
      ]
     },
     "execution_count": 28,
     "metadata": {},
     "output_type": "execute_result"
    }
   ],
   "source": [
    "fraud.drop(columns=['Time','Amount','Class']).max().sort_values(ascending=False)"
   ]
  },
  {
   "cell_type": "markdown",
   "id": "d12a26e3",
   "metadata": {},
   "source": [
    "### 2.3. Correlation between features and labels\n",
    "\n",
    "It's use Point Biserial correlation to calculate correlation between continuos and binary variable. There's significate staIf p-value is less than 0.05"
   ]
  },
  {
   "cell_type": "code",
   "execution_count": 7,
   "id": "69c2e1ef",
   "metadata": {},
   "outputs": [],
   "source": [
    "from scipy import stats"
   ]
  },
  {
   "cell_type": "code",
   "execution_count": 13,
   "id": "54e2ef2c",
   "metadata": {},
   "outputs": [
    {
     "name": "stdout",
     "output_type": "stream",
     "text": [
      "V1 SignificanceResult(statistic=-0.10134729859508607, pvalue=0.0)\n",
      "V2 SignificanceResult(statistic=0.09128865034462016, pvalue=0.0)\n",
      "V3 SignificanceResult(statistic=-0.19296082706741524, pvalue=0.0)\n",
      "V4 SignificanceResult(statistic=0.13344748623900582, pvalue=0.0)\n",
      "V5 SignificanceResult(statistic=-0.09497429899144924, pvalue=0.0)\n",
      "V6 SignificanceResult(statistic=-0.04364316069996427, pvalue=4.213111345325936e-120)\n",
      "V7 SignificanceResult(statistic=-0.1872565915142998, pvalue=0.0)\n",
      "V8 SignificanceResult(statistic=0.01987512391479456, pvalue=2.7406731012506354e-26)\n",
      "V9 SignificanceResult(statistic=-0.09773268607407982, pvalue=0.0)\n",
      "V10 SignificanceResult(statistic=-0.21688294364102964, pvalue=0.0)\n",
      "V11 SignificanceResult(statistic=0.154875644743949, pvalue=0.0)\n",
      "V12 SignificanceResult(statistic=-0.2605929248772197, pvalue=0.0)\n",
      "V13 SignificanceResult(statistic=-0.004569778799461305, pvalue=0.014737338961000997)\n",
      "V14 SignificanceResult(statistic=-0.3025436958044071, pvalue=0.0)\n",
      "V15 SignificanceResult(statistic=-0.004223402267856707, pvalue=0.024201426001455077)\n",
      "V16 SignificanceResult(statistic=-0.19653894030402028, pvalue=0.0)\n",
      "V17 SignificanceResult(statistic=-0.32648106724371756, pvalue=0.0)\n",
      "V18 SignificanceResult(statistic=-0.11148525388904217, pvalue=0.0)\n",
      "V19 SignificanceResult(statistic=0.03478301303651509, pvalue=5.8015173021586385e-77)\n",
      "V20 SignificanceResult(statistic=0.02009032419697556, pvalue=7.964292023523612e-27)\n",
      "V21 SignificanceResult(statistic=0.040413380610575984, pvalue=3.002268557850843e-103)\n",
      "V22 SignificanceResult(statistic=0.0008053175052984618, pvalue=0.6673596913925252)\n",
      "V23 SignificanceResult(statistic=-0.002685155740250706, pvalue=0.15186019852141144)\n",
      "V24 SignificanceResult(statistic=-0.0072209067159527945, pvalue=0.00011637602808851188)\n",
      "V25 SignificanceResult(statistic=0.003307705597299683, pvalue=0.07752500938140847)\n",
      "V26 SignificanceResult(statistic=0.004455397501283389, pvalue=0.017419705371244553)\n",
      "V27 SignificanceResult(statistic=0.017579728189513408, pvalue=6.441920343674859e-21)\n",
      "V28 SignificanceResult(statistic=0.009536040916236272, pvalue=3.5953535619905914e-07)\n"
     ]
    }
   ],
   "source": [
    "for c in fraud.drop(columns=['Time','Amount','Class']).columns:\n",
    "    print(c, stats.pointbiserialr(fraud['Class'], fraud[c]))"
   ]
  },
  {
   "cell_type": "code",
   "execution_count": 14,
   "id": "ac52e2fd",
   "metadata": {},
   "outputs": [
    {
     "data": {
      "text/plain": [
       "SignificanceResult(statistic=-0.012322570929245751, pvalue=4.818268891796334e-11)"
      ]
     },
     "execution_count": 14,
     "metadata": {},
     "output_type": "execute_result"
    }
   ],
   "source": [
    "stats.pointbiserialr(fraud['Class'], fraud['Time'])"
   ]
  },
  {
   "cell_type": "code",
   "execution_count": 15,
   "id": "339a1e21",
   "metadata": {},
   "outputs": [
    {
     "data": {
      "text/plain": [
       "SignificanceResult(statistic=0.0056317530067686, pvalue=0.002651220649191581)"
      ]
     },
     "execution_count": 15,
     "metadata": {},
     "output_type": "execute_result"
    }
   ],
   "source": [
    "stats.pointbiserialr(fraud['Class'], fraud['Amount'])"
   ]
  },
  {
   "cell_type": "markdown",
   "id": "97e7ca1c",
   "metadata": {},
   "source": [
    "Since the p-value of this correlation is not less than .05, this correlation is not statistically significant. \n",
    "\n",
    "Higher coefficients denote a stronger magnitude of relationship between variables. Smaller coefficients denote weaker relationships. \n",
    "\n",
    "Components 22, 23 and 25 has not significant correlation. Components 1 3 4 7 10 11 12 14 16 17 18 has > 10 coefficients with the strongest magnitud of relationship with labels "
   ]
  },
  {
   "cell_type": "markdown",
   "id": "14b93687",
   "metadata": {},
   "source": [
    "### 2.3. Correlation between PCA features "
   ]
  },
  {
   "cell_type": "code",
   "execution_count": 5,
   "id": "e978d392",
   "metadata": {},
   "outputs": [
    {
     "data": {
      "text/plain": [
       "<matplotlib.image.AxesImage at 0x7f170f635480>"
      ]
     },
     "execution_count": 5,
     "metadata": {},
     "output_type": "execute_result"
    },
    {
     "data": {
      "image/png": "[encoded data removed]",
      "text/plain": [
       "<Figure size 640x480 with 1 Axes>"
      ]
     },
     "metadata": {},
     "output_type": "display_data"
    }
   ],
   "source": [
    "plt.imshow(fraud.drop(columns=['Class','Time','Amount']).corr())"
   ]
  },
  {
   "cell_type": "markdown",
   "id": "57fc8498",
   "metadata": {},
   "source": [
    "It is expected to have correlation coefficients near to 0 because PCA components are linearlly independent."
   ]
  },
  {
   "cell_type": "code",
   "execution_count": 5,
   "id": "a2470237",
   "metadata": {},
   "outputs": [
    {
     "data": {
      "text/html": [
       "<div>\n",
       "<style scoped>\n",
       "    .dataframe tbody tr th:only-of-type {\n",
       "        vertical-align: middle;\n",
       "    }\n",
       "\n",
       "    .dataframe tbody tr th {\n",
       "        vertical-align: top;\n",
       "    }\n",
       "\n",
       "    .dataframe thead th {\n",
       "        text-align: right;\n",
       "    }\n",
       "</style>\n",
       "<table border=\"1\" class=\"dataframe\">\n",
       "  <thead>\n",
       "    <tr style=\"text-align: right;\">\n",
       "      <th></th>\n",
       "      <th>Time</th>\n",
       "      <th>Amount</th>\n",
       "    </tr>\n",
       "  </thead>\n",
       "  <tbody>\n",
       "    <tr>\n",
       "      <th>Time</th>\n",
       "      <td>1.000000</td>\n",
       "      <td>-0.010596</td>\n",
       "    </tr>\n",
       "    <tr>\n",
       "      <th>Amount</th>\n",
       "      <td>-0.010596</td>\n",
       "      <td>1.000000</td>\n",
       "    </tr>\n",
       "  </tbody>\n",
       "</table>\n",
       "</div>"
      ],
      "text/plain": [
       "            Time    Amount\n",
       "Time    1.000000 -0.010596\n",
       "Amount -0.010596  1.000000"
      ]
     },
     "execution_count": 5,
     "metadata": {},
     "output_type": "execute_result"
    }
   ],
   "source": [
    "fraud[['Time','Amount']].corr()"
   ]
  },
  {
   "cell_type": "markdown",
   "id": "5ca082f8",
   "metadata": {},
   "source": [
    "## 3. Imbalanced classification with linearSVM (MVP)\n",
    "\n",
    "I'm going to run classification using just PCA components as inut feature with and without cost-sensitive learning to compare results. I'll expect that hyperparameter tunning and crossvalidation optimal k-fold change."
   ]
  },
  {
   "cell_type": "code",
   "execution_count": 4,
   "id": "5b795f1b",
   "metadata": {},
   "outputs": [],
   "source": [
    "from sklearn.svm import LinearSVC\n",
    "from sklearn.model_selection import train_test_split, RepeatedStratifiedKFold, GridSearchCV\n",
    "from sklearn.preprocessing import StandardScaler\n",
    "from sklearn.pipeline import Pipeline"
   ]
  },
  {
   "cell_type": "markdown",
   "id": "62383cba",
   "metadata": {},
   "source": [
    "### 3.1. Imbalanced PCA components only."
   ]
  },
  {
   "cell_type": "code",
   "execution_count": 5,
   "id": "b400d884",
   "metadata": {},
   "outputs": [],
   "source": [
    "# A numpy random state object to create random state instances at each use\n",
    "rng = np.random.RandomState(0)\n",
    "\n",
    "# Dividing dataset in input features and labels\n",
    "y = fraud['Class']\n",
    "X = fraud.drop(columns=['Time','Amount','Class'])\n",
    "\n",
    "# Spliting data into train/test  \n",
    "X_train, X_test, y_train, y_test = train_test_split(X, y, random_state=rng)"
   ]
  },
  {
   "cell_type": "markdown",
   "id": "11f7bb95",
   "metadata": {},
   "source": [
    "3.1.1. Inspecting effect of SVM's C parameter and l-norm (regularization) on imbalanced learning.\n",
    "\n",
    "I would like to see how C parameter and l-norm behaves with this imbalanced dataset. For doing so, I'll use repeted Stratified 3 fold with 100 repeats each. Later, I compare the C/l-norm parameter pairs results to see if they are statistical different. If there's no statistical differences, the criterion for pick the right C/l-norm parameter pairs with be on fitting time.\n",
    "\n",
    "The experiments goes as follows:\n",
    "1) I'll run a 3-fold crossvalidation grid search routine to find the 3 best pair candidates (C and L-norm) on the same crossvalidated partitions.\n",
    "2) I'll run a 3-fold repeted stratified crossvalidation grid search routine to get 90 samples for each pair canditates.\n",
    "3) I'll run a t-student hypothesis test to find if there's statitical differences between the 3 pair candidates.\n",
    "4) If there's no difference, I'll pick the pair candidate with the lowest fitting time."
   ]
  },
  {
   "cell_type": "code",
   "execution_count": null,
   "id": "022acb77",
   "metadata": {},
   "outputs": [
    {
     "name": "stdout",
     "output_type": "stream",
     "text": [
      "Fitting 3 folds for each of 18 candidates, totalling 54 fits\n",
      "[CV 1/3] END ...............C=0.001, penalty=l1;, score=0.448 total time=   0.9s\n",
      "[CV 2/3] END ...............C=0.001, penalty=l1;, score=0.577 total time=   0.8s\n",
      "[CV 3/3] END ...............C=0.001, penalty=l1;, score=0.462 total time=   0.8s\n",
      "[CV 1/3] END ...............C=0.001, penalty=l2;, score=0.615 total time=   1.1s\n",
      "[CV 2/3] END ...............C=0.001, penalty=l2;, score=0.734 total time=   1.1s\n",
      "[CV 3/3] END ...............C=0.001, penalty=l2;, score=0.642 total time=   1.0s\n",
      "[CV 1/3] END ...............C=0.005, penalty=l1;, score=0.594 total time=   0.9s\n",
      "[CV 2/3] END ...............C=0.005, penalty=l1;, score=0.710 total time=   1.2s\n",
      "[CV 3/3] END ...............C=0.005, penalty=l1;, score=0.628 total time=   1.4s\n",
      "[CV 1/3] END ...............C=0.005, penalty=l2;, score=0.653 total time=   0.8s\n",
      "[CV 2/3] END ...............C=0.005, penalty=l2;, score=0.750 total time=   0.8s\n",
      "[CV 3/3] END ...............C=0.005, penalty=l2;, score=0.649 total time=   0.7s\n",
      "[CV 1/3] END ................C=0.01, penalty=l1;, score=0.636 total time=   1.2s\n",
      "[CV 2/3] END ................C=0.01, penalty=l1;, score=0.751 total time=   1.1s\n",
      "[CV 3/3] END ................C=0.01, penalty=l1;, score=0.649 total time=   1.3s\n",
      "[CV 1/3] END ................C=0.01, penalty=l2;, score=0.667 total time=   0.6s\n",
      "[CV 2/3] END ................C=0.01, penalty=l2;, score=0.750 total time=   0.7s\n",
      "[CV 3/3] END ................C=0.01, penalty=l2;, score=0.649 total time=   0.7s\n",
      "[CV 1/3] END ................C=0.05, penalty=l1;, score=0.667 total time=   3.8s\n",
      "[CV 2/3] END ................C=0.05, penalty=l1;, score=0.773 total time=   8.7s\n",
      "[CV 3/3] END ................C=0.05, penalty=l1;, score=0.663 total time=   8.9s\n",
      "[CV 1/3] END ................C=0.05, penalty=l2;, score=0.680 total time=   0.8s\n",
      "[CV 2/3] END ................C=0.05, penalty=l2;, score=0.756 total time=   0.7s\n",
      "[CV 3/3] END ................C=0.05, penalty=l2;, score=0.663 total time=   0.6s\n",
      "[CV 1/3] END .................C=0.1, penalty=l1;, score=0.680 total time=   8.3s\n",
      "[CV 2/3] END .................C=0.1, penalty=l1;, score=0.761 total time=   7.6s\n",
      "[CV 3/3] END .................C=0.1, penalty=l1;, score=0.663 total time=   5.9s\n",
      "[CV 1/3] END .................C=0.1, penalty=l2;, score=0.680 total time=   0.6s\n",
      "[CV 2/3] END .................C=0.1, penalty=l2;, score=0.756 total time=   1.1s\n",
      "[CV 3/3] END .................C=0.1, penalty=l2;, score=0.663 total time=   0.9s\n",
      "[CV 1/3] END .................C=0.5, penalty=l1;, score=0.673 total time=   8.9s\n",
      "[CV 2/3] END .................C=0.5, penalty=l1;, score=0.756 total time=  11.5s\n",
      "[CV 3/3] END .................C=0.5, penalty=l1;, score=0.660 total time=   5.1s\n",
      "[CV 1/3] END .................C=0.5, penalty=l2;, score=0.673 total time=   0.6s\n",
      "[CV 2/3] END .................C=0.5, penalty=l2;, score=0.756 total time=   0.8s\n",
      "[CV 3/3] END .................C=0.5, penalty=l2;, score=0.660 total time=   0.7s\n",
      "[CV 1/3] END ...................C=1, penalty=l1;, score=0.673 total time=   5.8s\n",
      "[CV 2/3] END ...................C=1, penalty=l1;, score=0.756 total time=   8.6s\n",
      "[CV 3/3] END ...................C=1, penalty=l1;, score=0.660 total time=   4.7s\n",
      "[CV 1/3] END ...................C=1, penalty=l2;, score=0.673 total time=   0.6s\n",
      "[CV 2/3] END ...................C=1, penalty=l2;, score=0.756 total time=   0.8s\n",
      "[CV 3/3] END ...................C=1, penalty=l2;, score=0.660 total time=   0.6s\n",
      "[CV 1/3] END ..................C=10, penalty=l1;, score=0.673 total time=   4.6s\n",
      "[CV 2/3] END ..................C=10, penalty=l1;, score=0.756 total time=   9.3s\n",
      "[CV 3/3] END ..................C=10, penalty=l1;, score=0.660 total time=   4.9s\n",
      "[CV 1/3] END ..................C=10, penalty=l2;, score=0.673 total time=   0.7s\n",
      "[CV 2/3] END ..................C=10, penalty=l2;, score=0.756 total time=   1.0s\n",
      "[CV 3/3] END ..................C=10, penalty=l2;, score=0.660 total time=   0.8s\n",
      "[CV 1/3] END .................C=100, penalty=l1;, score=0.673 total time=   4.6s\n",
      "[CV 2/3] END .................C=100, penalty=l1;, score=0.756 total time=   9.5s\n",
      "[CV 3/3] END .................C=100, penalty=l1;, score=0.660 total time=   4.8s\n",
      "[CV 1/3] END .................C=100, penalty=l2;, score=0.673 total time=   0.6s\n",
      "[CV 2/3] END .................C=100, penalty=l2;, score=0.756 total time=   0.7s\n",
      "[CV 3/3] END .................C=100, penalty=l2;, score=0.660 total time=   0.6s\n"
     ]
    }
   ],
   "source": [
    "# Grid search hyperparameter tunnig routine for 1)\n",
    "\n",
    "# Parameters to search\n",
    "parameters = {'penalty':('l1', 'l2'), \n",
    "              'C':[0.001, 0.005, 0.01, 0.05, 0.1, 0.5, 1, 10, 100]\n",
    "             }\n",
    "\n",
    "# Creating estimator instance\n",
    "\n",
    "lsvc = LinearSVC(dual=False, random_state=rng)\n",
    "\n",
    "# Creating grid search instance\n",
    "search = GridSearchCV(estimator=lsvc, param_grid=parameters, scoring=\"f1\", cv=3, verbose=3)\n",
    "\n",
    "# Fitting grid search instance\n",
    "search.fit(X_train, y_train)"
   ]
  },
  {
   "cell_type": "code",
   "execution_count": 13,
   "id": "b061b63f",
   "metadata": {},
   "outputs": [],
   "source": [
    "# Storing resutls in a data frame\n",
    "results = pd.DataFrame(data=search.cv_results_)"
   ]
  },
  {
   "cell_type": "code",
   "execution_count": 14,
   "id": "59578883",
   "metadata": {},
   "outputs": [
    {
     "data": {
      "text/html": [
       "<div>\n",
       "<style scoped>\n",
       "    .dataframe tbody tr th:only-of-type {\n",
       "        vertical-align: middle;\n",
       "    }\n",
       "\n",
       "    .dataframe tbody tr th {\n",
       "        vertical-align: top;\n",
       "    }\n",
       "\n",
       "    .dataframe thead th {\n",
       "        text-align: right;\n",
       "    }\n",
       "</style>\n",
       "<table border=\"1\" class=\"dataframe\">\n",
       "  <thead>\n",
       "    <tr style=\"text-align: right;\">\n",
       "      <th></th>\n",
       "      <th>mean_fit_time</th>\n",
       "      <th>std_fit_time</th>\n",
       "      <th>mean_score_time</th>\n",
       "      <th>std_score_time</th>\n",
       "      <th>param_lsvc__C</th>\n",
       "      <th>param_lsvc__penalty</th>\n",
       "      <th>params</th>\n",
       "      <th>split0_test_score</th>\n",
       "      <th>split1_test_score</th>\n",
       "      <th>split2_test_score</th>\n",
       "      <th>mean_test_score</th>\n",
       "      <th>std_test_score</th>\n",
       "      <th>rank_test_score</th>\n",
       "    </tr>\n",
       "  </thead>\n",
       "  <tbody>\n",
       "    <tr>\n",
       "      <th>7</th>\n",
       "      <td>0.512770</td>\n",
       "      <td>0.026434</td>\n",
       "      <td>0.030341</td>\n",
       "      <td>0.000362</td>\n",
       "      <td>0.05</td>\n",
       "      <td>l2</td>\n",
       "      <td>{'lsvc__C': 0.05, 'lsvc__penalty': 'l2'}</td>\n",
       "      <td>0.679803</td>\n",
       "      <td>0.755760</td>\n",
       "      <td>0.663265</td>\n",
       "      <td>0.69961</td>\n",
       "      <td>0.040275</td>\n",
       "      <td>2</td>\n",
       "    </tr>\n",
       "    <tr>\n",
       "      <th>8</th>\n",
       "      <td>6.037984</td>\n",
       "      <td>0.810324</td>\n",
       "      <td>0.030357</td>\n",
       "      <td>0.000205</td>\n",
       "      <td>0.1</td>\n",
       "      <td>l1</td>\n",
       "      <td>{'lsvc__C': 0.1, 'lsvc__penalty': 'l1'}</td>\n",
       "      <td>0.679803</td>\n",
       "      <td>0.761468</td>\n",
       "      <td>0.659898</td>\n",
       "      <td>0.70039</td>\n",
       "      <td>0.043947</td>\n",
       "      <td>1</td>\n",
       "    </tr>\n",
       "    <tr>\n",
       "      <th>9</th>\n",
       "      <td>0.523567</td>\n",
       "      <td>0.035181</td>\n",
       "      <td>0.030364</td>\n",
       "      <td>0.000218</td>\n",
       "      <td>0.1</td>\n",
       "      <td>l2</td>\n",
       "      <td>{'lsvc__C': 0.1, 'lsvc__penalty': 'l2'}</td>\n",
       "      <td>0.679803</td>\n",
       "      <td>0.755760</td>\n",
       "      <td>0.663265</td>\n",
       "      <td>0.69961</td>\n",
       "      <td>0.040275</td>\n",
       "      <td>2</td>\n",
       "    </tr>\n",
       "  </tbody>\n",
       "</table>\n",
       "</div>"
      ],
      "text/plain": [
       "   mean_fit_time  std_fit_time  mean_score_time  std_score_time param_lsvc__C  \\\n",
       "7       0.512770      0.026434         0.030341        0.000362          0.05   \n",
       "8       6.037984      0.810324         0.030357        0.000205           0.1   \n",
       "9       0.523567      0.035181         0.030364        0.000218           0.1   \n",
       "\n",
       "  param_lsvc__penalty                                    params  \\\n",
       "7                  l2  {'lsvc__C': 0.05, 'lsvc__penalty': 'l2'}   \n",
       "8                  l1   {'lsvc__C': 0.1, 'lsvc__penalty': 'l1'}   \n",
       "9                  l2   {'lsvc__C': 0.1, 'lsvc__penalty': 'l2'}   \n",
       "\n",
       "   split0_test_score  split1_test_score  split2_test_score  mean_test_score  \\\n",
       "7           0.679803           0.755760           0.663265          0.69961   \n",
       "8           0.679803           0.761468           0.659898          0.70039   \n",
       "9           0.679803           0.755760           0.663265          0.69961   \n",
       "\n",
       "   std_test_score  rank_test_score  \n",
       "7        0.040275                2  \n",
       "8        0.043947                1  \n",
       "9        0.040275                2  "
      ]
     },
     "execution_count": 14,
     "metadata": {},
     "output_type": "execute_result"
    }
   ],
   "source": [
    "\n",
    "results[(results['rank_test_score'] == 1) | (results['rank_test_score'] == 2) | (results['rank_test_score'] == 3)]"
   ]
  },
  {
   "cell_type": "code",
   "execution_count": 12,
   "id": "560fe8a9",
   "metadata": {},
   "outputs": [
    {
     "name": "stdout",
     "output_type": "stream",
     "text": [
      "Fitting 90 folds for each of 4 candidates, totalling 360 fits\n",
      "[CV 1/90] END ...............C=0.05, penalty=l1;, score=0.705 total time=  14.2s\n",
      "[CV 2/90] END ...............C=0.05, penalty=l1;, score=0.673 total time=   4.9s\n",
      "[CV 3/90] END ...............C=0.05, penalty=l1;, score=0.689 total time=   2.6s\n",
      "[CV 4/90] END ...............C=0.05, penalty=l1;, score=0.748 total time=   5.2s\n",
      "[CV 5/90] END ...............C=0.05, penalty=l1;, score=0.677 total time=   7.4s\n",
      "[CV 6/90] END ...............C=0.05, penalty=l1;, score=0.686 total time=   8.7s\n",
      "[CV 7/90] END ...............C=0.05, penalty=l1;, score=0.729 total time=   3.7s\n",
      "[CV 8/90] END ...............C=0.05, penalty=l1;, score=0.728 total time=   7.0s\n",
      "[CV 9/90] END ...............C=0.05, penalty=l1;, score=0.646 total time=   5.6s\n",
      "[CV 10/90] END ..............C=0.05, penalty=l1;, score=0.809 total time=   5.5s\n",
      "[CV 11/90] END ..............C=0.05, penalty=l1;, score=0.653 total time=   3.3s\n",
      "[CV 12/90] END ..............C=0.05, penalty=l1;, score=0.656 total time=  15.4s\n",
      "[CV 13/90] END ..............C=0.05, penalty=l1;, score=0.703 total time=   6.1s\n",
      "[CV 14/90] END ..............C=0.05, penalty=l1;, score=0.687 total time=   5.9s\n",
      "[CV 15/90] END ..............C=0.05, penalty=l1;, score=0.716 total time=   4.9s\n",
      "[CV 16/90] END ..............C=0.05, penalty=l1;, score=0.709 total time=   5.5s\n",
      "[CV 17/90] END ..............C=0.05, penalty=l1;, score=0.670 total time=   3.7s\n",
      "[CV 18/90] END ..............C=0.05, penalty=l1;, score=0.723 total time=   4.4s\n",
      "[CV 19/90] END ..............C=0.05, penalty=l1;, score=0.709 total time=   5.4s\n",
      "[CV 20/90] END ..............C=0.05, penalty=l1;, score=0.721 total time=   6.7s\n",
      "[CV 21/90] END ..............C=0.05, penalty=l1;, score=0.709 total time=   6.0s\n",
      "[CV 22/90] END ..............C=0.05, penalty=l1;, score=0.680 total time=   3.6s\n",
      "[CV 23/90] END ..............C=0.05, penalty=l1;, score=0.709 total time=   5.8s\n",
      "[CV 24/90] END ..............C=0.05, penalty=l1;, score=0.709 total time=   6.1s\n",
      "[CV 25/90] END ..............C=0.05, penalty=l1;, score=0.719 total time=   5.5s\n",
      "[CV 26/90] END ..............C=0.05, penalty=l1;, score=0.723 total time=   5.9s\n",
      "[CV 27/90] END ..............C=0.05, penalty=l1;, score=0.660 total time=  13.7s\n",
      "[CV 28/90] END ..............C=0.05, penalty=l1;, score=0.721 total time=   4.0s\n",
      "[CV 29/90] END ..............C=0.05, penalty=l1;, score=0.673 total time=   6.1s\n",
      "[CV 30/90] END ..............C=0.05, penalty=l1;, score=0.683 total time=   6.2s\n",
      "[CV 31/90] END ..............C=0.05, penalty=l1;, score=0.670 total time=   6.3s\n",
      "[CV 32/90] END ..............C=0.05, penalty=l1;, score=0.720 total time=   5.4s\n",
      "[CV 33/90] END ..............C=0.05, penalty=l1;, score=0.712 total time=   4.0s\n",
      "[CV 34/90] END ..............C=0.05, penalty=l1;, score=0.660 total time=   5.9s\n",
      "[CV 35/90] END ..............C=0.05, penalty=l1;, score=0.690 total time=   5.8s\n",
      "[CV 36/90] END ..............C=0.05, penalty=l1;, score=0.749 total time=   3.7s\n",
      "[CV 37/90] END ..............C=0.05, penalty=l1;, score=0.640 total time=   3.9s\n",
      "[CV 38/90] END ..............C=0.05, penalty=l1;, score=0.736 total time=   7.4s\n",
      "[CV 39/90] END ..............C=0.05, penalty=l1;, score=0.712 total time=   4.0s\n",
      "[CV 40/90] END ..............C=0.05, penalty=l1;, score=0.692 total time=   4.2s\n",
      "[CV 41/90] END ..............C=0.05, penalty=l1;, score=0.702 total time=   7.8s\n",
      "[CV 42/90] END ..............C=0.05, penalty=l1;, score=0.706 total time=   5.3s\n",
      "[CV 43/90] END ..............C=0.05, penalty=l1;, score=0.676 total time=   5.0s\n",
      "[CV 44/90] END ..............C=0.05, penalty=l1;, score=0.704 total time=   5.8s\n",
      "[CV 45/90] END ..............C=0.05, penalty=l1;, score=0.735 total time=   5.1s\n",
      "[CV 46/90] END ..............C=0.05, penalty=l1;, score=0.702 total time=   5.9s\n",
      "[CV 47/90] END ..............C=0.05, penalty=l1;, score=0.718 total time=   4.4s\n",
      "[CV 48/90] END ..............C=0.05, penalty=l1;, score=0.676 total time=   6.3s\n",
      "[CV 49/90] END ..............C=0.05, penalty=l1;, score=0.693 total time=   3.8s\n",
      "[CV 50/90] END ..............C=0.05, penalty=l1;, score=0.680 total time=   8.0s\n",
      "[CV 51/90] END ..............C=0.05, penalty=l1;, score=0.714 total time=  11.6s\n",
      "[CV 52/90] END ..............C=0.05, penalty=l1;, score=0.705 total time=   6.7s\n",
      "[CV 53/90] END ..............C=0.05, penalty=l1;, score=0.670 total time=   4.1s\n",
      "[CV 54/90] END ..............C=0.05, penalty=l1;, score=0.719 total time=   4.0s\n",
      "[CV 55/90] END ..............C=0.05, penalty=l1;, score=0.712 total time=   7.6s\n",
      "[CV 56/90] END ..............C=0.05, penalty=l1;, score=0.768 total time=   5.8s\n",
      "[CV 57/90] END ..............C=0.05, penalty=l1;, score=0.634 total time=   4.7s\n",
      "[CV 58/90] END ..............C=0.05, penalty=l1;, score=0.689 total time=   6.6s\n",
      "[CV 59/90] END ..............C=0.05, penalty=l1;, score=0.676 total time=   4.8s\n",
      "[CV 60/90] END ..............C=0.05, penalty=l1;, score=0.719 total time=   4.5s\n",
      "[CV 61/90] END ..............C=0.05, penalty=l1;, score=0.779 total time=   4.2s\n",
      "[CV 62/90] END ..............C=0.05, penalty=l1;, score=0.732 total time=   3.8s\n",
      "[CV 63/90] END ..............C=0.05, penalty=l1;, score=0.628 total time=   7.2s\n",
      "[CV 64/90] END ..............C=0.05, penalty=l1;, score=0.732 total time=   5.9s\n",
      "[CV 65/90] END ..............C=0.05, penalty=l1;, score=0.699 total time=   8.1s\n",
      "[CV 66/90] END ..............C=0.05, penalty=l1;, score=0.653 total time=   3.9s\n",
      "[CV 67/90] END ..............C=0.05, penalty=l1;, score=0.683 total time=   3.3s\n",
      "[CV 68/90] END ..............C=0.05, penalty=l1;, score=0.705 total time=   8.4s\n",
      "[CV 69/90] END ..............C=0.05, penalty=l1;, score=0.693 total time=   6.3s\n",
      "[CV 70/90] END ..............C=0.05, penalty=l1;, score=0.744 total time=   3.5s\n",
      "[CV 71/90] END ..............C=0.05, penalty=l1;, score=0.687 total time=   6.6s\n",
      "[CV 72/90] END ..............C=0.05, penalty=l1;, score=0.670 total time=   5.0s\n",
      "[CV 73/90] END ..............C=0.05, penalty=l1;, score=0.756 total time=   4.6s\n",
      "[CV 74/90] END ..............C=0.05, penalty=l1;, score=0.686 total time=   5.8s\n",
      "[CV 75/90] END ..............C=0.05, penalty=l1;, score=0.656 total time=   5.9s\n",
      "[CV 76/90] END ..............C=0.05, penalty=l1;, score=0.696 total time=   4.1s\n",
      "[CV 77/90] END ..............C=0.05, penalty=l1;, score=0.708 total time=   6.7s\n",
      "[CV 78/90] END ..............C=0.05, penalty=l1;, score=0.653 total time=   6.0s\n",
      "[CV 79/90] END ..............C=0.05, penalty=l1;, score=0.677 total time=   4.6s\n",
      "[CV 80/90] END ..............C=0.05, penalty=l1;, score=0.718 total time=   7.0s\n",
      "[CV 81/90] END ..............C=0.05, penalty=l1;, score=0.696 total time=  10.7s\n",
      "[CV 82/90] END ..............C=0.05, penalty=l1;, score=0.730 total time=   6.9s\n",
      "[CV 83/90] END ..............C=0.05, penalty=l1;, score=0.702 total time=   5.1s\n",
      "[CV 84/90] END ..............C=0.05, penalty=l1;, score=0.649 total time=   6.8s\n",
      "[CV 85/90] END ..............C=0.05, penalty=l1;, score=0.733 total time=   3.8s\n",
      "[CV 86/90] END ..............C=0.05, penalty=l1;, score=0.670 total time=   7.9s\n",
      "[CV 87/90] END ..............C=0.05, penalty=l1;, score=0.683 total time=   4.5s\n",
      "[CV 88/90] END ..............C=0.05, penalty=l1;, score=0.709 total time=   4.0s\n",
      "[CV 89/90] END ..............C=0.05, penalty=l1;, score=0.642 total time=   7.1s\n",
      "[CV 90/90] END ..............C=0.05, penalty=l1;, score=0.760 total time=   4.2s\n",
      "[CV 1/90] END ...............C=0.05, penalty=l2;, score=0.705 total time=   0.6s\n",
      "[CV 2/90] END ...............C=0.05, penalty=l2;, score=0.673 total time=   0.6s\n",
      "[CV 3/90] END ...............C=0.05, penalty=l2;, score=0.686 total time=   0.6s\n",
      "[CV 4/90] END ...............C=0.05, penalty=l2;, score=0.744 total time=   0.6s\n",
      "[CV 5/90] END ...............C=0.05, penalty=l2;, score=0.670 total time=   0.6s\n",
      "[CV 6/90] END ...............C=0.05, penalty=l2;, score=0.693 total time=   0.6s\n",
      "[CV 7/90] END ...............C=0.05, penalty=l2;, score=0.757 total time=   0.6s\n",
      "[CV 8/90] END ...............C=0.05, penalty=l2;, score=0.709 total time=   0.6s\n",
      "[CV 9/90] END ...............C=0.05, penalty=l2;, score=0.653 total time=   0.6s\n",
      "[CV 10/90] END ..............C=0.05, penalty=l2;, score=0.815 total time=   0.6s\n",
      "[CV 11/90] END ..............C=0.05, penalty=l2;, score=0.646 total time=   0.5s\n"
     ]
    },
    {
     "name": "stdout",
     "output_type": "stream",
     "text": [
      "[CV 12/90] END ..............C=0.05, penalty=l2;, score=0.656 total time=   0.6s\n",
      "[CV 13/90] END ..............C=0.05, penalty=l2;, score=0.697 total time=   0.6s\n",
      "[CV 14/90] END ..............C=0.05, penalty=l2;, score=0.663 total time=   0.6s\n",
      "[CV 15/90] END ..............C=0.05, penalty=l2;, score=0.722 total time=   0.6s\n",
      "[CV 16/90] END ..............C=0.05, penalty=l2;, score=0.709 total time=   0.6s\n",
      "[CV 17/90] END ..............C=0.05, penalty=l2;, score=0.677 total time=   0.6s\n",
      "[CV 18/90] END ..............C=0.05, penalty=l2;, score=0.710 total time=   0.6s\n",
      "[CV 19/90] END ..............C=0.05, penalty=l2;, score=0.703 total time=   0.6s\n",
      "[CV 20/90] END ..............C=0.05, penalty=l2;, score=0.756 total time=   0.6s\n",
      "[CV 21/90] END ..............C=0.05, penalty=l2;, score=0.703 total time=   0.6s\n",
      "[CV 22/90] END ..............C=0.05, penalty=l2;, score=0.686 total time=   0.6s\n",
      "[CV 23/90] END ..............C=0.05, penalty=l2;, score=0.712 total time=   0.5s\n",
      "[CV 24/90] END ..............C=0.05, penalty=l2;, score=0.709 total time=   0.6s\n",
      "[CV 25/90] END ..............C=0.05, penalty=l2;, score=0.731 total time=   0.6s\n",
      "[CV 26/90] END ..............C=0.05, penalty=l2;, score=0.723 total time=   0.6s\n",
      "[CV 27/90] END ..............C=0.05, penalty=l2;, score=0.653 total time=   0.5s\n",
      "[CV 28/90] END ..............C=0.05, penalty=l2;, score=0.724 total time=   0.6s\n",
      "[CV 29/90] END ..............C=0.05, penalty=l2;, score=0.667 total time=   0.6s\n",
      "[CV 30/90] END ..............C=0.05, penalty=l2;, score=0.670 total time=   0.6s\n",
      "[CV 31/90] END ..............C=0.05, penalty=l2;, score=0.670 total time=   0.6s\n",
      "[CV 32/90] END ..............C=0.05, penalty=l2;, score=0.737 total time=   0.6s\n",
      "[CV 33/90] END ..............C=0.05, penalty=l2;, score=0.718 total time=   0.6s\n",
      "[CV 34/90] END ..............C=0.05, penalty=l2;, score=0.660 total time=   0.6s\n",
      "[CV 35/90] END ..............C=0.05, penalty=l2;, score=0.683 total time=   0.5s\n",
      "[CV 36/90] END ..............C=0.05, penalty=l2;, score=0.737 total time=   0.6s\n",
      "[CV 37/90] END ..............C=0.05, penalty=l2;, score=0.640 total time=   0.6s\n",
      "[CV 38/90] END ..............C=0.05, penalty=l2;, score=0.753 total time=   0.6s\n",
      "[CV 39/90] END ..............C=0.05, penalty=l2;, score=0.712 total time=   0.6s\n",
      "[CV 40/90] END ..............C=0.05, penalty=l2;, score=0.686 total time=   0.6s\n",
      "[CV 41/90] END ..............C=0.05, penalty=l2;, score=0.714 total time=   0.6s\n",
      "[CV 42/90] END ..............C=0.05, penalty=l2;, score=0.700 total time=   0.5s\n",
      "[CV 43/90] END ..............C=0.05, penalty=l2;, score=0.683 total time=   0.6s\n",
      "[CV 44/90] END ..............C=0.05, penalty=l2;, score=0.704 total time=   0.6s\n",
      "[CV 45/90] END ..............C=0.05, penalty=l2;, score=0.731 total time=   0.6s\n",
      "[CV 46/90] END ..............C=0.05, penalty=l2;, score=0.705 total time=   0.6s\n",
      "[CV 47/90] END ..............C=0.05, penalty=l2;, score=0.720 total time=   0.6s\n",
      "[CV 48/90] END ..............C=0.05, penalty=l2;, score=0.683 total time=   0.5s\n",
      "[CV 49/90] END ..............C=0.05, penalty=l2;, score=0.699 total time=   0.5s\n",
      "[CV 50/90] END ..............C=0.05, penalty=l2;, score=0.680 total time=   0.6s\n",
      "[CV 51/90] END ..............C=0.05, penalty=l2;, score=0.726 total time=   0.6s\n",
      "[CV 52/90] END ..............C=0.05, penalty=l2;, score=0.712 total time=   0.6s\n",
      "[CV 53/90] END ..............C=0.05, penalty=l2;, score=0.680 total time=   0.5s\n",
      "[CV 54/90] END ..............C=0.05, penalty=l2;, score=0.719 total time=   0.6s\n",
      "[CV 55/90] END ..............C=0.05, penalty=l2;, score=0.706 total time=   0.5s\n",
      "[CV 56/90] END ..............C=0.05, penalty=l2;, score=0.762 total time=   0.6s\n",
      "[CV 57/90] END ..............C=0.05, penalty=l2;, score=0.647 total time=   0.5s\n",
      "[CV 58/90] END ..............C=0.05, penalty=l2;, score=0.696 total time=   0.6s\n",
      "[CV 59/90] END ..............C=0.05, penalty=l2;, score=0.692 total time=   0.6s\n",
      "[CV 60/90] END ..............C=0.05, penalty=l2;, score=0.709 total time=   0.6s\n",
      "[CV 61/90] END ..............C=0.05, penalty=l2;, score=0.795 total time=   0.6s\n",
      "[CV 62/90] END ..............C=0.05, penalty=l2;, score=0.726 total time=   0.6s\n",
      "[CV 63/90] END ..............C=0.05, penalty=l2;, score=0.628 total time=   0.6s\n",
      "[CV 64/90] END ..............C=0.05, penalty=l2;, score=0.748 total time=   0.6s\n",
      "[CV 65/90] END ..............C=0.05, penalty=l2;, score=0.695 total time=   0.6s\n",
      "[CV 66/90] END ..............C=0.05, penalty=l2;, score=0.646 total time=   0.6s\n",
      "[CV 67/90] END ..............C=0.05, penalty=l2;, score=0.708 total time=   0.6s\n",
      "[CV 68/90] END ..............C=0.05, penalty=l2;, score=0.689 total time=   0.6s\n",
      "[CV 69/90] END ..............C=0.05, penalty=l2;, score=0.712 total time=   0.6s\n",
      "[CV 70/90] END ..............C=0.05, penalty=l2;, score=0.738 total time=   0.6s\n",
      "[CV 71/90] END ..............C=0.05, penalty=l2;, score=0.701 total time=   0.6s\n",
      "[CV 72/90] END ..............C=0.05, penalty=l2;, score=0.663 total time=   0.6s\n",
      "[CV 73/90] END ..............C=0.05, penalty=l2;, score=0.761 total time=   0.6s\n",
      "[CV 74/90] END ..............C=0.05, penalty=l2;, score=0.679 total time=   0.6s\n",
      "[CV 75/90] END ..............C=0.05, penalty=l2;, score=0.670 total time=   0.6s\n",
      "[CV 76/90] END ..............C=0.05, penalty=l2;, score=0.696 total time=   0.5s\n",
      "[CV 77/90] END ..............C=0.05, penalty=l2;, score=0.718 total time=   0.6s\n",
      "[CV 78/90] END ..............C=0.05, penalty=l2;, score=0.673 total time=   0.5s\n",
      "[CV 79/90] END ..............C=0.05, penalty=l2;, score=0.683 total time=   0.6s\n",
      "[CV 80/90] END ..............C=0.05, penalty=l2;, score=0.730 total time=   0.6s\n",
      "[CV 81/90] END ..............C=0.05, penalty=l2;, score=0.702 total time=   0.6s\n",
      "[CV 82/90] END ..............C=0.05, penalty=l2;, score=0.744 total time=   0.6s\n",
      "[CV 83/90] END ..............C=0.05, penalty=l2;, score=0.702 total time=   0.6s\n",
      "[CV 84/90] END ..............C=0.05, penalty=l2;, score=0.642 total time=   0.6s\n",
      "[CV 85/90] END ..............C=0.05, penalty=l2;, score=0.739 total time=   0.6s\n",
      "[CV 86/90] END ..............C=0.05, penalty=l2;, score=0.677 total time=   0.6s\n",
      "[CV 87/90] END ..............C=0.05, penalty=l2;, score=0.683 total time=   0.6s\n",
      "[CV 88/90] END ..............C=0.05, penalty=l2;, score=0.715 total time=   0.6s\n",
      "[CV 89/90] END ..............C=0.05, penalty=l2;, score=0.642 total time=   0.5s\n",
      "[CV 90/90] END ..............C=0.05, penalty=l2;, score=0.757 total time=   0.6s\n",
      "[CV 1/90] END ................C=0.1, penalty=l1;, score=0.712 total time=  13.8s\n",
      "[CV 2/90] END ................C=0.1, penalty=l1;, score=0.673 total time=   6.4s\n",
      "[CV 3/90] END ................C=0.1, penalty=l1;, score=0.683 total time=   4.2s\n",
      "[CV 4/90] END ................C=0.1, penalty=l1;, score=0.750 total time=   7.3s\n",
      "[CV 5/90] END ................C=0.1, penalty=l1;, score=0.670 total time=   5.6s\n",
      "[CV 6/90] END ................C=0.1, penalty=l1;, score=0.699 total time=   7.8s\n",
      "[CV 7/90] END ................C=0.1, penalty=l1;, score=0.746 total time=   6.6s\n",
      "[CV 8/90] END ................C=0.1, penalty=l1;, score=0.722 total time=   7.6s\n",
      "[CV 9/90] END ................C=0.1, penalty=l1;, score=0.646 total time=  11.0s\n",
      "[CV 10/90] END ...............C=0.1, penalty=l1;, score=0.805 total time=   7.2s\n",
      "[CV 11/90] END ...............C=0.1, penalty=l1;, score=0.646 total time=   5.0s\n"
     ]
    },
    {
     "name": "stderr",
     "output_type": "stream",
     "text": [
      "/home/gustavo/anaconda3/lib/python3.10/site-packages/sklearn/svm/_base.py:1244: ConvergenceWarning: Liblinear failed to converge, increase the number of iterations.\n",
      "  warnings.warn(\n"
     ]
    },
    {
     "name": "stdout",
     "output_type": "stream",
     "text": [
      "[CV 12/90] END ...............C=0.1, penalty=l1;, score=0.656 total time=  18.1s\n",
      "[CV 13/90] END ...............C=0.1, penalty=l1;, score=0.697 total time=   5.9s\n",
      "[CV 14/90] END ...............C=0.1, penalty=l1;, score=0.663 total time=   7.4s\n",
      "[CV 15/90] END ...............C=0.1, penalty=l1;, score=0.722 total time=   8.2s\n",
      "[CV 16/90] END ...............C=0.1, penalty=l1;, score=0.709 total time=  10.6s\n",
      "[CV 17/90] END ...............C=0.1, penalty=l1;, score=0.677 total time=   8.1s\n",
      "[CV 18/90] END ...............C=0.1, penalty=l1;, score=0.720 total time=   7.8s\n",
      "[CV 19/90] END ...............C=0.1, penalty=l1;, score=0.709 total time=   7.8s\n",
      "[CV 20/90] END ...............C=0.1, penalty=l1;, score=0.733 total time=   5.5s\n",
      "[CV 21/90] END ...............C=0.1, penalty=l1;, score=0.703 total time=   5.2s\n",
      "[CV 22/90] END ...............C=0.1, penalty=l1;, score=0.686 total time=   5.7s\n",
      "[CV 23/90] END ...............C=0.1, penalty=l1;, score=0.712 total time=   7.3s\n",
      "[CV 24/90] END ...............C=0.1, penalty=l1;, score=0.715 total time=   6.5s\n",
      "[CV 25/90] END ...............C=0.1, penalty=l1;, score=0.725 total time=   5.9s\n",
      "[CV 26/90] END ...............C=0.1, penalty=l1;, score=0.729 total time=   6.2s\n"
     ]
    },
    {
     "name": "stderr",
     "output_type": "stream",
     "text": [
      "/home/gustavo/anaconda3/lib/python3.10/site-packages/sklearn/svm/_base.py:1244: ConvergenceWarning: Liblinear failed to converge, increase the number of iterations.\n",
      "  warnings.warn(\n"
     ]
    },
    {
     "name": "stdout",
     "output_type": "stream",
     "text": [
      "[CV 27/90] END ...............C=0.1, penalty=l1;, score=0.653 total time=  15.5s\n",
      "[CV 28/90] END ...............C=0.1, penalty=l1;, score=0.727 total time=   7.5s\n",
      "[CV 29/90] END ...............C=0.1, penalty=l1;, score=0.673 total time=  11.6s\n",
      "[CV 30/90] END ...............C=0.1, penalty=l1;, score=0.670 total time=   5.9s\n",
      "[CV 31/90] END ...............C=0.1, penalty=l1;, score=0.670 total time=   5.8s\n",
      "[CV 32/90] END ...............C=0.1, penalty=l1;, score=0.708 total time=   6.2s\n",
      "[CV 33/90] END ...............C=0.1, penalty=l1;, score=0.718 total time=   7.4s\n",
      "[CV 34/90] END ...............C=0.1, penalty=l1;, score=0.660 total time=   6.4s\n",
      "[CV 35/90] END ...............C=0.1, penalty=l1;, score=0.686 total time=   6.9s\n",
      "[CV 36/90] END ...............C=0.1, penalty=l1;, score=0.743 total time=   4.6s\n",
      "[CV 37/90] END ...............C=0.1, penalty=l1;, score=0.640 total time=   5.5s\n",
      "[CV 38/90] END ...............C=0.1, penalty=l1;, score=0.742 total time=   8.1s\n",
      "[CV 39/90] END ...............C=0.1, penalty=l1;, score=0.712 total time=   7.9s\n",
      "[CV 40/90] END ...............C=0.1, penalty=l1;, score=0.689 total time=   5.7s\n",
      "[CV 41/90] END ...............C=0.1, penalty=l1;, score=0.708 total time=   6.4s\n",
      "[CV 42/90] END ...............C=0.1, penalty=l1;, score=0.706 total time=   5.1s\n",
      "[CV 43/90] END ...............C=0.1, penalty=l1;, score=0.689 total time=   5.5s\n",
      "[CV 44/90] END ...............C=0.1, penalty=l1;, score=0.704 total time=   5.5s\n",
      "[CV 45/90] END ...............C=0.1, penalty=l1;, score=0.729 total time=  10.4s\n",
      "[CV 46/90] END ...............C=0.1, penalty=l1;, score=0.699 total time=  11.2s\n",
      "[CV 47/90] END ...............C=0.1, penalty=l1;, score=0.718 total time=   8.0s\n",
      "[CV 48/90] END ...............C=0.1, penalty=l1;, score=0.676 total time=   7.7s\n",
      "[CV 49/90] END ...............C=0.1, penalty=l1;, score=0.699 total time=   4.1s\n",
      "[CV 50/90] END ...............C=0.1, penalty=l1;, score=0.680 total time=   7.2s\n"
     ]
    },
    {
     "name": "stderr",
     "output_type": "stream",
     "text": [
      "/home/gustavo/anaconda3/lib/python3.10/site-packages/sklearn/svm/_base.py:1244: ConvergenceWarning: Liblinear failed to converge, increase the number of iterations.\n",
      "  warnings.warn(\n"
     ]
    },
    {
     "name": "stdout",
     "output_type": "stream",
     "text": [
      "[CV 51/90] END ...............C=0.1, penalty=l1;, score=0.726 total time=  17.6s\n",
      "[CV 52/90] END ...............C=0.1, penalty=l1;, score=0.699 total time=   7.5s\n",
      "[CV 53/90] END ...............C=0.1, penalty=l1;, score=0.673 total time=   9.3s\n",
      "[CV 54/90] END ...............C=0.1, penalty=l1;, score=0.719 total time=  13.0s\n",
      "[CV 55/90] END ...............C=0.1, penalty=l1;, score=0.706 total time=   8.5s\n",
      "[CV 56/90] END ...............C=0.1, penalty=l1;, score=0.762 total time=   9.4s\n",
      "[CV 57/90] END ...............C=0.1, penalty=l1;, score=0.634 total time=   7.7s\n",
      "[CV 58/90] END ...............C=0.1, penalty=l1;, score=0.686 total time=   6.5s\n",
      "[CV 59/90] END ...............C=0.1, penalty=l1;, score=0.689 total time=   6.7s\n",
      "[CV 60/90] END ...............C=0.1, penalty=l1;, score=0.713 total time=   9.0s\n",
      "[CV 61/90] END ...............C=0.1, penalty=l1;, score=0.779 total time=   7.1s\n",
      "[CV 62/90] END ...............C=0.1, penalty=l1;, score=0.732 total time=   5.9s\n",
      "[CV 63/90] END ...............C=0.1, penalty=l1;, score=0.628 total time=   7.7s\n",
      "[CV 64/90] END ...............C=0.1, penalty=l1;, score=0.748 total time=  13.1s\n",
      "[CV 65/90] END ...............C=0.1, penalty=l1;, score=0.686 total time=   6.7s\n",
      "[CV 66/90] END ...............C=0.1, penalty=l1;, score=0.646 total time=   6.7s\n",
      "[CV 67/90] END ...............C=0.1, penalty=l1;, score=0.696 total time=   6.3s\n",
      "[CV 68/90] END ...............C=0.1, penalty=l1;, score=0.693 total time=   7.6s\n",
      "[CV 69/90] END ...............C=0.1, penalty=l1;, score=0.700 total time=   6.2s\n",
      "[CV 70/90] END ...............C=0.1, penalty=l1;, score=0.744 total time=   5.5s\n",
      "[CV 71/90] END ...............C=0.1, penalty=l1;, score=0.701 total time=   5.6s\n",
      "[CV 72/90] END ...............C=0.1, penalty=l1;, score=0.663 total time=   8.1s\n",
      "[CV 73/90] END ...............C=0.1, penalty=l1;, score=0.767 total time=   5.1s\n",
      "[CV 74/90] END ...............C=0.1, penalty=l1;, score=0.679 total time=   8.9s\n",
      "[CV 75/90] END ...............C=0.1, penalty=l1;, score=0.670 total time=   5.4s\n",
      "[CV 76/90] END ...............C=0.1, penalty=l1;, score=0.696 total time=   5.4s\n",
      "[CV 77/90] END ...............C=0.1, penalty=l1;, score=0.712 total time=   9.0s\n",
      "[CV 78/90] END ...............C=0.1, penalty=l1;, score=0.667 total time=   6.0s\n",
      "[CV 79/90] END ...............C=0.1, penalty=l1;, score=0.677 total time=   8.2s\n",
      "[CV 80/90] END ...............C=0.1, penalty=l1;, score=0.724 total time=   6.7s\n"
     ]
    },
    {
     "name": "stderr",
     "output_type": "stream",
     "text": [
      "/home/gustavo/anaconda3/lib/python3.10/site-packages/sklearn/svm/_base.py:1244: ConvergenceWarning: Liblinear failed to converge, increase the number of iterations.\n",
      "  warnings.warn(\n"
     ]
    },
    {
     "name": "stdout",
     "output_type": "stream",
     "text": [
      "[CV 81/90] END ...............C=0.1, penalty=l1;, score=0.702 total time=  17.0s\n",
      "[CV 82/90] END ...............C=0.1, penalty=l1;, score=0.738 total time=   7.6s\n",
      "[CV 83/90] END ...............C=0.1, penalty=l1;, score=0.696 total time=   4.3s\n",
      "[CV 84/90] END ...............C=0.1, penalty=l1;, score=0.642 total time=   6.2s\n",
      "[CV 85/90] END ...............C=0.1, penalty=l1;, score=0.739 total time=   7.7s\n",
      "[CV 86/90] END ...............C=0.1, penalty=l1;, score=0.677 total time=   6.7s\n",
      "[CV 87/90] END ...............C=0.1, penalty=l1;, score=0.683 total time=   5.6s\n",
      "[CV 88/90] END ...............C=0.1, penalty=l1;, score=0.715 total time=   8.2s\n",
      "[CV 89/90] END ...............C=0.1, penalty=l1;, score=0.642 total time=   4.5s\n",
      "[CV 90/90] END ...............C=0.1, penalty=l1;, score=0.760 total time=   5.7s\n",
      "[CV 1/90] END ................C=0.1, penalty=l2;, score=0.705 total time=   0.6s\n",
      "[CV 2/90] END ................C=0.1, penalty=l2;, score=0.673 total time=   0.6s\n",
      "[CV 3/90] END ................C=0.1, penalty=l2;, score=0.686 total time=   0.6s\n",
      "[CV 4/90] END ................C=0.1, penalty=l2;, score=0.744 total time=   0.6s\n",
      "[CV 5/90] END ................C=0.1, penalty=l2;, score=0.667 total time=   0.5s\n",
      "[CV 6/90] END ................C=0.1, penalty=l2;, score=0.693 total time=   0.6s\n",
      "[CV 7/90] END ................C=0.1, penalty=l2;, score=0.757 total time=   0.6s\n",
      "[CV 8/90] END ................C=0.1, penalty=l2;, score=0.709 total time=   0.6s\n",
      "[CV 9/90] END ................C=0.1, penalty=l2;, score=0.653 total time=   0.6s\n",
      "[CV 10/90] END ...............C=0.1, penalty=l2;, score=0.815 total time=   0.6s\n",
      "[CV 11/90] END ...............C=0.1, penalty=l2;, score=0.650 total time=   0.5s\n",
      "[CV 12/90] END ...............C=0.1, penalty=l2;, score=0.656 total time=   0.6s\n",
      "[CV 13/90] END ...............C=0.1, penalty=l2;, score=0.697 total time=   0.6s\n",
      "[CV 14/90] END ...............C=0.1, penalty=l2;, score=0.657 total time=   0.6s\n",
      "[CV 15/90] END ...............C=0.1, penalty=l2;, score=0.722 total time=   0.5s\n",
      "[CV 16/90] END ...............C=0.1, penalty=l2;, score=0.709 total time=   0.6s\n",
      "[CV 17/90] END ...............C=0.1, penalty=l2;, score=0.690 total time=   0.6s\n",
      "[CV 18/90] END ...............C=0.1, penalty=l2;, score=0.716 total time=   0.6s\n",
      "[CV 19/90] END ...............C=0.1, penalty=l2;, score=0.703 total time=   0.6s\n",
      "[CV 20/90] END ...............C=0.1, penalty=l2;, score=0.756 total time=   0.6s\n",
      "[CV 21/90] END ...............C=0.1, penalty=l2;, score=0.703 total time=   0.6s\n",
      "[CV 22/90] END ...............C=0.1, penalty=l2;, score=0.686 total time=   0.5s\n",
      "[CV 23/90] END ...............C=0.1, penalty=l2;, score=0.712 total time=   0.5s\n",
      "[CV 24/90] END ...............C=0.1, penalty=l2;, score=0.709 total time=   0.6s\n",
      "[CV 25/90] END ...............C=0.1, penalty=l2;, score=0.725 total time=   0.6s\n",
      "[CV 26/90] END ...............C=0.1, penalty=l2;, score=0.723 total time=   0.6s\n",
      "[CV 27/90] END ...............C=0.1, penalty=l2;, score=0.653 total time=   0.6s\n",
      "[CV 28/90] END ...............C=0.1, penalty=l2;, score=0.730 total time=   0.5s\n",
      "[CV 29/90] END ...............C=0.1, penalty=l2;, score=0.673 total time=   0.6s\n",
      "[CV 30/90] END ...............C=0.1, penalty=l2;, score=0.677 total time=   0.6s\n",
      "[CV 31/90] END ...............C=0.1, penalty=l2;, score=0.667 total time=   0.6s\n",
      "[CV 32/90] END ...............C=0.1, penalty=l2;, score=0.737 total time=   0.6s\n",
      "[CV 33/90] END ...............C=0.1, penalty=l2;, score=0.725 total time=   0.6s\n",
      "[CV 34/90] END ...............C=0.1, penalty=l2;, score=0.660 total time=   0.6s\n",
      "[CV 35/90] END ...............C=0.1, penalty=l2;, score=0.680 total time=   0.5s\n",
      "[CV 36/90] END ...............C=0.1, penalty=l2;, score=0.737 total time=   0.6s\n",
      "[CV 37/90] END ...............C=0.1, penalty=l2;, score=0.640 total time=   0.6s\n",
      "[CV 38/90] END ...............C=0.1, penalty=l2;, score=0.753 total time=   0.6s\n",
      "[CV 39/90] END ...............C=0.1, penalty=l2;, score=0.712 total time=   0.6s\n",
      "[CV 40/90] END ...............C=0.1, penalty=l2;, score=0.692 total time=   0.6s\n",
      "[CV 41/90] END ...............C=0.1, penalty=l2;, score=0.717 total time=   0.6s\n",
      "[CV 42/90] END ...............C=0.1, penalty=l2;, score=0.700 total time=   0.6s\n",
      "[CV 43/90] END ...............C=0.1, penalty=l2;, score=0.695 total time=   0.5s\n",
      "[CV 44/90] END ...............C=0.1, penalty=l2;, score=0.704 total time=   0.6s\n",
      "[CV 45/90] END ...............C=0.1, penalty=l2;, score=0.731 total time=   0.6s\n",
      "[CV 46/90] END ...............C=0.1, penalty=l2;, score=0.699 total time=   0.6s\n",
      "[CV 47/90] END ...............C=0.1, penalty=l2;, score=0.720 total time=   0.6s\n",
      "[CV 48/90] END ...............C=0.1, penalty=l2;, score=0.683 total time=   0.5s\n",
      "[CV 49/90] END ...............C=0.1, penalty=l2;, score=0.699 total time=   0.5s\n",
      "[CV 50/90] END ...............C=0.1, penalty=l2;, score=0.680 total time=   0.6s\n",
      "[CV 51/90] END ...............C=0.1, penalty=l2;, score=0.726 total time=   0.6s\n",
      "[CV 52/90] END ...............C=0.1, penalty=l2;, score=0.712 total time=   0.6s\n",
      "[CV 53/90] END ...............C=0.1, penalty=l2;, score=0.680 total time=   0.5s\n",
      "[CV 54/90] END ...............C=0.1, penalty=l2;, score=0.713 total time=   0.6s\n",
      "[CV 55/90] END ...............C=0.1, penalty=l2;, score=0.706 total time=   0.6s\n",
      "[CV 56/90] END ...............C=0.1, penalty=l2;, score=0.762 total time=   0.6s\n",
      "[CV 57/90] END ...............C=0.1, penalty=l2;, score=0.654 total time=   0.6s\n",
      "[CV 58/90] END ...............C=0.1, penalty=l2;, score=0.696 total time=   0.6s\n",
      "[CV 59/90] END ...............C=0.1, penalty=l2;, score=0.692 total time=   0.6s\n",
      "[CV 60/90] END ...............C=0.1, penalty=l2;, score=0.703 total time=   0.5s\n",
      "[CV 61/90] END ...............C=0.1, penalty=l2;, score=0.795 total time=   0.6s\n",
      "[CV 62/90] END ...............C=0.1, penalty=l2;, score=0.726 total time=   0.6s\n",
      "[CV 63/90] END ...............C=0.1, penalty=l2;, score=0.635 total time=   0.6s\n",
      "[CV 64/90] END ...............C=0.1, penalty=l2;, score=0.748 total time=   0.6s\n",
      "[CV 65/90] END ...............C=0.1, penalty=l2;, score=0.701 total time=   0.6s\n",
      "[CV 66/90] END ...............C=0.1, penalty=l2;, score=0.646 total time=   0.6s\n",
      "[CV 67/90] END ...............C=0.1, penalty=l2;, score=0.714 total time=   0.6s\n",
      "[CV 68/90] END ...............C=0.1, penalty=l2;, score=0.689 total time=   0.6s\n",
      "[CV 69/90] END ...............C=0.1, penalty=l2;, score=0.712 total time=   0.6s\n",
      "[CV 70/90] END ...............C=0.1, penalty=l2;, score=0.738 total time=   0.6s\n",
      "[CV 71/90] END ...............C=0.1, penalty=l2;, score=0.701 total time=   0.6s\n",
      "[CV 72/90] END ...............C=0.1, penalty=l2;, score=0.670 total time=   0.6s\n",
      "[CV 73/90] END ...............C=0.1, penalty=l2;, score=0.767 total time=   0.6s\n",
      "[CV 74/90] END ...............C=0.1, penalty=l2;, score=0.679 total time=   0.6s\n",
      "[CV 75/90] END ...............C=0.1, penalty=l2;, score=0.677 total time=   0.6s\n",
      "[CV 76/90] END ...............C=0.1, penalty=l2;, score=0.702 total time=   0.5s\n",
      "[CV 77/90] END ...............C=0.1, penalty=l2;, score=0.730 total time=   0.6s\n",
      "[CV 78/90] END ...............C=0.1, penalty=l2;, score=0.673 total time=   0.6s\n",
      "[CV 79/90] END ...............C=0.1, penalty=l2;, score=0.690 total time=   0.6s\n",
      "[CV 80/90] END ...............C=0.1, penalty=l2;, score=0.736 total time=   0.5s\n",
      "[CV 81/90] END ...............C=0.1, penalty=l2;, score=0.702 total time=   0.6s\n",
      "[CV 82/90] END ...............C=0.1, penalty=l2;, score=0.744 total time=   0.5s\n",
      "[CV 83/90] END ...............C=0.1, penalty=l2;, score=0.702 total time=   0.6s\n",
      "[CV 84/90] END ...............C=0.1, penalty=l2;, score=0.649 total time=   0.6s\n",
      "[CV 85/90] END ...............C=0.1, penalty=l2;, score=0.739 total time=   0.6s\n",
      "[CV 86/90] END ...............C=0.1, penalty=l2;, score=0.690 total time=   0.6s\n",
      "[CV 87/90] END ...............C=0.1, penalty=l2;, score=0.683 total time=   0.6s\n",
      "[CV 88/90] END ...............C=0.1, penalty=l2;, score=0.721 total time=   0.5s\n",
      "[CV 89/90] END ...............C=0.1, penalty=l2;, score=0.639 total time=   0.6s\n",
      "[CV 90/90] END ...............C=0.1, penalty=l2;, score=0.757 total time=   0.6s\n"
     ]
    },
    {
     "data": {
      "text/html": [
       "<style>#sk-container-id-2 {color: black;background-color: white;}#sk-container-id-2 pre{padding: 0;}#sk-container-id-2 div.sk-toggleable {background-color: white;}#sk-container-id-2 label.sk-toggleable__label {cursor: pointer;display: block;width: 100%;margin-bottom: 0;padding: 0.3em;box-sizing: border-box;text-align: center;}#sk-container-id-2 label.sk-toggleable__label-arrow:before {content: \"▸\";float: left;margin-right: 0.25em;color: #696969;}#sk-container-id-2 label.sk-toggleable__label-arrow:hover:before {color: black;}#sk-container-id-2 div.sk-estimator:hover label.sk-toggleable__label-arrow:before {color: black;}#sk-container-id-2 div.sk-toggleable__content {max-height: 0;max-width: 0;overflow: hidden;text-align: left;background-color: #f0f8ff;}#sk-container-id-2 div.sk-toggleable__content pre {margin: 0.2em;color: black;border-radius: 0.25em;background-color: #f0f8ff;}#sk-container-id-2 input.sk-toggleable__control:checked~div.sk-toggleable__content {max-height: 200px;max-width: 100%;overflow: auto;}#sk-container-id-2 input.sk-toggleable__control:checked~label.sk-toggleable__label-arrow:before {content: \"▾\";}#sk-container-id-2 div.sk-estimator input.sk-toggleable__control:checked~label.sk-toggleable__label {background-color: #d4ebff;}#sk-container-id-2 div.sk-label input.sk-toggleable__control:checked~label.sk-toggleable__label {background-color: #d4ebff;}#sk-container-id-2 input.sk-hidden--visually {border: 0;clip: rect(1px 1px 1px 1px);clip: rect(1px, 1px, 1px, 1px);height: 1px;margin: -1px;overflow: hidden;padding: 0;position: absolute;width: 1px;}#sk-container-id-2 div.sk-estimator {font-family: monospace;background-color: #f0f8ff;border: 1px dotted black;border-radius: 0.25em;box-sizing: border-box;margin-bottom: 0.5em;}#sk-container-id-2 div.sk-estimator:hover {background-color: #d4ebff;}#sk-container-id-2 div.sk-parallel-item::after {content: \"\";width: 100%;border-bottom: 1px solid gray;flex-grow: 1;}#sk-container-id-2 div.sk-label:hover label.sk-toggleable__label {background-color: #d4ebff;}#sk-container-id-2 div.sk-serial::before {content: \"\";position: absolute;border-left: 1px solid gray;box-sizing: border-box;top: 0;bottom: 0;left: 50%;z-index: 0;}#sk-container-id-2 div.sk-serial {display: flex;flex-direction: column;align-items: center;background-color: white;padding-right: 0.2em;padding-left: 0.2em;position: relative;}#sk-container-id-2 div.sk-item {position: relative;z-index: 1;}#sk-container-id-2 div.sk-parallel {display: flex;align-items: stretch;justify-content: center;background-color: white;position: relative;}#sk-container-id-2 div.sk-item::before, #sk-container-id-2 div.sk-parallel-item::before {content: \"\";position: absolute;border-left: 1px solid gray;box-sizing: border-box;top: 0;bottom: 0;left: 50%;z-index: -1;}#sk-container-id-2 div.sk-parallel-item {display: flex;flex-direction: column;z-index: 1;position: relative;background-color: white;}#sk-container-id-2 div.sk-parallel-item:first-child::after {align-self: flex-end;width: 50%;}#sk-container-id-2 div.sk-parallel-item:last-child::after {align-self: flex-start;width: 50%;}#sk-container-id-2 div.sk-parallel-item:only-child::after {width: 0;}#sk-container-id-2 div.sk-dashed-wrapped {border: 1px dashed gray;margin: 0 0.4em 0.5em 0.4em;box-sizing: border-box;padding-bottom: 0.4em;background-color: white;}#sk-container-id-2 div.sk-label label {font-family: monospace;font-weight: bold;display: inline-block;line-height: 1.2em;}#sk-container-id-2 div.sk-label-container {text-align: center;}#sk-container-id-2 div.sk-container {/* jupyter's `normalize.less` sets `[hidden] { display: none; }` but bootstrap.min.css set `[hidden] { display: none !important; }` so we also need the `!important` here to be able to override the default hidden behavior on the sphinx rendered scikit-learn.org. See: https://github.com/scikit-learn/scikit-learn/issues/21755 */display: inline-block !important;position: relative;}#sk-container-id-2 div.sk-text-repr-fallback {display: none;}</style><div id=\"sk-container-id-2\" class=\"sk-top-container\"><div class=\"sk-text-repr-fallback\"><pre>GridSearchCV(cv=RepeatedStratifiedKFold(n_repeats=30, n_splits=3, random_state=0),\n",
       "             estimator=LinearSVC(dual=False,\n",
       "                                 random_state=RandomState(MT19937) at 0x7F2784BC3840),\n",
       "             param_grid={&#x27;C&#x27;: [0.05, 0.1], &#x27;penalty&#x27;: (&#x27;l1&#x27;, &#x27;l2&#x27;)},\n",
       "             scoring=&#x27;f1&#x27;, verbose=3)</pre><b>In a Jupyter environment, please rerun this cell to show the HTML representation or trust the notebook. <br />On GitHub, the HTML representation is unable to render, please try loading this page with nbviewer.org.</b></div><div class=\"sk-container\" hidden><div class=\"sk-item sk-dashed-wrapped\"><div class=\"sk-label-container\"><div class=\"sk-label sk-toggleable\"><input class=\"sk-toggleable__control sk-hidden--visually\" id=\"sk-estimator-id-4\" type=\"checkbox\" ><label for=\"sk-estimator-id-4\" class=\"sk-toggleable__label sk-toggleable__label-arrow\">GridSearchCV</label><div class=\"sk-toggleable__content\"><pre>GridSearchCV(cv=RepeatedStratifiedKFold(n_repeats=30, n_splits=3, random_state=0),\n",
       "             estimator=LinearSVC(dual=False,\n",
       "                                 random_state=RandomState(MT19937) at 0x7F2784BC3840),\n",
       "             param_grid={&#x27;C&#x27;: [0.05, 0.1], &#x27;penalty&#x27;: (&#x27;l1&#x27;, &#x27;l2&#x27;)},\n",
       "             scoring=&#x27;f1&#x27;, verbose=3)</pre></div></div></div><div class=\"sk-parallel\"><div class=\"sk-parallel-item\"><div class=\"sk-item\"><div class=\"sk-label-container\"><div class=\"sk-label sk-toggleable\"><input class=\"sk-toggleable__control sk-hidden--visually\" id=\"sk-estimator-id-5\" type=\"checkbox\" ><label for=\"sk-estimator-id-5\" class=\"sk-toggleable__label sk-toggleable__label-arrow\">estimator: LinearSVC</label><div class=\"sk-toggleable__content\"><pre>LinearSVC(dual=False, random_state=RandomState(MT19937) at 0x7F2784BC3840)</pre></div></div></div><div class=\"sk-serial\"><div class=\"sk-item\"><div class=\"sk-estimator sk-toggleable\"><input class=\"sk-toggleable__control sk-hidden--visually\" id=\"sk-estimator-id-6\" type=\"checkbox\" ><label for=\"sk-estimator-id-6\" class=\"sk-toggleable__label sk-toggleable__label-arrow\">LinearSVC</label><div class=\"sk-toggleable__content\"><pre>LinearSVC(dual=False, random_state=RandomState(MT19937) at 0x7F2784BC3840)</pre></div></div></div></div></div></div></div></div></div></div>"
      ],
      "text/plain": [
       "GridSearchCV(cv=RepeatedStratifiedKFold(n_repeats=30, n_splits=3, random_state=0),\n",
       "             estimator=LinearSVC(dual=False,\n",
       "                                 random_state=RandomState(MT19937) at 0x7F2784BC3840),\n",
       "             param_grid={'C': [0.05, 0.1], 'penalty': ('l1', 'l2')},\n",
       "             scoring='f1', verbose=3)"
      ]
     },
     "execution_count": 12,
     "metadata": {},
     "output_type": "execute_result"
    }
   ],
   "source": [
    "parameters = {'penalty':('l1', 'l2'), \n",
    "              'C':[0.05, 0.1]\n",
    "             }\n",
    "\n",
    "lsvc = LinearSVC(dual=False, random_state=rng)\n",
    "\n",
    "cv = RepeatedStratifiedKFold(n_splits=3, n_repeats=30, random_state=0)\n",
    "\n",
    "search = GridSearchCV(estimator=lsvc, param_grid=parameters, scoring=\"f1\", cv=cv, verbose=3)\n",
    "\n",
    "search.fit(X_train, y_train)"
   ]
  },
  {
   "cell_type": "code",
   "execution_count": 13,
   "id": "d642bf5a",
   "metadata": {},
   "outputs": [],
   "source": [
    "results = pd.DataFrame(data=search.cv_results_)"
   ]
  },
  {
   "cell_type": "code",
   "execution_count": 39,
   "id": "81edc8bc",
   "metadata": {},
   "outputs": [
    {
     "data": {
      "text/html": [
       "<div>\n",
       "<style scoped>\n",
       "    .dataframe tbody tr th:only-of-type {\n",
       "        vertical-align: middle;\n",
       "    }\n",
       "\n",
       "    .dataframe tbody tr th {\n",
       "        vertical-align: top;\n",
       "    }\n",
       "\n",
       "    .dataframe thead th {\n",
       "        text-align: right;\n",
       "    }\n",
       "</style>\n",
       "<table border=\"1\" class=\"dataframe\">\n",
       "  <thead>\n",
       "    <tr style=\"text-align: right;\">\n",
       "      <th></th>\n",
       "      <th>params</th>\n",
       "      <th>rank_test_score</th>\n",
       "      <th>mean_test_score</th>\n",
       "      <th>std_test_score</th>\n",
       "      <th>mean_fit_time</th>\n",
       "    </tr>\n",
       "    <tr>\n",
       "      <th>params</th>\n",
       "      <th></th>\n",
       "      <th></th>\n",
       "      <th></th>\n",
       "      <th></th>\n",
       "      <th></th>\n",
       "    </tr>\n",
       "  </thead>\n",
       "  <tbody>\n",
       "    <tr>\n",
       "      <th>0.1_l2</th>\n",
       "      <td>{'C': 0.1, 'penalty': 'l2'}</td>\n",
       "      <td>1</td>\n",
       "      <td>0.703112</td>\n",
       "      <td>0.034274</td>\n",
       "      <td>0.559465</td>\n",
       "    </tr>\n",
       "    <tr>\n",
       "      <th>0.05_l2</th>\n",
       "      <td>{'C': 0.05, 'penalty': 'l2'}</td>\n",
       "      <td>2</td>\n",
       "      <td>0.701704</td>\n",
       "      <td>0.034704</td>\n",
       "      <td>0.556183</td>\n",
       "    </tr>\n",
       "    <tr>\n",
       "      <th>0.1_l1</th>\n",
       "      <td>{'C': 0.1, 'penalty': 'l1'}</td>\n",
       "      <td>3</td>\n",
       "      <td>0.700193</td>\n",
       "      <td>0.033949</td>\n",
       "      <td>7.588096</td>\n",
       "    </tr>\n",
       "    <tr>\n",
       "      <th>0.05_l1</th>\n",
       "      <td>{'C': 0.05, 'penalty': 'l1'}</td>\n",
       "      <td>4</td>\n",
       "      <td>0.699279</td>\n",
       "      <td>0.032853</td>\n",
       "      <td>5.861489</td>\n",
       "    </tr>\n",
       "  </tbody>\n",
       "</table>\n",
       "</div>"
      ],
      "text/plain": [
       "                               params  rank_test_score  mean_test_score  \\\n",
       "params                                                                    \n",
       "0.1_l2    {'C': 0.1, 'penalty': 'l2'}                1         0.703112   \n",
       "0.05_l2  {'C': 0.05, 'penalty': 'l2'}                2         0.701704   \n",
       "0.1_l1    {'C': 0.1, 'penalty': 'l1'}                3         0.700193   \n",
       "0.05_l1  {'C': 0.05, 'penalty': 'l1'}                4         0.699279   \n",
       "\n",
       "         std_test_score  mean_fit_time  \n",
       "params                                  \n",
       "0.1_l2         0.034274       0.559465  \n",
       "0.05_l2        0.034704       0.556183  \n",
       "0.1_l1         0.033949       7.588096  \n",
       "0.05_l1        0.032853       5.861489  "
      ]
     },
     "execution_count": 39,
     "metadata": {},
     "output_type": "execute_result"
    }
   ],
   "source": [
    "results_df = pd.DataFrame(results)\n",
    "results_df = results_df.sort_values(by=[\"rank_test_score\"])\n",
    "results_df = results_df.set_index(\n",
    "    results_df[\"params\"].apply(lambda x: \"_\".join(str(val) for val in x.values())))\n",
    "results_df[[\"params\", \"rank_test_score\", \"mean_test_score\", \"std_test_score\", \"mean_fit_time\"]]"
   ]
  },
  {
   "cell_type": "code",
   "execution_count": 38,
   "id": "e5964d1d",
   "metadata": {},
   "outputs": [
    {
     "data": {
      "text/html": [
       "<div>\n",
       "<style scoped>\n",
       "    .dataframe tbody tr th:only-of-type {\n",
       "        vertical-align: middle;\n",
       "    }\n",
       "\n",
       "    .dataframe tbody tr th {\n",
       "        vertical-align: top;\n",
       "    }\n",
       "\n",
       "    .dataframe thead th {\n",
       "        text-align: right;\n",
       "    }\n",
       "</style>\n",
       "<table border=\"1\" class=\"dataframe\">\n",
       "  <thead>\n",
       "    <tr style=\"text-align: right;\">\n",
       "      <th></th>\n",
       "      <th>mean_fit_time</th>\n",
       "      <th>std_fit_time</th>\n",
       "      <th>mean_score_time</th>\n",
       "      <th>std_score_time</th>\n",
       "      <th>param_C</th>\n",
       "      <th>param_penalty</th>\n",
       "      <th>params</th>\n",
       "      <th>split0_test_score</th>\n",
       "      <th>split1_test_score</th>\n",
       "      <th>split2_test_score</th>\n",
       "      <th>...</th>\n",
       "      <th>split83_test_score</th>\n",
       "      <th>split84_test_score</th>\n",
       "      <th>split85_test_score</th>\n",
       "      <th>split86_test_score</th>\n",
       "      <th>split87_test_score</th>\n",
       "      <th>split88_test_score</th>\n",
       "      <th>split89_test_score</th>\n",
       "      <th>mean_test_score</th>\n",
       "      <th>std_test_score</th>\n",
       "      <th>rank_test_score</th>\n",
       "    </tr>\n",
       "  </thead>\n",
       "  <tbody>\n",
       "    <tr>\n",
       "      <th>0</th>\n",
       "      <td>5.861489</td>\n",
       "      <td>2.239475</td>\n",
       "      <td>0.019343</td>\n",
       "      <td>0.002395</td>\n",
       "      <td>0.05</td>\n",
       "      <td>l1</td>\n",
       "      <td>{'C': 0.05, 'penalty': 'l1'}</td>\n",
       "      <td>0.705314</td>\n",
       "      <td>0.673469</td>\n",
       "      <td>0.688995</td>\n",
       "      <td>...</td>\n",
       "      <td>0.649485</td>\n",
       "      <td>0.733333</td>\n",
       "      <td>0.670000</td>\n",
       "      <td>0.682927</td>\n",
       "      <td>0.708738</td>\n",
       "      <td>0.642487</td>\n",
       "      <td>0.760181</td>\n",
       "      <td>0.699279</td>\n",
       "      <td>0.032853</td>\n",
       "      <td>4</td>\n",
       "    </tr>\n",
       "    <tr>\n",
       "      <th>1</th>\n",
       "      <td>0.556183</td>\n",
       "      <td>0.025512</td>\n",
       "      <td>0.018386</td>\n",
       "      <td>0.000123</td>\n",
       "      <td>0.05</td>\n",
       "      <td>l2</td>\n",
       "      <td>{'C': 0.05, 'penalty': 'l2'}</td>\n",
       "      <td>0.705314</td>\n",
       "      <td>0.673469</td>\n",
       "      <td>0.685714</td>\n",
       "      <td>...</td>\n",
       "      <td>0.642487</td>\n",
       "      <td>0.739336</td>\n",
       "      <td>0.676617</td>\n",
       "      <td>0.682927</td>\n",
       "      <td>0.714976</td>\n",
       "      <td>0.642487</td>\n",
       "      <td>0.756757</td>\n",
       "      <td>0.701704</td>\n",
       "      <td>0.034704</td>\n",
       "      <td>2</td>\n",
       "    </tr>\n",
       "    <tr>\n",
       "      <th>2</th>\n",
       "      <td>7.588096</td>\n",
       "      <td>2.796144</td>\n",
       "      <td>0.019123</td>\n",
       "      <td>0.001559</td>\n",
       "      <td>0.1</td>\n",
       "      <td>l1</td>\n",
       "      <td>{'C': 0.1, 'penalty': 'l1'}</td>\n",
       "      <td>0.711538</td>\n",
       "      <td>0.673469</td>\n",
       "      <td>0.682692</td>\n",
       "      <td>...</td>\n",
       "      <td>0.642487</td>\n",
       "      <td>0.739336</td>\n",
       "      <td>0.676617</td>\n",
       "      <td>0.682927</td>\n",
       "      <td>0.714976</td>\n",
       "      <td>0.642487</td>\n",
       "      <td>0.760181</td>\n",
       "      <td>0.700193</td>\n",
       "      <td>0.033949</td>\n",
       "      <td>3</td>\n",
       "    </tr>\n",
       "    <tr>\n",
       "      <th>3</th>\n",
       "      <td>0.559465</td>\n",
       "      <td>0.027526</td>\n",
       "      <td>0.018935</td>\n",
       "      <td>0.001351</td>\n",
       "      <td>0.1</td>\n",
       "      <td>l2</td>\n",
       "      <td>{'C': 0.1, 'penalty': 'l2'}</td>\n",
       "      <td>0.705314</td>\n",
       "      <td>0.673469</td>\n",
       "      <td>0.685714</td>\n",
       "      <td>...</td>\n",
       "      <td>0.649485</td>\n",
       "      <td>0.739336</td>\n",
       "      <td>0.689655</td>\n",
       "      <td>0.682927</td>\n",
       "      <td>0.721154</td>\n",
       "      <td>0.639175</td>\n",
       "      <td>0.756757</td>\n",
       "      <td>0.703112</td>\n",
       "      <td>0.034274</td>\n",
       "      <td>1</td>\n",
       "    </tr>\n",
       "  </tbody>\n",
       "</table>\n",
       "<p>4 rows × 100 columns</p>\n",
       "</div>"
      ],
      "text/plain": [
       "   mean_fit_time  std_fit_time  mean_score_time  std_score_time param_C  \\\n",
       "0       5.861489      2.239475         0.019343        0.002395    0.05   \n",
       "1       0.556183      0.025512         0.018386        0.000123    0.05   \n",
       "2       7.588096      2.796144         0.019123        0.001559     0.1   \n",
       "3       0.559465      0.027526         0.018935        0.001351     0.1   \n",
       "\n",
       "  param_penalty                        params  split0_test_score  \\\n",
       "0            l1  {'C': 0.05, 'penalty': 'l1'}           0.705314   \n",
       "1            l2  {'C': 0.05, 'penalty': 'l2'}           0.705314   \n",
       "2            l1   {'C': 0.1, 'penalty': 'l1'}           0.711538   \n",
       "3            l2   {'C': 0.1, 'penalty': 'l2'}           0.705314   \n",
       "\n",
       "   split1_test_score  split2_test_score  ...  split83_test_score  \\\n",
       "0           0.673469           0.688995  ...            0.649485   \n",
       "1           0.673469           0.685714  ...            0.642487   \n",
       "2           0.673469           0.682692  ...            0.642487   \n",
       "3           0.673469           0.685714  ...            0.649485   \n",
       "\n",
       "   split84_test_score  split85_test_score  split86_test_score  \\\n",
       "0            0.733333            0.670000            0.682927   \n",
       "1            0.739336            0.676617            0.682927   \n",
       "2            0.739336            0.676617            0.682927   \n",
       "3            0.739336            0.689655            0.682927   \n",
       "\n",
       "   split87_test_score  split88_test_score  split89_test_score  \\\n",
       "0            0.708738            0.642487            0.760181   \n",
       "1            0.714976            0.642487            0.756757   \n",
       "2            0.714976            0.642487            0.760181   \n",
       "3            0.721154            0.639175            0.756757   \n",
       "\n",
       "   mean_test_score  std_test_score  rank_test_score  \n",
       "0         0.699279        0.032853                4  \n",
       "1         0.701704        0.034704                2  \n",
       "2         0.700193        0.033949                3  \n",
       "3         0.703112        0.034274                1  \n",
       "\n",
       "[4 rows x 100 columns]"
      ]
     },
     "execution_count": 38,
     "metadata": {},
     "output_type": "execute_result"
    }
   ],
   "source": [
    "results"
   ]
  },
  {
   "cell_type": "code",
   "execution_count": 17,
   "id": "60dd8137",
   "metadata": {},
   "outputs": [],
   "source": [
    "import seaborn as sns"
   ]
  },
  {
   "cell_type": "code",
   "execution_count": 18,
   "id": "f279ccd2",
   "metadata": {},
   "outputs": [
    {
     "data": {
      "image/png": "[encoded data removed]",
      "text/plain": [
       "<Figure size 640x480 with 1 Axes>"
      ]
     },
     "metadata": {},
     "output_type": "display_data"
    },
    {
     "name": "stdout",
     "output_type": "stream",
     "text": [
      "Correlation of models:\n",
      " params     0.1_l2   0.05_l2    0.1_l1   0.05_l1\n",
      "params                                         \n",
      "0.1_l2   1.000000  0.993227  0.975092  0.944807\n",
      "0.05_l2  0.993227  1.000000  0.981620  0.957811\n",
      "0.1_l1   0.975092  0.981620  1.000000  0.976469\n",
      "0.05_l1  0.944807  0.957811  0.976469  1.000000\n"
     ]
    }
   ],
   "source": [
    "model_scores = results_df.filter(regex=r\"split\\d*_test_score\")\n",
    "\n",
    "# plot 30 examples of dependency between cv fold and AUC scores\n",
    "fig, ax = plt.subplots()\n",
    "sns.lineplot(\n",
    "    data=model_scores.transpose().iloc[:30],\n",
    "    dashes=False,\n",
    "    palette=\"Set1\",\n",
    "    marker=\"o\",\n",
    "    alpha=0.5,\n",
    "    ax=ax,\n",
    ")\n",
    "ax.set_xlabel(\"CV test fold\", size=12, labelpad=10)\n",
    "ax.set_ylabel(\"Model AUC\", size=12)\n",
    "ax.tick_params(bottom=True, labelbottom=False)\n",
    "plt.show()\n",
    "\n",
    "# print correlation of AUC scores across folds\n",
    "print(f\"Correlation of models:\\n {model_scores.transpose().corr()}\")"
   ]
  },
  {
   "cell_type": "code",
   "execution_count": 19,
   "id": "d2833165",
   "metadata": {},
   "outputs": [],
   "source": [
    "import numpy as np\n",
    "from scipy.stats import t\n",
    "\n",
    "\n",
    "def corrected_std(differences, n_train, n_test):\n",
    "    \"\"\"Corrects standard deviation using Nadeau and Bengio's approach.\n",
    "\n",
    "    Parameters\n",
    "    ----------\n",
    "    differences : ndarray of shape (n_samples,)\n",
    "        Vector containing the differences in the score metrics of two models.\n",
    "    n_train : int\n",
    "        Number of samples in the training set.\n",
    "    n_test : int\n",
    "        Number of samples in the testing set.\n",
    "\n",
    "    Returns\n",
    "    -------\n",
    "    corrected_std : float\n",
    "        Variance-corrected standard deviation of the set of differences.\n",
    "    \"\"\"\n",
    "    # kr = k times r, r times repeated k-fold crossvalidation,\n",
    "    # kr equals the number of times the model was evaluated\n",
    "    kr = len(differences)\n",
    "    corrected_var = np.var(differences, ddof=1) * (1 / kr + n_test / n_train)\n",
    "    corrected_std = np.sqrt(corrected_var)\n",
    "    return corrected_std\n",
    "\n",
    "\n",
    "def compute_corrected_ttest(differences, df, n_train, n_test):\n",
    "    \"\"\"Computes right-tailed paired t-test with corrected variance.\n",
    "\n",
    "    Parameters\n",
    "    ----------\n",
    "    differences : array-like of shape (n_samples,)\n",
    "        Vector containing the differences in the score metrics of two models.\n",
    "    df : int\n",
    "        Degrees of freedom.\n",
    "    n_train : int\n",
    "        Number of samples in the training set.\n",
    "    n_test : int\n",
    "        Number of samples in the testing set.\n",
    "\n",
    "    Returns\n",
    "    -------\n",
    "    t_stat : float\n",
    "        Variance-corrected t-statistic.\n",
    "    p_val : float\n",
    "        Variance-corrected p-value.\n",
    "    \"\"\"\n",
    "    mean = np.mean(differences)\n",
    "    std = corrected_std(differences, n_train, n_test)\n",
    "    t_stat = mean / std\n",
    "    p_val = t.sf(np.abs(t_stat), df)  # right-tailed t-test\n",
    "    return t_stat, p_val"
   ]
  },
  {
   "cell_type": "code",
   "execution_count": 21,
   "id": "84a81e5a",
   "metadata": {},
   "outputs": [
    {
     "name": "stdout",
     "output_type": "stream",
     "text": [
      "Corrected t-value: 0.485\n",
      "Corrected p-value: 0.314\n"
     ]
    }
   ],
   "source": [
    "model_1_scores = model_scores.iloc[0].values  # scores of the best model\n",
    "model_2_scores = model_scores.iloc[1].values  # scores of the second-best model\n",
    "\n",
    "differences = model_1_scores - model_2_scores\n",
    "\n",
    "n = differences.shape[0]  # number of test sets\n",
    "df = n - 1\n",
    "n_train = len(list(cv.split(X, y))[0][0])\n",
    "n_test = len(list(cv.split(X, y))[0][1])\n",
    "\n",
    "t_stat, p_val = compute_corrected_ttest(differences, df, n_train, n_test)\n",
    "print(f\"Corrected t-value: {t_stat:.3f}\\nCorrected p-value: {p_val:.3f}\")"
   ]
  },
  {
   "cell_type": "code",
   "execution_count": 22,
   "id": "f4d51106",
   "metadata": {},
   "outputs": [
    {
     "name": "stdout",
     "output_type": "stream",
     "text": [
      "Corrected t-value: 0.533\n",
      "Corrected p-value: 0.298\n"
     ]
    }
   ],
   "source": [
    "model_1_scores = model_scores.iloc[0].values  # scores of the best model\n",
    "model_2_scores = model_scores.iloc[2].values  # scores of the second-best model\n",
    "\n",
    "differences = model_1_scores - model_2_scores\n",
    "\n",
    "n = differences.shape[0]  # number of test sets\n",
    "df = n - 1\n",
    "n_train = len(list(cv.split(X, y))[0][0])\n",
    "n_test = len(list(cv.split(X, y))[0][1])\n",
    "\n",
    "t_stat, p_val = compute_corrected_ttest(differences, df, n_train, n_test)\n",
    "print(f\"Corrected t-value: {t_stat:.3f}\\nCorrected p-value: {p_val:.3f}\")"
   ]
  },
  {
   "cell_type": "code",
   "execution_count": 23,
   "id": "29875859",
   "metadata": {},
   "outputs": [
    {
     "name": "stdout",
     "output_type": "stream",
     "text": [
      "Corrected t-value: 0.474\n",
      "Corrected p-value: 0.318\n"
     ]
    }
   ],
   "source": [
    "model_1_scores = model_scores.iloc[0].values  # scores of the best model\n",
    "model_2_scores = model_scores.iloc[3].values  # scores of the second-best model\n",
    "\n",
    "differences = model_1_scores - model_2_scores\n",
    "\n",
    "n = differences.shape[0]  # number of test sets\n",
    "df = n - 1\n",
    "n_train = len(list(cv.split(X, y))[0][0])\n",
    "n_test = len(list(cv.split(X, y))[0][1])\n",
    "\n",
    "t_stat, p_val = compute_corrected_ttest(differences, df, n_train, n_test)\n",
    "print(f\"Corrected t-value: {t_stat:.3f}\\nCorrected p-value: {p_val:.3f}\")"
   ]
  },
  {
   "cell_type": "code",
   "execution_count": 24,
   "id": "cd5e26e2",
   "metadata": {},
   "outputs": [
    {
     "name": "stdout",
     "output_type": "stream",
     "text": [
      "Corrected t-value: 0.317\n",
      "Corrected p-value: 0.376\n"
     ]
    }
   ],
   "source": [
    "model_1_scores = model_scores.iloc[1].values  # scores of the best model\n",
    "model_2_scores = model_scores.iloc[2].values  # scores of the second-best model\n",
    "\n",
    "differences = model_1_scores - model_2_scores\n",
    "\n",
    "n = differences.shape[0]  # number of test sets\n",
    "df = n - 1\n",
    "n_train = len(list(cv.split(X, y))[0][0])\n",
    "n_test = len(list(cv.split(X, y))[0][1])\n",
    "\n",
    "t_stat, p_val = compute_corrected_ttest(differences, df, n_train, n_test)\n",
    "print(f\"Corrected t-value: {t_stat:.3f}\\nCorrected p-value: {p_val:.3f}\")"
   ]
  },
  {
   "cell_type": "code",
   "execution_count": 25,
   "id": "2c0b0d3c",
   "metadata": {},
   "outputs": [
    {
     "name": "stdout",
     "output_type": "stream",
     "text": [
      "Corrected t-value: 0.338\n",
      "Corrected p-value: 0.368\n"
     ]
    }
   ],
   "source": [
    "model_1_scores = model_scores.iloc[1].values  # scores of the best model\n",
    "model_2_scores = model_scores.iloc[3].values  # scores of the second-best model\n",
    "\n",
    "differences = model_1_scores - model_2_scores\n",
    "\n",
    "n = differences.shape[0]  # number of test sets\n",
    "df = n - 1\n",
    "n_train = len(list(cv.split(X, y))[0][0])\n",
    "n_test = len(list(cv.split(X, y))[0][1])\n",
    "\n",
    "t_stat, p_val = compute_corrected_ttest(differences, df, n_train, n_test)\n",
    "print(f\"Corrected t-value: {t_stat:.3f}\\nCorrected p-value: {p_val:.3f}\")"
   ]
  },
  {
   "cell_type": "code",
   "execution_count": 26,
   "id": "59d48a3a",
   "metadata": {},
   "outputs": [
    {
     "name": "stdout",
     "output_type": "stream",
     "text": [
      "Corrected t-value: 0.173\n",
      "Corrected p-value: 0.431\n"
     ]
    }
   ],
   "source": [
    "model_1_scores = model_scores.iloc[2].values  # scores of the best model\n",
    "model_2_scores = model_scores.iloc[3].values  # scores of the second-best model\n",
    "\n",
    "differences = model_1_scores - model_2_scores\n",
    "\n",
    "n = differences.shape[0]  # number of test sets\n",
    "df = n - 1\n",
    "n_train = len(list(cv.split(X, y))[0][0])\n",
    "n_test = len(list(cv.split(X, y))[0][1])\n",
    "\n",
    "t_stat, p_val = compute_corrected_ttest(differences, df, n_train, n_test)\n",
    "print(f\"Corrected t-value: {t_stat:.3f}\\nCorrected p-value: {p_val:.3f}\")"
   ]
  },
  {
   "cell_type": "code",
   "execution_count": 27,
   "id": "46d4d707",
   "metadata": {},
   "outputs": [],
   "source": [
    "# initialize random variable\n",
    "t_post = t(\n",
    "    df, loc=np.mean(differences), scale=corrected_std(differences, n_train, n_test)\n",
    ")\n"
   ]
  },
  {
   "cell_type": "code",
   "execution_count": 28,
   "id": "da2ca061",
   "metadata": {},
   "outputs": [
    {
     "data": {
      "image/png": "[encoded data removed]",
      "text/plain": [
       "<Figure size 640x480 with 1 Axes>"
      ]
     },
     "metadata": {},
     "output_type": "display_data"
    }
   ],
   "source": [
    "x = np.linspace(t_post.ppf(0.001), t_post.ppf(0.999), 100)\n",
    "\n",
    "plt.plot(x, t_post.pdf(x))\n",
    "plt.xticks(np.arange(-0.04, 0.06, 0.01))\n",
    "plt.fill_between(x, t_post.pdf(x), 0, facecolor=\"blue\", alpha=0.2)\n",
    "plt.ylabel(\"Probability density\")\n",
    "plt.xlabel(r\"Mean difference ($\\mu$)\")\n",
    "plt.title(\"Posterior distribution\")\n",
    "plt.show()"
   ]
  },
  {
   "cell_type": "code",
   "execution_count": 29,
   "id": "a39c9b4a",
   "metadata": {},
   "outputs": [
    {
     "name": "stdout",
     "output_type": "stream",
     "text": [
      "Probability of 0.1_l2 being more accurate than 0.05_l2: 0.569\n",
      "Probability of 0.05_l2 being more accurate than 0.1_l2: 0.431\n"
     ]
    }
   ],
   "source": [
    "better_prob = 1 - t_post.cdf(0)\n",
    "\n",
    "print(\n",
    "    f\"Probability of {model_scores.index[0]} being more accurate than \"\n",
    "    f\"{model_scores.index[1]}: {better_prob:.3f}\"\n",
    ")\n",
    "print(\n",
    "    f\"Probability of {model_scores.index[1]} being more accurate than \"\n",
    "    f\"{model_scores.index[0]}: {1 - better_prob:.3f}\"\n",
    ")"
   ]
  },
  {
   "cell_type": "code",
   "execution_count": 33,
   "id": "06d1afbf",
   "metadata": {},
   "outputs": [
    {
     "name": "stdout",
     "output_type": "stream",
     "text": [
      "Probability of 0.1_l2 and 0.05_l2 being practically equivalent: 0.935\n"
     ]
    }
   ],
   "source": [
    "rope_interval = [-0.01, 0.01]\n",
    "rope_prob = t_post.cdf(rope_interval[1]) - t_post.cdf(rope_interval[0])\n",
    "\n",
    "print(\n",
    "    f\"Probability of {model_scores.index[0]} and {model_scores.index[1]} \"\n",
    "    f\"being practically equivalent: {rope_prob:.3f}\"\n",
    ")"
   ]
  },
  {
   "cell_type": "code",
   "execution_count": 34,
   "id": "94e4391c",
   "metadata": {},
   "outputs": [
    {
     "data": {
      "image/png": "[encoded data removed]",
      "text/plain": [
       "<Figure size 640x480 with 1 Axes>"
      ]
     },
     "metadata": {},
     "output_type": "display_data"
    }
   ],
   "source": [
    "x_rope = np.linspace(rope_interval[0], rope_interval[1], 100)\n",
    "\n",
    "plt.plot(x, t_post.pdf(x))\n",
    "plt.xticks(np.arange(-0.04, 0.06, 0.01))\n",
    "plt.vlines([-0.01, 0.01], ymin=0, ymax=(np.max(t_post.pdf(x)) + 1))\n",
    "plt.fill_between(x_rope, t_post.pdf(x_rope), 0, facecolor=\"blue\", alpha=0.2)\n",
    "plt.ylabel(\"Probability density\")\n",
    "plt.xlabel(r\"Mean difference ($\\mu$)\")\n",
    "plt.title(\"Posterior distribution under the ROPE\")\n",
    "plt.show()"
   ]
  },
  {
   "cell_type": "code",
   "execution_count": 35,
   "id": "f65c45b4",
   "metadata": {},
   "outputs": [
    {
     "data": {
      "text/html": [
       "<div>\n",
       "<style scoped>\n",
       "    .dataframe tbody tr th:only-of-type {\n",
       "        vertical-align: middle;\n",
       "    }\n",
       "\n",
       "    .dataframe tbody tr th {\n",
       "        vertical-align: top;\n",
       "    }\n",
       "\n",
       "    .dataframe thead th {\n",
       "        text-align: right;\n",
       "    }\n",
       "</style>\n",
       "<table border=\"1\" class=\"dataframe\">\n",
       "  <thead>\n",
       "    <tr style=\"text-align: right;\">\n",
       "      <th></th>\n",
       "      <th>lower value</th>\n",
       "      <th>upper value</th>\n",
       "    </tr>\n",
       "    <tr>\n",
       "      <th>interval</th>\n",
       "      <th></th>\n",
       "      <th></th>\n",
       "    </tr>\n",
       "  </thead>\n",
       "  <tbody>\n",
       "    <tr>\n",
       "      <th>0.50</th>\n",
       "      <td>-0.002654</td>\n",
       "      <td>0.004481</td>\n",
       "    </tr>\n",
       "    <tr>\n",
       "      <th>0.75</th>\n",
       "      <td>-0.005186</td>\n",
       "      <td>0.007013</td>\n",
       "    </tr>\n",
       "    <tr>\n",
       "      <th>0.95</th>\n",
       "      <td>-0.009553</td>\n",
       "      <td>0.011381</td>\n",
       "    </tr>\n",
       "  </tbody>\n",
       "</table>\n",
       "</div>"
      ],
      "text/plain": [
       "          lower value  upper value\n",
       "interval                          \n",
       "0.50        -0.002654     0.004481\n",
       "0.75        -0.005186     0.007013\n",
       "0.95        -0.009553     0.011381"
      ]
     },
     "execution_count": 35,
     "metadata": {},
     "output_type": "execute_result"
    }
   ],
   "source": [
    "cred_intervals = []\n",
    "intervals = [0.5, 0.75, 0.95]\n",
    "\n",
    "for interval in intervals:\n",
    "    cred_interval = list(t_post.interval(interval))\n",
    "    cred_intervals.append([interval, cred_interval[0], cred_interval[1]])\n",
    "\n",
    "cred_int_df = pd.DataFrame(\n",
    "    cred_intervals, columns=[\"interval\", \"lower value\", \"upper value\"]\n",
    ").set_index(\"interval\")\n",
    "cred_int_df"
   ]
  },
  {
   "cell_type": "code",
   "execution_count": 36,
   "id": "2ae7cd25",
   "metadata": {},
   "outputs": [
    {
     "data": {
      "text/html": [
       "<div>\n",
       "<style scoped>\n",
       "    .dataframe tbody tr th:only-of-type {\n",
       "        vertical-align: middle;\n",
       "    }\n",
       "\n",
       "    .dataframe tbody tr th {\n",
       "        vertical-align: top;\n",
       "    }\n",
       "\n",
       "    .dataframe thead th {\n",
       "        text-align: right;\n",
       "    }\n",
       "</style>\n",
       "<table border=\"1\" class=\"dataframe\">\n",
       "  <thead>\n",
       "    <tr style=\"text-align: right;\">\n",
       "      <th></th>\n",
       "      <th>model_1</th>\n",
       "      <th>model_2</th>\n",
       "      <th>t_stat</th>\n",
       "      <th>p_val</th>\n",
       "    </tr>\n",
       "  </thead>\n",
       "  <tbody>\n",
       "    <tr>\n",
       "      <th>0</th>\n",
       "      <td>0.1_l2</td>\n",
       "      <td>0.05_l2</td>\n",
       "      <td>0.485</td>\n",
       "      <td>1</td>\n",
       "    </tr>\n",
       "    <tr>\n",
       "      <th>1</th>\n",
       "      <td>0.1_l2</td>\n",
       "      <td>0.1_l1</td>\n",
       "      <td>0.533</td>\n",
       "      <td>1</td>\n",
       "    </tr>\n",
       "    <tr>\n",
       "      <th>2</th>\n",
       "      <td>0.1_l2</td>\n",
       "      <td>0.05_l1</td>\n",
       "      <td>0.474</td>\n",
       "      <td>1</td>\n",
       "    </tr>\n",
       "    <tr>\n",
       "      <th>3</th>\n",
       "      <td>0.05_l2</td>\n",
       "      <td>0.1_l1</td>\n",
       "      <td>0.317</td>\n",
       "      <td>1</td>\n",
       "    </tr>\n",
       "    <tr>\n",
       "      <th>4</th>\n",
       "      <td>0.05_l2</td>\n",
       "      <td>0.05_l1</td>\n",
       "      <td>0.338</td>\n",
       "      <td>1</td>\n",
       "    </tr>\n",
       "    <tr>\n",
       "      <th>5</th>\n",
       "      <td>0.1_l1</td>\n",
       "      <td>0.05_l1</td>\n",
       "      <td>0.173</td>\n",
       "      <td>1</td>\n",
       "    </tr>\n",
       "  </tbody>\n",
       "</table>\n",
       "</div>"
      ],
      "text/plain": [
       "   model_1  model_2  t_stat  p_val\n",
       "0   0.1_l2  0.05_l2   0.485      1\n",
       "1   0.1_l2   0.1_l1   0.533      1\n",
       "2   0.1_l2  0.05_l1   0.474      1\n",
       "3  0.05_l2   0.1_l1   0.317      1\n",
       "4  0.05_l2  0.05_l1   0.338      1\n",
       "5   0.1_l1  0.05_l1   0.173      1"
      ]
     },
     "execution_count": 36,
     "metadata": {},
     "output_type": "execute_result"
    }
   ],
   "source": [
    "from itertools import combinations\n",
    "from math import factorial\n",
    "\n",
    "n_comparisons = factorial(len(model_scores)) / (\n",
    "    factorial(2) * factorial(len(model_scores) - 2)\n",
    ")\n",
    "pairwise_t_test = []\n",
    "\n",
    "for model_i, model_k in combinations(range(len(model_scores)), 2):\n",
    "    model_i_scores = model_scores.iloc[model_i].values\n",
    "    model_k_scores = model_scores.iloc[model_k].values\n",
    "    differences = model_i_scores - model_k_scores\n",
    "    t_stat, p_val = compute_corrected_ttest(differences, df, n_train, n_test)\n",
    "    p_val *= n_comparisons  # implement Bonferroni correction\n",
    "    # Bonferroni can output p-values higher than 1\n",
    "    p_val = 1 if p_val > 1 else p_val\n",
    "    pairwise_t_test.append(\n",
    "        [model_scores.index[model_i], model_scores.index[model_k], t_stat, p_val]\n",
    "    )\n",
    "\n",
    "pairwise_comp_df = pd.DataFrame(\n",
    "    pairwise_t_test, columns=[\"model_1\", \"model_2\", \"t_stat\", \"p_val\"]\n",
    ").round(3)\n",
    "pairwise_comp_df"
   ]
  },
  {
   "cell_type": "code",
   "execution_count": 37,
   "id": "e9ffe23d",
   "metadata": {},
   "outputs": [
    {
     "data": {
      "text/html": [
       "<div>\n",
       "<style scoped>\n",
       "    .dataframe tbody tr th:only-of-type {\n",
       "        vertical-align: middle;\n",
       "    }\n",
       "\n",
       "    .dataframe tbody tr th {\n",
       "        vertical-align: top;\n",
       "    }\n",
       "\n",
       "    .dataframe thead th {\n",
       "        text-align: right;\n",
       "    }\n",
       "</style>\n",
       "<table border=\"1\" class=\"dataframe\">\n",
       "  <thead>\n",
       "    <tr style=\"text-align: right;\">\n",
       "      <th></th>\n",
       "      <th>model_1</th>\n",
       "      <th>model_2</th>\n",
       "      <th>t_stat</th>\n",
       "      <th>p_val</th>\n",
       "      <th>worse_prob</th>\n",
       "      <th>better_prob</th>\n",
       "      <th>rope_prob</th>\n",
       "    </tr>\n",
       "  </thead>\n",
       "  <tbody>\n",
       "    <tr>\n",
       "      <th>0</th>\n",
       "      <td>0.1_l2</td>\n",
       "      <td>0.05_l2</td>\n",
       "      <td>0.485</td>\n",
       "      <td>1</td>\n",
       "      <td>0.000</td>\n",
       "      <td>0.002</td>\n",
       "      <td>0.998</td>\n",
       "    </tr>\n",
       "    <tr>\n",
       "      <th>1</th>\n",
       "      <td>0.1_l2</td>\n",
       "      <td>0.1_l1</td>\n",
       "      <td>0.533</td>\n",
       "      <td>1</td>\n",
       "      <td>0.010</td>\n",
       "      <td>0.100</td>\n",
       "      <td>0.890</td>\n",
       "    </tr>\n",
       "    <tr>\n",
       "      <th>2</th>\n",
       "      <td>0.1_l2</td>\n",
       "      <td>0.05_l1</td>\n",
       "      <td>0.474</td>\n",
       "      <td>1</td>\n",
       "      <td>0.045</td>\n",
       "      <td>0.224</td>\n",
       "      <td>0.731</td>\n",
       "    </tr>\n",
       "    <tr>\n",
       "      <th>3</th>\n",
       "      <td>0.05_l2</td>\n",
       "      <td>0.1_l1</td>\n",
       "      <td>0.317</td>\n",
       "      <td>1</td>\n",
       "      <td>0.009</td>\n",
       "      <td>0.039</td>\n",
       "      <td>0.952</td>\n",
       "    </tr>\n",
       "    <tr>\n",
       "      <th>4</th>\n",
       "      <td>0.05_l2</td>\n",
       "      <td>0.05_l1</td>\n",
       "      <td>0.338</td>\n",
       "      <td>1</td>\n",
       "      <td>0.043</td>\n",
       "      <td>0.147</td>\n",
       "      <td>0.810</td>\n",
       "    </tr>\n",
       "    <tr>\n",
       "      <th>5</th>\n",
       "      <td>0.1_l1</td>\n",
       "      <td>0.05_l1</td>\n",
       "      <td>0.173</td>\n",
       "      <td>1</td>\n",
       "      <td>0.021</td>\n",
       "      <td>0.044</td>\n",
       "      <td>0.935</td>\n",
       "    </tr>\n",
       "  </tbody>\n",
       "</table>\n",
       "</div>"
      ],
      "text/plain": [
       "   model_1  model_2  t_stat  p_val  worse_prob  better_prob  rope_prob\n",
       "0   0.1_l2  0.05_l2   0.485      1       0.000        0.002      0.998\n",
       "1   0.1_l2   0.1_l1   0.533      1       0.010        0.100      0.890\n",
       "2   0.1_l2  0.05_l1   0.474      1       0.045        0.224      0.731\n",
       "3  0.05_l2   0.1_l1   0.317      1       0.009        0.039      0.952\n",
       "4  0.05_l2  0.05_l1   0.338      1       0.043        0.147      0.810\n",
       "5   0.1_l1  0.05_l1   0.173      1       0.021        0.044      0.935"
      ]
     },
     "execution_count": 37,
     "metadata": {},
     "output_type": "execute_result"
    }
   ],
   "source": [
    "pairwise_bayesian = []\n",
    "\n",
    "for model_i, model_k in combinations(range(len(model_scores)), 2):\n",
    "    model_i_scores = model_scores.iloc[model_i].values\n",
    "    model_k_scores = model_scores.iloc[model_k].values\n",
    "    differences = model_i_scores - model_k_scores\n",
    "    t_post = t(\n",
    "        df, loc=np.mean(differences), scale=corrected_std(differences, n_train, n_test)\n",
    "    )\n",
    "    worse_prob = t_post.cdf(rope_interval[0])\n",
    "    better_prob = 1 - t_post.cdf(rope_interval[1])\n",
    "    rope_prob = t_post.cdf(rope_interval[1]) - t_post.cdf(rope_interval[0])\n",
    "\n",
    "    pairwise_bayesian.append([worse_prob, better_prob, rope_prob])\n",
    "\n",
    "pairwise_bayesian_df = pd.DataFrame(\n",
    "    pairwise_bayesian, columns=[\"worse_prob\", \"better_prob\", \"rope_prob\"]\n",
    ").round(3)\n",
    "\n",
    "pairwise_comp_df = pairwise_comp_df.join(pairwise_bayesian_df)\n",
    "pairwise_comp_df"
   ]
  },
  {
   "cell_type": "markdown",
   "id": "c27bd41b",
   "metadata": {},
   "source": [
    "there's no statistical significance among all four models. Threfore, the {'C': 0.05, 'penalty': 'l2'} model is chosen with the lowest fitting time."
   ]
  },
  {
   "cell_type": "markdown",
   "id": "1a133e50",
   "metadata": {},
   "source": [
    "3.3. Validation linear SVM best paramets on test data"
   ]
  },
  {
   "cell_type": "code",
   "execution_count": 40,
   "id": "eb4ce8ad",
   "metadata": {},
   "outputs": [],
   "source": [
    "from sklearn.metrics import classification_report\n",
    "from sklearn.metrics import ConfusionMatrixDisplay"
   ]
  },
  {
   "cell_type": "code",
   "execution_count": 51,
   "id": "57d6735a",
   "metadata": {},
   "outputs": [],
   "source": [
    "lsvc = LinearSVC(C=0.05, penalty='l2', dual=False, random_state=rng).fit(X_train, y_train)"
   ]
  },
  {
   "cell_type": "code",
   "execution_count": 52,
   "id": "1d8d241e",
   "metadata": {},
   "outputs": [
    {
     "data": {
      "image/png": "[encoded data removed]",
      "text/plain": [
       "<Figure size 640x480 with 2 Axes>"
      ]
     },
     "metadata": {},
     "output_type": "display_data"
    }
   ],
   "source": [
    "disp = ConfusionMatrixDisplay.from_estimator(\n",
    "    lsvc,\n",
    "    X_test,\n",
    "    y_test,\n",
    "    #display_labels=class_names,\n",
    " #   normalize='true',\n",
    "    cmap=plt.cm.Blues,\n",
    "    )\n",
    "    \n",
    "disp.ax_.set_title('Confusion matrix-CCF')\n",
    "\n",
    "plt.show()"
   ]
  },
  {
   "cell_type": "code",
   "execution_count": 53,
   "id": "182b82dd",
   "metadata": {},
   "outputs": [
    {
     "name": "stdout",
     "output_type": "stream",
     "text": [
      "              precision    recall  f1-score   support\n",
      "\n",
      "        True       1.00      1.00      1.00     71082\n",
      "       Fraud       0.88      0.62      0.73       120\n",
      "\n",
      "    accuracy                           1.00     71202\n",
      "   macro avg       0.94      0.81      0.87     71202\n",
      "weighted avg       1.00      1.00      1.00     71202\n",
      "\n"
     ]
    }
   ],
   "source": [
    "predictions = lsvc.predict(X_test)\n",
    "print(classification_report(y_test, predictions, target_names=['True','Fraud']))"
   ]
  },
  {
   "cell_type": "markdown",
   "id": "3c90da6f",
   "metadata": {},
   "source": [
    "### 3.2. Cost-sensitive learning on imbalanced dataset"
   ]
  },
  {
   "cell_type": "markdown",
   "id": "5487c6c5",
   "metadata": {},
   "source": [
    "I'll try several class weigth combinations to find the one with the best f1 on minority class"
   ]
  },
  {
   "cell_type": "code",
   "execution_count": 55,
   "id": "cd0b8a9f",
   "metadata": {},
   "outputs": [],
   "source": [
    "majority_weight = [0.1,0.5,0.9,1]\n",
    "minority_weight = [1,5,10,15,50,100]"
   ]
  },
  {
   "cell_type": "code",
   "execution_count": 57,
   "id": "24f0b62b",
   "metadata": {},
   "outputs": [
    {
     "name": "stdout",
     "output_type": "stream",
     "text": [
      "---------- majority_weight 0.1 | minority_weight 1 ----------\n",
      "              precision    recall  f1-score   support\n",
      "\n",
      "        True       1.00      1.00      1.00     71082\n",
      "       Fraud       0.86      0.80      0.83       120\n",
      "\n",
      "    accuracy                           1.00     71202\n",
      "   macro avg       0.93      0.90      0.91     71202\n",
      "weighted avg       1.00      1.00      1.00     71202\n",
      "\n",
      "---------- majority_weight 0.1 | minority_weight 5 ----------\n",
      "              precision    recall  f1-score   support\n",
      "\n",
      "        True       1.00      1.00      1.00     71082\n",
      "       Fraud       0.70      0.82      0.76       120\n",
      "\n",
      "    accuracy                           1.00     71202\n",
      "   macro avg       0.85      0.91      0.88     71202\n",
      "weighted avg       1.00      1.00      1.00     71202\n",
      "\n",
      "---------- majority_weight 0.1 | minority_weight 10 ----------\n",
      "              precision    recall  f1-score   support\n",
      "\n",
      "        True       1.00      1.00      1.00     71082\n",
      "       Fraud       0.51      0.85      0.64       120\n",
      "\n",
      "    accuracy                           1.00     71202\n",
      "   macro avg       0.76      0.92      0.82     71202\n",
      "weighted avg       1.00      1.00      1.00     71202\n",
      "\n",
      "---------- majority_weight 0.1 | minority_weight 15 ----------\n",
      "              precision    recall  f1-score   support\n",
      "\n",
      "        True       1.00      1.00      1.00     71082\n",
      "       Fraud       0.25      0.86      0.39       120\n",
      "\n",
      "    accuracy                           1.00     71202\n",
      "   macro avg       0.62      0.93      0.69     71202\n",
      "weighted avg       1.00      1.00      1.00     71202\n",
      "\n",
      "---------- majority_weight 0.1 | minority_weight 50 ----------\n",
      "              precision    recall  f1-score   support\n",
      "\n",
      "        True       1.00      0.98      0.99     71082\n",
      "       Fraud       0.09      0.88      0.16       120\n",
      "\n",
      "    accuracy                           0.98     71202\n",
      "   macro avg       0.54      0.93      0.57     71202\n",
      "weighted avg       1.00      0.98      0.99     71202\n",
      "\n",
      "---------- majority_weight 0.1 | minority_weight 100 ----------\n",
      "              precision    recall  f1-score   support\n",
      "\n",
      "        True       1.00      0.97      0.98     71082\n",
      "       Fraud       0.05      0.92      0.09       120\n",
      "\n",
      "    accuracy                           0.97     71202\n",
      "   macro avg       0.52      0.94      0.53     71202\n",
      "weighted avg       1.00      0.97      0.98     71202\n",
      "\n",
      "---------- majority_weight 0.5 | minority_weight 1 ----------\n",
      "              precision    recall  f1-score   support\n",
      "\n",
      "        True       1.00      1.00      1.00     71082\n",
      "       Fraud       0.88      0.74      0.81       120\n",
      "\n",
      "    accuracy                           1.00     71202\n",
      "   macro avg       0.94      0.87      0.90     71202\n",
      "weighted avg       1.00      1.00      1.00     71202\n",
      "\n",
      "---------- majority_weight 0.5 | minority_weight 5 ----------\n",
      "              precision    recall  f1-score   support\n",
      "\n",
      "        True       1.00      1.00      1.00     71082\n",
      "       Fraud       0.86      0.80      0.83       120\n",
      "\n",
      "    accuracy                           1.00     71202\n",
      "   macro avg       0.93      0.90      0.91     71202\n",
      "weighted avg       1.00      1.00      1.00     71202\n",
      "\n",
      "---------- majority_weight 0.5 | minority_weight 10 ----------\n",
      "              precision    recall  f1-score   support\n",
      "\n",
      "        True       1.00      1.00      1.00     71082\n",
      "       Fraud       0.80      0.82      0.81       120\n",
      "\n",
      "    accuracy                           1.00     71202\n",
      "   macro avg       0.90      0.91      0.90     71202\n",
      "weighted avg       1.00      1.00      1.00     71202\n",
      "\n",
      "---------- majority_weight 0.5 | minority_weight 15 ----------\n",
      "              precision    recall  f1-score   support\n",
      "\n",
      "        True       1.00      1.00      1.00     71082\n",
      "       Fraud       0.80      0.82      0.81       120\n",
      "\n",
      "    accuracy                           1.00     71202\n",
      "   macro avg       0.90      0.91      0.91     71202\n",
      "weighted avg       1.00      1.00      1.00     71202\n",
      "\n",
      "---------- majority_weight 0.5 | minority_weight 50 ----------\n",
      "              precision    recall  f1-score   support\n",
      "\n",
      "        True       1.00      1.00      1.00     71082\n",
      "       Fraud       0.51      0.85      0.64       120\n",
      "\n",
      "    accuracy                           1.00     71202\n",
      "   macro avg       0.75      0.92      0.82     71202\n",
      "weighted avg       1.00      1.00      1.00     71202\n",
      "\n",
      "---------- majority_weight 0.5 | minority_weight 100 ----------\n",
      "              precision    recall  f1-score   support\n",
      "\n",
      "        True       1.00      0.99      1.00     71082\n",
      "       Fraud       0.18      0.88      0.31       120\n",
      "\n",
      "    accuracy                           0.99     71202\n",
      "   macro avg       0.59      0.93      0.65     71202\n",
      "weighted avg       1.00      0.99      1.00     71202\n",
      "\n",
      "---------- majority_weight 0.9 | minority_weight 1 ----------\n",
      "              precision    recall  f1-score   support\n",
      "\n",
      "        True       1.00      1.00      1.00     71082\n",
      "       Fraud       0.88      0.63      0.74       120\n",
      "\n",
      "    accuracy                           1.00     71202\n",
      "   macro avg       0.94      0.82      0.87     71202\n",
      "weighted avg       1.00      1.00      1.00     71202\n",
      "\n",
      "---------- majority_weight 0.9 | minority_weight 5 ----------\n",
      "              precision    recall  f1-score   support\n",
      "\n",
      "        True       1.00      1.00      1.00     71082\n",
      "       Fraud       0.87      0.79      0.83       120\n",
      "\n",
      "    accuracy                           1.00     71202\n",
      "   macro avg       0.94      0.90      0.91     71202\n",
      "weighted avg       1.00      1.00      1.00     71202\n",
      "\n",
      "---------- majority_weight 0.9 | minority_weight 10 ----------\n",
      "              precision    recall  f1-score   support\n",
      "\n",
      "        True       1.00      1.00      1.00     71082\n",
      "       Fraud       0.85      0.81      0.83       120\n",
      "\n",
      "    accuracy                           1.00     71202\n",
      "   macro avg       0.93      0.90      0.91     71202\n",
      "weighted avg       1.00      1.00      1.00     71202\n",
      "\n",
      "---------- majority_weight 0.9 | minority_weight 15 ----------\n",
      "              precision    recall  f1-score   support\n",
      "\n",
      "        True       1.00      1.00      1.00     71082\n",
      "       Fraud       0.80      0.81      0.80       120\n",
      "\n",
      "    accuracy                           1.00     71202\n",
      "   macro avg       0.90      0.90      0.90     71202\n",
      "weighted avg       1.00      1.00      1.00     71202\n",
      "\n",
      "---------- majority_weight 0.9 | minority_weight 50 ----------\n",
      "              precision    recall  f1-score   support\n",
      "\n",
      "        True       1.00      1.00      1.00     71082\n",
      "       Fraud       0.68      0.82      0.75       120\n",
      "\n",
      "    accuracy                           1.00     71202\n",
      "   macro avg       0.84      0.91      0.87     71202\n",
      "weighted avg       1.00      1.00      1.00     71202\n",
      "\n",
      "---------- majority_weight 0.9 | minority_weight 100 ----------\n",
      "              precision    recall  f1-score   support\n",
      "\n",
      "        True       1.00      1.00      1.00     71082\n",
      "       Fraud       0.43      0.86      0.57       120\n",
      "\n",
      "    accuracy                           1.00     71202\n",
      "   macro avg       0.72      0.93      0.79     71202\n",
      "weighted avg       1.00      1.00      1.00     71202\n",
      "\n",
      "---------- majority_weight 1 | minority_weight 1 ----------\n",
      "              precision    recall  f1-score   support\n",
      "\n",
      "        True       1.00      1.00      1.00     71082\n",
      "       Fraud       0.88      0.62      0.73       120\n",
      "\n",
      "    accuracy                           1.00     71202\n",
      "   macro avg       0.94      0.81      0.87     71202\n",
      "weighted avg       1.00      1.00      1.00     71202\n",
      "\n",
      "---------- majority_weight 1 | minority_weight 5 ----------\n",
      "              precision    recall  f1-score   support\n",
      "\n",
      "        True       1.00      1.00      1.00     71082\n",
      "       Fraud       0.87      0.79      0.83       120\n",
      "\n",
      "    accuracy                           1.00     71202\n",
      "   macro avg       0.94      0.90      0.91     71202\n",
      "weighted avg       1.00      1.00      1.00     71202\n",
      "\n",
      "---------- majority_weight 1 | minority_weight 10 ----------\n",
      "              precision    recall  f1-score   support\n",
      "\n",
      "        True       1.00      1.00      1.00     71082\n",
      "       Fraud       0.86      0.80      0.83       120\n",
      "\n",
      "    accuracy                           1.00     71202\n",
      "   macro avg       0.93      0.90      0.91     71202\n",
      "weighted avg       1.00      1.00      1.00     71202\n",
      "\n",
      "---------- majority_weight 1 | minority_weight 15 ----------\n",
      "              precision    recall  f1-score   support\n",
      "\n",
      "        True       1.00      1.00      1.00     71082\n",
      "       Fraud       0.82      0.81      0.82       120\n",
      "\n",
      "    accuracy                           1.00     71202\n",
      "   macro avg       0.91      0.90      0.91     71202\n",
      "weighted avg       1.00      1.00      1.00     71202\n",
      "\n"
     ]
    },
    {
     "name": "stdout",
     "output_type": "stream",
     "text": [
      "---------- majority_weight 1 | minority_weight 50 ----------\n",
      "              precision    recall  f1-score   support\n",
      "\n",
      "        True       1.00      1.00      1.00     71082\n",
      "       Fraud       0.70      0.82      0.76       120\n",
      "\n",
      "    accuracy                           1.00     71202\n",
      "   macro avg       0.85      0.91      0.88     71202\n",
      "weighted avg       1.00      1.00      1.00     71202\n",
      "\n",
      "---------- majority_weight 1 | minority_weight 100 ----------\n",
      "              precision    recall  f1-score   support\n",
      "\n",
      "        True       1.00      1.00      1.00     71082\n",
      "       Fraud       0.51      0.85      0.64       120\n",
      "\n",
      "    accuracy                           1.00     71202\n",
      "   macro avg       0.75      0.92      0.82     71202\n",
      "weighted avg       1.00      1.00      1.00     71202\n",
      "\n"
     ]
    }
   ],
   "source": [
    "for majority_weight in [0.1,0.5,0.9,1]:\n",
    "    for minority_weight in [1,5,10,15,50,100]:\n",
    "        lsvc = LinearSVC(C=0.05, \n",
    "                         penalty='l2', \n",
    "                         dual=False, \n",
    "                         class_weight={0:majority_weight, 1:minority_weight},\n",
    "                         random_state=rng\n",
    "                        )\n",
    "        lsvc.fit(X_train, y_train)\n",
    "        predictions = lsvc.predict(X_test)\n",
    "        print('----------','majority_weight', majority_weight, '|', 'minority_weight', minority_weight,'----------')\n",
    "        print(classification_report(y_test, predictions, target_names=['True','Fraud']))"
   ]
  },
  {
   "cell_type": "code",
   "execution_count": 58,
   "id": "f004563c",
   "metadata": {},
   "outputs": [],
   "source": [
    "lsvc = LinearSVC(C=0.05, \n",
    "                 penalty='l2', \n",
    "                 dual=False, \n",
    "                 class_weight={0:0.5, 1:15},\n",
    "                 random_state=rng\n",
    "                ).fit(X_train,y_train)"
   ]
  },
  {
   "cell_type": "code",
   "execution_count": 59,
   "id": "0358cf09",
   "metadata": {},
   "outputs": [
    {
     "data": {
      "image/png": "[encoded data removed]",
      "text/plain": [
       "<Figure size 640x480 with 2 Axes>"
      ]
     },
     "metadata": {},
     "output_type": "display_data"
    }
   ],
   "source": [
    "disp = ConfusionMatrixDisplay.from_estimator(\n",
    "    lsvc,\n",
    "    X_test,\n",
    "    y_test,\n",
    "    #display_labels=class_names,\n",
    " #   normalize='true',\n",
    "    cmap=plt.cm.Blues,\n",
    "    )\n",
    "    \n",
    "disp.ax_.set_title('Confusion matrix-CCF')\n",
    "\n",
    "plt.show()"
   ]
  },
  {
   "cell_type": "code",
   "execution_count": 64,
   "id": "7d86b2d3",
   "metadata": {},
   "outputs": [
    {
     "name": "stderr",
     "output_type": "stream",
     "text": [
      "[Parallel(n_jobs=-1)]: Using backend LokyBackend with 4 concurrent workers.\n",
      "[Parallel(n_jobs=-1)]: Done  24 tasks      | elapsed:   12.6s\n",
      "[Parallel(n_jobs=-1)]: Done  90 out of  90 | elapsed:   41.6s finished\n"
     ]
    }
   ],
   "source": [
    "lsvc = LinearSVC(C=0.05, \n",
    "                 penalty='l2', \n",
    "                 dual=False, \n",
    "                 class_weight={0:0.5, 1:15},\n",
    "                 random_state=rng\n",
    "                )\n",
    "cv = RepeatedStratifiedKFold(n_splits=3, n_repeats=30, random_state=0)\n",
    "cos = cross_val_score(lsvc,\n",
    "                          X_train,\n",
    "                          y_train,\n",
    "                          scoring='f1',\n",
    "                          cv=cv,\n",
    "                          n_jobs=-1,\n",
    "                          verbose=3)"
   ]
  },
  {
   "cell_type": "code",
   "execution_count": 65,
   "id": "8ede8e37",
   "metadata": {},
   "outputs": [
    {
     "data": {
      "image/png": "[encoded data removed]",
      "text/plain": [
       "<Figure size 640x480 with 1 Axes>"
      ]
     },
     "metadata": {},
     "output_type": "display_data"
    }
   ],
   "source": [
    "plt.hist(cos, bins=20, density=True)\n",
    "plt.show()"
   ]
  },
  {
   "cell_type": "markdown",
   "id": "24445c7d",
   "metadata": {},
   "source": [
    "Crossvalidated f1 score : 0.78\n",
    "Test set f1 score : 0.81"
   ]
  }
 ],
 "metadata": {
  "kernelspec": {
   "display_name": "Python 3 (ipykernel)",
   "language": "python",
   "name": "python3"
  },
  "language_info": {
   "codemirror_mode": {
    "name": "ipython",
    "version": 3
   },
   "file_extension": ".py",
   "mimetype": "text/x-python",
   "name": "python",
   "nbconvert_exporter": "python",
   "pygments_lexer": "ipython3",
   "version": "3.10.9"
  }
 },
 "nbformat": 4,
 "nbformat_minor": 5
}
