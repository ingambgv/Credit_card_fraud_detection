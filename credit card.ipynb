{
 "cells": [
  {
   "cell_type": "markdown",
   "id": "4d4bade7",
   "metadata": {},
   "source": [
    "# Credti Card fraud detection\n",
    "\n",
    "Data science task: Imbalanced binary classification using cost-sensitive learning"
   ]
  },
  {
   "cell_type": "markdown",
   "id": "33465263",
   "metadata": {},
   "source": [
    "## 0. Extracting dataset from Kaggle"
   ]
  },
  {
   "cell_type": "code",
   "execution_count": 3,
   "id": "57a4c8cb",
   "metadata": {},
   "outputs": [
    {
     "name": "stdout",
     "output_type": "stream",
     "text": [
      "Warning: Your Kaggle API key is readable by other users on this system! To fix this, you can run 'chmod 600 /home/gustavo/.kaggle/kaggle.json'\n"
     ]
    }
   ],
   "source": [
    "import kaggle"
   ]
  },
  {
   "cell_type": "code",
   "execution_count": 5,
   "id": "348a7586",
   "metadata": {},
   "outputs": [],
   "source": [
    "def extract_kaggle_dataset(url_kaggle):\n",
    "    \"\"\" Connect with given kaggle url to download all available files.\n",
    "    Arg:\n",
    "        url_kaggle (string): kaggle url from any repository you want to download files.\n",
    "    \"\"\"\n",
    "    # This extract all files from a given kaggle url\n",
    "    kaggle.api.dataset_download_files(url_kaggle, quiet=False, unzip=True)"
   ]
  },
  {
   "cell_type": "code",
   "execution_count": 6,
   "id": "2d6a2122",
   "metadata": {},
   "outputs": [
    {
     "name": "stdout",
     "output_type": "stream",
     "text": [
      "Downloading creditcardfraud.zip to /home/gustavo/Documents/Credit Card\n"
     ]
    },
    {
     "name": "stderr",
     "output_type": "stream",
     "text": [
      "100%|██████████| 66.0M/66.0M [00:16<00:00, 4.25MB/s]\n"
     ]
    },
    {
     "name": "stdout",
     "output_type": "stream",
     "text": [
      "\n"
     ]
    }
   ],
   "source": [
    "extract_kaggle_dataset('mlg-ulb/creditcardfraud')"
   ]
  },
  {
   "cell_type": "markdown",
   "id": "24e44026",
   "metadata": {},
   "source": [
    "## 1. Loading from local directory"
   ]
  },
  {
   "cell_type": "code",
   "execution_count": 9,
   "id": "1eda5522",
   "metadata": {},
   "outputs": [],
   "source": [
    "import numpy as np\n",
    "import pandas as pd\n",
    "import matplotlib.pyplot as plt"
   ]
  },
  {
   "cell_type": "code",
   "execution_count": 10,
   "id": "d1969c2b",
   "metadata": {},
   "outputs": [],
   "source": [
    "# Load credit card fraud data\n",
    "fraud = pd.read_csv('creditcard.csv')"
   ]
  },
  {
   "cell_type": "markdown",
   "id": "fbada1ee",
   "metadata": {},
   "source": [
    "## 2. Exploratory Data Analysis"
   ]
  },
  {
   "cell_type": "code",
   "execution_count": 3,
   "id": "0f23f341",
   "metadata": {},
   "outputs": [
    {
     "data": {
      "text/html": [
       "<div>\n",
       "<style scoped>\n",
       "    .dataframe tbody tr th:only-of-type {\n",
       "        vertical-align: middle;\n",
       "    }\n",
       "\n",
       "    .dataframe tbody tr th {\n",
       "        vertical-align: top;\n",
       "    }\n",
       "\n",
       "    .dataframe thead th {\n",
       "        text-align: right;\n",
       "    }\n",
       "</style>\n",
       "<table border=\"1\" class=\"dataframe\">\n",
       "  <thead>\n",
       "    <tr style=\"text-align: right;\">\n",
       "      <th></th>\n",
       "      <th>Time</th>\n",
       "      <th>V1</th>\n",
       "      <th>V2</th>\n",
       "      <th>V3</th>\n",
       "      <th>V4</th>\n",
       "      <th>V5</th>\n",
       "      <th>V6</th>\n",
       "      <th>V7</th>\n",
       "      <th>V8</th>\n",
       "      <th>V9</th>\n",
       "      <th>...</th>\n",
       "      <th>V21</th>\n",
       "      <th>V22</th>\n",
       "      <th>V23</th>\n",
       "      <th>V24</th>\n",
       "      <th>V25</th>\n",
       "      <th>V26</th>\n",
       "      <th>V27</th>\n",
       "      <th>V28</th>\n",
       "      <th>Amount</th>\n",
       "      <th>Class</th>\n",
       "    </tr>\n",
       "  </thead>\n",
       "  <tbody>\n",
       "    <tr>\n",
       "      <th>0</th>\n",
       "      <td>0.0</td>\n",
       "      <td>-1.359807</td>\n",
       "      <td>-0.072781</td>\n",
       "      <td>2.536347</td>\n",
       "      <td>1.378155</td>\n",
       "      <td>-0.338321</td>\n",
       "      <td>0.462388</td>\n",
       "      <td>0.239599</td>\n",
       "      <td>0.098698</td>\n",
       "      <td>0.363787</td>\n",
       "      <td>...</td>\n",
       "      <td>-0.018307</td>\n",
       "      <td>0.277838</td>\n",
       "      <td>-0.110474</td>\n",
       "      <td>0.066928</td>\n",
       "      <td>0.128539</td>\n",
       "      <td>-0.189115</td>\n",
       "      <td>0.133558</td>\n",
       "      <td>-0.021053</td>\n",
       "      <td>149.62</td>\n",
       "      <td>0</td>\n",
       "    </tr>\n",
       "    <tr>\n",
       "      <th>1</th>\n",
       "      <td>0.0</td>\n",
       "      <td>1.191857</td>\n",
       "      <td>0.266151</td>\n",
       "      <td>0.166480</td>\n",
       "      <td>0.448154</td>\n",
       "      <td>0.060018</td>\n",
       "      <td>-0.082361</td>\n",
       "      <td>-0.078803</td>\n",
       "      <td>0.085102</td>\n",
       "      <td>-0.255425</td>\n",
       "      <td>...</td>\n",
       "      <td>-0.225775</td>\n",
       "      <td>-0.638672</td>\n",
       "      <td>0.101288</td>\n",
       "      <td>-0.339846</td>\n",
       "      <td>0.167170</td>\n",
       "      <td>0.125895</td>\n",
       "      <td>-0.008983</td>\n",
       "      <td>0.014724</td>\n",
       "      <td>2.69</td>\n",
       "      <td>0</td>\n",
       "    </tr>\n",
       "    <tr>\n",
       "      <th>2</th>\n",
       "      <td>1.0</td>\n",
       "      <td>-1.358354</td>\n",
       "      <td>-1.340163</td>\n",
       "      <td>1.773209</td>\n",
       "      <td>0.379780</td>\n",
       "      <td>-0.503198</td>\n",
       "      <td>1.800499</td>\n",
       "      <td>0.791461</td>\n",
       "      <td>0.247676</td>\n",
       "      <td>-1.514654</td>\n",
       "      <td>...</td>\n",
       "      <td>0.247998</td>\n",
       "      <td>0.771679</td>\n",
       "      <td>0.909412</td>\n",
       "      <td>-0.689281</td>\n",
       "      <td>-0.327642</td>\n",
       "      <td>-0.139097</td>\n",
       "      <td>-0.055353</td>\n",
       "      <td>-0.059752</td>\n",
       "      <td>378.66</td>\n",
       "      <td>0</td>\n",
       "    </tr>\n",
       "    <tr>\n",
       "      <th>3</th>\n",
       "      <td>1.0</td>\n",
       "      <td>-0.966272</td>\n",
       "      <td>-0.185226</td>\n",
       "      <td>1.792993</td>\n",
       "      <td>-0.863291</td>\n",
       "      <td>-0.010309</td>\n",
       "      <td>1.247203</td>\n",
       "      <td>0.237609</td>\n",
       "      <td>0.377436</td>\n",
       "      <td>-1.387024</td>\n",
       "      <td>...</td>\n",
       "      <td>-0.108300</td>\n",
       "      <td>0.005274</td>\n",
       "      <td>-0.190321</td>\n",
       "      <td>-1.175575</td>\n",
       "      <td>0.647376</td>\n",
       "      <td>-0.221929</td>\n",
       "      <td>0.062723</td>\n",
       "      <td>0.061458</td>\n",
       "      <td>123.50</td>\n",
       "      <td>0</td>\n",
       "    </tr>\n",
       "    <tr>\n",
       "      <th>4</th>\n",
       "      <td>2.0</td>\n",
       "      <td>-1.158233</td>\n",
       "      <td>0.877737</td>\n",
       "      <td>1.548718</td>\n",
       "      <td>0.403034</td>\n",
       "      <td>-0.407193</td>\n",
       "      <td>0.095921</td>\n",
       "      <td>0.592941</td>\n",
       "      <td>-0.270533</td>\n",
       "      <td>0.817739</td>\n",
       "      <td>...</td>\n",
       "      <td>-0.009431</td>\n",
       "      <td>0.798278</td>\n",
       "      <td>-0.137458</td>\n",
       "      <td>0.141267</td>\n",
       "      <td>-0.206010</td>\n",
       "      <td>0.502292</td>\n",
       "      <td>0.219422</td>\n",
       "      <td>0.215153</td>\n",
       "      <td>69.99</td>\n",
       "      <td>0</td>\n",
       "    </tr>\n",
       "  </tbody>\n",
       "</table>\n",
       "<p>5 rows × 31 columns</p>\n",
       "</div>"
      ],
      "text/plain": [
       "   Time        V1        V2        V3        V4        V5        V6        V7  \\\n",
       "0   0.0 -1.359807 -0.072781  2.536347  1.378155 -0.338321  0.462388  0.239599   \n",
       "1   0.0  1.191857  0.266151  0.166480  0.448154  0.060018 -0.082361 -0.078803   \n",
       "2   1.0 -1.358354 -1.340163  1.773209  0.379780 -0.503198  1.800499  0.791461   \n",
       "3   1.0 -0.966272 -0.185226  1.792993 -0.863291 -0.010309  1.247203  0.237609   \n",
       "4   2.0 -1.158233  0.877737  1.548718  0.403034 -0.407193  0.095921  0.592941   \n",
       "\n",
       "         V8        V9  ...       V21       V22       V23       V24       V25  \\\n",
       "0  0.098698  0.363787  ... -0.018307  0.277838 -0.110474  0.066928  0.128539   \n",
       "1  0.085102 -0.255425  ... -0.225775 -0.638672  0.101288 -0.339846  0.167170   \n",
       "2  0.247676 -1.514654  ...  0.247998  0.771679  0.909412 -0.689281 -0.327642   \n",
       "3  0.377436 -1.387024  ... -0.108300  0.005274 -0.190321 -1.175575  0.647376   \n",
       "4 -0.270533  0.817739  ... -0.009431  0.798278 -0.137458  0.141267 -0.206010   \n",
       "\n",
       "        V26       V27       V28  Amount  Class  \n",
       "0 -0.189115  0.133558 -0.021053  149.62      0  \n",
       "1  0.125895 -0.008983  0.014724    2.69      0  \n",
       "2 -0.139097 -0.055353 -0.059752  378.66      0  \n",
       "3 -0.221929  0.062723  0.061458  123.50      0  \n",
       "4  0.502292  0.219422  0.215153   69.99      0  \n",
       "\n",
       "[5 rows x 31 columns]"
      ]
     },
     "execution_count": 3,
     "metadata": {},
     "output_type": "execute_result"
    }
   ],
   "source": [
    "# Look to the data\n",
    "fraud.head()"
   ]
  },
  {
   "cell_type": "code",
   "execution_count": 12,
   "id": "f9deaa92",
   "metadata": {},
   "outputs": [
    {
     "data": {
      "text/html": [
       "<div>\n",
       "<style scoped>\n",
       "    .dataframe tbody tr th:only-of-type {\n",
       "        vertical-align: middle;\n",
       "    }\n",
       "\n",
       "    .dataframe tbody tr th {\n",
       "        vertical-align: top;\n",
       "    }\n",
       "\n",
       "    .dataframe thead th {\n",
       "        text-align: right;\n",
       "    }\n",
       "</style>\n",
       "<table border=\"1\" class=\"dataframe\">\n",
       "  <thead>\n",
       "    <tr style=\"text-align: right;\">\n",
       "      <th></th>\n",
       "      <th>V1</th>\n",
       "      <th>V2</th>\n",
       "      <th>V3</th>\n",
       "      <th>V4</th>\n",
       "      <th>V5</th>\n",
       "      <th>V6</th>\n",
       "      <th>V7</th>\n",
       "      <th>V8</th>\n",
       "      <th>V9</th>\n",
       "      <th>V10</th>\n",
       "      <th>...</th>\n",
       "      <th>V20</th>\n",
       "      <th>V21</th>\n",
       "      <th>V22</th>\n",
       "      <th>V23</th>\n",
       "      <th>V24</th>\n",
       "      <th>V25</th>\n",
       "      <th>V26</th>\n",
       "      <th>V27</th>\n",
       "      <th>V28</th>\n",
       "      <th>Class</th>\n",
       "    </tr>\n",
       "  </thead>\n",
       "  <tbody>\n",
       "    <tr>\n",
       "      <th>count</th>\n",
       "      <td>2.848070e+05</td>\n",
       "      <td>2.848070e+05</td>\n",
       "      <td>2.848070e+05</td>\n",
       "      <td>2.848070e+05</td>\n",
       "      <td>2.848070e+05</td>\n",
       "      <td>2.848070e+05</td>\n",
       "      <td>2.848070e+05</td>\n",
       "      <td>2.848070e+05</td>\n",
       "      <td>2.848070e+05</td>\n",
       "      <td>2.848070e+05</td>\n",
       "      <td>...</td>\n",
       "      <td>2.848070e+05</td>\n",
       "      <td>2.848070e+05</td>\n",
       "      <td>2.848070e+05</td>\n",
       "      <td>2.848070e+05</td>\n",
       "      <td>2.848070e+05</td>\n",
       "      <td>2.848070e+05</td>\n",
       "      <td>2.848070e+05</td>\n",
       "      <td>2.848070e+05</td>\n",
       "      <td>2.848070e+05</td>\n",
       "      <td>284807.000000</td>\n",
       "    </tr>\n",
       "    <tr>\n",
       "      <th>mean</th>\n",
       "      <td>1.168375e-15</td>\n",
       "      <td>3.416908e-16</td>\n",
       "      <td>-1.379537e-15</td>\n",
       "      <td>2.074095e-15</td>\n",
       "      <td>9.604066e-16</td>\n",
       "      <td>1.487313e-15</td>\n",
       "      <td>-5.556467e-16</td>\n",
       "      <td>1.213481e-16</td>\n",
       "      <td>-2.406331e-15</td>\n",
       "      <td>2.239053e-15</td>\n",
       "      <td>...</td>\n",
       "      <td>6.406204e-16</td>\n",
       "      <td>1.654067e-16</td>\n",
       "      <td>-3.568593e-16</td>\n",
       "      <td>2.578648e-16</td>\n",
       "      <td>4.473266e-15</td>\n",
       "      <td>5.340915e-16</td>\n",
       "      <td>1.683437e-15</td>\n",
       "      <td>-3.660091e-16</td>\n",
       "      <td>-1.227390e-16</td>\n",
       "      <td>0.001727</td>\n",
       "    </tr>\n",
       "    <tr>\n",
       "      <th>std</th>\n",
       "      <td>1.958696e+00</td>\n",
       "      <td>1.651309e+00</td>\n",
       "      <td>1.516255e+00</td>\n",
       "      <td>1.415869e+00</td>\n",
       "      <td>1.380247e+00</td>\n",
       "      <td>1.332271e+00</td>\n",
       "      <td>1.237094e+00</td>\n",
       "      <td>1.194353e+00</td>\n",
       "      <td>1.098632e+00</td>\n",
       "      <td>1.088850e+00</td>\n",
       "      <td>...</td>\n",
       "      <td>7.709250e-01</td>\n",
       "      <td>7.345240e-01</td>\n",
       "      <td>7.257016e-01</td>\n",
       "      <td>6.244603e-01</td>\n",
       "      <td>6.056471e-01</td>\n",
       "      <td>5.212781e-01</td>\n",
       "      <td>4.822270e-01</td>\n",
       "      <td>4.036325e-01</td>\n",
       "      <td>3.300833e-01</td>\n",
       "      <td>0.041527</td>\n",
       "    </tr>\n",
       "    <tr>\n",
       "      <th>min</th>\n",
       "      <td>-5.640751e+01</td>\n",
       "      <td>-7.271573e+01</td>\n",
       "      <td>-4.832559e+01</td>\n",
       "      <td>-5.683171e+00</td>\n",
       "      <td>-1.137433e+02</td>\n",
       "      <td>-2.616051e+01</td>\n",
       "      <td>-4.355724e+01</td>\n",
       "      <td>-7.321672e+01</td>\n",
       "      <td>-1.343407e+01</td>\n",
       "      <td>-2.458826e+01</td>\n",
       "      <td>...</td>\n",
       "      <td>-5.449772e+01</td>\n",
       "      <td>-3.483038e+01</td>\n",
       "      <td>-1.093314e+01</td>\n",
       "      <td>-4.480774e+01</td>\n",
       "      <td>-2.836627e+00</td>\n",
       "      <td>-1.029540e+01</td>\n",
       "      <td>-2.604551e+00</td>\n",
       "      <td>-2.256568e+01</td>\n",
       "      <td>-1.543008e+01</td>\n",
       "      <td>0.000000</td>\n",
       "    </tr>\n",
       "    <tr>\n",
       "      <th>25%</th>\n",
       "      <td>-9.203734e-01</td>\n",
       "      <td>-5.985499e-01</td>\n",
       "      <td>-8.903648e-01</td>\n",
       "      <td>-8.486401e-01</td>\n",
       "      <td>-6.915971e-01</td>\n",
       "      <td>-7.682956e-01</td>\n",
       "      <td>-5.540759e-01</td>\n",
       "      <td>-2.086297e-01</td>\n",
       "      <td>-6.430976e-01</td>\n",
       "      <td>-5.354257e-01</td>\n",
       "      <td>...</td>\n",
       "      <td>-2.117214e-01</td>\n",
       "      <td>-2.283949e-01</td>\n",
       "      <td>-5.423504e-01</td>\n",
       "      <td>-1.618463e-01</td>\n",
       "      <td>-3.545861e-01</td>\n",
       "      <td>-3.171451e-01</td>\n",
       "      <td>-3.269839e-01</td>\n",
       "      <td>-7.083953e-02</td>\n",
       "      <td>-5.295979e-02</td>\n",
       "      <td>0.000000</td>\n",
       "    </tr>\n",
       "    <tr>\n",
       "      <th>50%</th>\n",
       "      <td>1.810880e-02</td>\n",
       "      <td>6.548556e-02</td>\n",
       "      <td>1.798463e-01</td>\n",
       "      <td>-1.984653e-02</td>\n",
       "      <td>-5.433583e-02</td>\n",
       "      <td>-2.741871e-01</td>\n",
       "      <td>4.010308e-02</td>\n",
       "      <td>2.235804e-02</td>\n",
       "      <td>-5.142873e-02</td>\n",
       "      <td>-9.291738e-02</td>\n",
       "      <td>...</td>\n",
       "      <td>-6.248109e-02</td>\n",
       "      <td>-2.945017e-02</td>\n",
       "      <td>6.781943e-03</td>\n",
       "      <td>-1.119293e-02</td>\n",
       "      <td>4.097606e-02</td>\n",
       "      <td>1.659350e-02</td>\n",
       "      <td>-5.213911e-02</td>\n",
       "      <td>1.342146e-03</td>\n",
       "      <td>1.124383e-02</td>\n",
       "      <td>0.000000</td>\n",
       "    </tr>\n",
       "    <tr>\n",
       "      <th>75%</th>\n",
       "      <td>1.315642e+00</td>\n",
       "      <td>8.037239e-01</td>\n",
       "      <td>1.027196e+00</td>\n",
       "      <td>7.433413e-01</td>\n",
       "      <td>6.119264e-01</td>\n",
       "      <td>3.985649e-01</td>\n",
       "      <td>5.704361e-01</td>\n",
       "      <td>3.273459e-01</td>\n",
       "      <td>5.971390e-01</td>\n",
       "      <td>4.539234e-01</td>\n",
       "      <td>...</td>\n",
       "      <td>1.330408e-01</td>\n",
       "      <td>1.863772e-01</td>\n",
       "      <td>5.285536e-01</td>\n",
       "      <td>1.476421e-01</td>\n",
       "      <td>4.395266e-01</td>\n",
       "      <td>3.507156e-01</td>\n",
       "      <td>2.409522e-01</td>\n",
       "      <td>9.104512e-02</td>\n",
       "      <td>7.827995e-02</td>\n",
       "      <td>0.000000</td>\n",
       "    </tr>\n",
       "    <tr>\n",
       "      <th>max</th>\n",
       "      <td>2.454930e+00</td>\n",
       "      <td>2.205773e+01</td>\n",
       "      <td>9.382558e+00</td>\n",
       "      <td>1.687534e+01</td>\n",
       "      <td>3.480167e+01</td>\n",
       "      <td>7.330163e+01</td>\n",
       "      <td>1.205895e+02</td>\n",
       "      <td>2.000721e+01</td>\n",
       "      <td>1.559499e+01</td>\n",
       "      <td>2.374514e+01</td>\n",
       "      <td>...</td>\n",
       "      <td>3.942090e+01</td>\n",
       "      <td>2.720284e+01</td>\n",
       "      <td>1.050309e+01</td>\n",
       "      <td>2.252841e+01</td>\n",
       "      <td>4.584549e+00</td>\n",
       "      <td>7.519589e+00</td>\n",
       "      <td>3.517346e+00</td>\n",
       "      <td>3.161220e+01</td>\n",
       "      <td>3.384781e+01</td>\n",
       "      <td>1.000000</td>\n",
       "    </tr>\n",
       "  </tbody>\n",
       "</table>\n",
       "<p>8 rows × 29 columns</p>\n",
       "</div>"
      ],
      "text/plain": [
       "                 V1            V2            V3            V4            V5  \\\n",
       "count  2.848070e+05  2.848070e+05  2.848070e+05  2.848070e+05  2.848070e+05   \n",
       "mean   1.168375e-15  3.416908e-16 -1.379537e-15  2.074095e-15  9.604066e-16   \n",
       "std    1.958696e+00  1.651309e+00  1.516255e+00  1.415869e+00  1.380247e+00   \n",
       "min   -5.640751e+01 -7.271573e+01 -4.832559e+01 -5.683171e+00 -1.137433e+02   \n",
       "25%   -9.203734e-01 -5.985499e-01 -8.903648e-01 -8.486401e-01 -6.915971e-01   \n",
       "50%    1.810880e-02  6.548556e-02  1.798463e-01 -1.984653e-02 -5.433583e-02   \n",
       "75%    1.315642e+00  8.037239e-01  1.027196e+00  7.433413e-01  6.119264e-01   \n",
       "max    2.454930e+00  2.205773e+01  9.382558e+00  1.687534e+01  3.480167e+01   \n",
       "\n",
       "                 V6            V7            V8            V9           V10  \\\n",
       "count  2.848070e+05  2.848070e+05  2.848070e+05  2.848070e+05  2.848070e+05   \n",
       "mean   1.487313e-15 -5.556467e-16  1.213481e-16 -2.406331e-15  2.239053e-15   \n",
       "std    1.332271e+00  1.237094e+00  1.194353e+00  1.098632e+00  1.088850e+00   \n",
       "min   -2.616051e+01 -4.355724e+01 -7.321672e+01 -1.343407e+01 -2.458826e+01   \n",
       "25%   -7.682956e-01 -5.540759e-01 -2.086297e-01 -6.430976e-01 -5.354257e-01   \n",
       "50%   -2.741871e-01  4.010308e-02  2.235804e-02 -5.142873e-02 -9.291738e-02   \n",
       "75%    3.985649e-01  5.704361e-01  3.273459e-01  5.971390e-01  4.539234e-01   \n",
       "max    7.330163e+01  1.205895e+02  2.000721e+01  1.559499e+01  2.374514e+01   \n",
       "\n",
       "       ...           V20           V21           V22           V23  \\\n",
       "count  ...  2.848070e+05  2.848070e+05  2.848070e+05  2.848070e+05   \n",
       "mean   ...  6.406204e-16  1.654067e-16 -3.568593e-16  2.578648e-16   \n",
       "std    ...  7.709250e-01  7.345240e-01  7.257016e-01  6.244603e-01   \n",
       "min    ... -5.449772e+01 -3.483038e+01 -1.093314e+01 -4.480774e+01   \n",
       "25%    ... -2.117214e-01 -2.283949e-01 -5.423504e-01 -1.618463e-01   \n",
       "50%    ... -6.248109e-02 -2.945017e-02  6.781943e-03 -1.119293e-02   \n",
       "75%    ...  1.330408e-01  1.863772e-01  5.285536e-01  1.476421e-01   \n",
       "max    ...  3.942090e+01  2.720284e+01  1.050309e+01  2.252841e+01   \n",
       "\n",
       "                V24           V25           V26           V27           V28  \\\n",
       "count  2.848070e+05  2.848070e+05  2.848070e+05  2.848070e+05  2.848070e+05   \n",
       "mean   4.473266e-15  5.340915e-16  1.683437e-15 -3.660091e-16 -1.227390e-16   \n",
       "std    6.056471e-01  5.212781e-01  4.822270e-01  4.036325e-01  3.300833e-01   \n",
       "min   -2.836627e+00 -1.029540e+01 -2.604551e+00 -2.256568e+01 -1.543008e+01   \n",
       "25%   -3.545861e-01 -3.171451e-01 -3.269839e-01 -7.083953e-02 -5.295979e-02   \n",
       "50%    4.097606e-02  1.659350e-02 -5.213911e-02  1.342146e-03  1.124383e-02   \n",
       "75%    4.395266e-01  3.507156e-01  2.409522e-01  9.104512e-02  7.827995e-02   \n",
       "max    4.584549e+00  7.519589e+00  3.517346e+00  3.161220e+01  3.384781e+01   \n",
       "\n",
       "               Class  \n",
       "count  284807.000000  \n",
       "mean        0.001727  \n",
       "std         0.041527  \n",
       "min         0.000000  \n",
       "25%         0.000000  \n",
       "50%         0.000000  \n",
       "75%         0.000000  \n",
       "max         1.000000  \n",
       "\n",
       "[8 rows x 29 columns]"
      ]
     },
     "execution_count": 12,
     "metadata": {},
     "output_type": "execute_result"
    }
   ],
   "source": [
    "# Credit card fraud PCA components descriptive stats\n",
    "fraud.drop(columns=['Time','Amount']).describe()"
   ]
  },
  {
   "cell_type": "code",
   "execution_count": 39,
   "id": "f7cb0445",
   "metadata": {},
   "outputs": [
    {
     "data": {
      "text/html": [
       "<div>\n",
       "<style scoped>\n",
       "    .dataframe tbody tr th:only-of-type {\n",
       "        vertical-align: middle;\n",
       "    }\n",
       "\n",
       "    .dataframe tbody tr th {\n",
       "        vertical-align: top;\n",
       "    }\n",
       "\n",
       "    .dataframe thead th {\n",
       "        text-align: right;\n",
       "    }\n",
       "</style>\n",
       "<table border=\"1\" class=\"dataframe\">\n",
       "  <thead>\n",
       "    <tr style=\"text-align: right;\">\n",
       "      <th></th>\n",
       "      <th>Time</th>\n",
       "      <th>Amount</th>\n",
       "    </tr>\n",
       "  </thead>\n",
       "  <tbody>\n",
       "    <tr>\n",
       "      <th>count</th>\n",
       "      <td>284807.000000</td>\n",
       "      <td>284807.000000</td>\n",
       "    </tr>\n",
       "    <tr>\n",
       "      <th>mean</th>\n",
       "      <td>94813.859575</td>\n",
       "      <td>88.349619</td>\n",
       "    </tr>\n",
       "    <tr>\n",
       "      <th>std</th>\n",
       "      <td>47488.145955</td>\n",
       "      <td>250.120109</td>\n",
       "    </tr>\n",
       "    <tr>\n",
       "      <th>min</th>\n",
       "      <td>0.000000</td>\n",
       "      <td>0.000000</td>\n",
       "    </tr>\n",
       "    <tr>\n",
       "      <th>25%</th>\n",
       "      <td>54201.500000</td>\n",
       "      <td>5.600000</td>\n",
       "    </tr>\n",
       "    <tr>\n",
       "      <th>50%</th>\n",
       "      <td>84692.000000</td>\n",
       "      <td>22.000000</td>\n",
       "    </tr>\n",
       "    <tr>\n",
       "      <th>75%</th>\n",
       "      <td>139320.500000</td>\n",
       "      <td>77.165000</td>\n",
       "    </tr>\n",
       "    <tr>\n",
       "      <th>max</th>\n",
       "      <td>172792.000000</td>\n",
       "      <td>25691.160000</td>\n",
       "    </tr>\n",
       "  </tbody>\n",
       "</table>\n",
       "</div>"
      ],
      "text/plain": [
       "                Time         Amount\n",
       "count  284807.000000  284807.000000\n",
       "mean    94813.859575      88.349619\n",
       "std     47488.145955     250.120109\n",
       "min         0.000000       0.000000\n",
       "25%     54201.500000       5.600000\n",
       "50%     84692.000000      22.000000\n",
       "75%    139320.500000      77.165000\n",
       "max    172792.000000   25691.160000"
      ]
     },
     "execution_count": 39,
     "metadata": {},
     "output_type": "execute_result"
    }
   ],
   "source": [
    "# Credit card fraud time and amount fearure descriptive stats\n",
    "fraud[['Time','Amount']].describe()"
   ]
  },
  {
   "cell_type": "code",
   "execution_count": 3,
   "id": "6c3bed97",
   "metadata": {},
   "outputs": [
    {
     "data": {
      "text/plain": [
       "(284807, 31)"
      ]
     },
     "execution_count": 3,
     "metadata": {},
     "output_type": "execute_result"
    }
   ],
   "source": [
    "# credit card fraud dataset dimension\n",
    "fraud.shape"
   ]
  },
  {
   "cell_type": "code",
   "execution_count": 5,
   "id": "378271a8",
   "metadata": {},
   "outputs": [
    {
     "data": {
      "text/plain": [
       "True         284315\n",
       "Fradulent       492\n",
       "Name: Class, dtype: int64"
      ]
     },
     "execution_count": 5,
     "metadata": {},
     "output_type": "execute_result"
    }
   ],
   "source": [
    "# Transaction type counts\n",
    "fraud['Class'].value_counts().rename(index={0:'True', 1:'Fradulent'})"
   ]
  },
  {
   "cell_type": "markdown",
   "id": "c9996f47",
   "metadata": {},
   "source": [
    "It's is highly imbalanced"
   ]
  },
  {
   "cell_type": "code",
   "execution_count": 7,
   "id": "66275c8a",
   "metadata": {},
   "outputs": [
    {
     "data": {
      "text/plain": [
       "Text(0.5, 0, 'Type of transaction')"
      ]
     },
     "execution_count": 7,
     "metadata": {},
     "output_type": "execute_result"
    },
    {
     "data": {
      "image/png": "[encoded data removed]",
      "text/plain": [
       "<Figure size 640x480 with 1 Axes>"
      ]
     },
     "metadata": {},
     "output_type": "display_data"
    }
   ],
   "source": [
    "# Transaction type counts bar plot\n",
    "fraud['Class'].value_counts().rename(index={0:'True', 1:'Fradulent'}).plot.bar(logy=True)\n",
    "plt.title('Credit card transaction type')\n",
    "plt.ylabel('Number of transactions (log(counts))')\n",
    "plt.xlabel('Type of transaction')\n",
    "plt.show()"
   ]
  },
  {
   "cell_type": "code",
   "execution_count": 25,
   "id": "a3c2bbf3",
   "metadata": {},
   "outputs": [
    {
     "data": {
      "image/png": "[encoded data removed]",
      "text/plain": [
       "<Figure size 640x480 with 1 Axes>"
      ]
     },
     "metadata": {},
     "output_type": "display_data"
    }
   ],
   "source": [
    "# Transaction amount histogram plot\n",
    "fraud['Amount'].plot.hist(logy=True)\n",
    "plt.axvline(x=fraud['Amount'].mean(), color = 'r', label = 'Amount mean')\n",
    "plt.title('Transaction amount histogram')\n",
    "plt.xlabel('Amount per transaction')\n",
    "plt.ylabel('log(Counts)')\n",
    "plt.legend()\n",
    "plt.show()"
   ]
  },
  {
   "cell_type": "code",
   "execution_count": 27,
   "id": "6786f86c",
   "metadata": {},
   "outputs": [
    {
     "data": {
      "text/plain": [
       "<Axes: >"
      ]
     },
     "execution_count": 27,
     "metadata": {},
     "output_type": "execute_result"
    },
    {
     "data": {
      "image/png": "[encoded data removed]",
      "text/plain": [
       "<Figure size 640x480 with 1 Axes>"
      ]
     },
     "metadata": {},
     "output_type": "display_data"
    }
   ],
   "source": [
    "fraud['Time'].cumsum().plot()"
   ]
  },
  {
   "cell_type": "markdown",
   "id": "6ceb4b0f",
   "metadata": {},
   "source": [
    "### 2.2. Pllotting dataset using PCA components\n",
    "\n",
    "There are 2 feature selection types. one using the component with the hightest explained variance and using the componet with the hightest eigenvalue per component."
   ]
  },
  {
   "cell_type": "code",
   "execution_count": 33,
   "id": "25559876",
   "metadata": {},
   "outputs": [
    {
     "data": {
      "image/png": "[encoded data removed]",
      "text/plain": [
       "<Figure size 640x480 with 1 Axes>"
      ]
     },
     "metadata": {},
     "output_type": "display_data"
    }
   ],
   "source": [
    "plt.scatter(x=fraud['V1'],y=fraud['V2'], c=fraud['Class'])\n",
    "plt.show()"
   ]
  },
  {
   "cell_type": "code",
   "execution_count": 35,
   "id": "c027bcfb",
   "metadata": {},
   "outputs": [
    {
     "data": {
      "image/png": "[encoded data removed]",
      "text/plain": [
       "<Figure size 640x480 with 1 Axes>"
      ]
     },
     "metadata": {},
     "output_type": "display_data"
    }
   ],
   "source": [
    "plt.scatter(x=fraud['V7'],y=fraud['V6'], c=fraud['Class'])\n",
    "plt.show()"
   ]
  },
  {
   "cell_type": "markdown",
   "id": "d12a26e3",
   "metadata": {},
   "source": [
    "### 2.3. Correlation between features and labels\n",
    "\n",
    "It's use Point Biserial correlation to calculate correlation between continuos and binary variable. There's significate staIf p-value is less than 0.05"
   ]
  },
  {
   "cell_type": "code",
   "execution_count": 7,
   "id": "69c2e1ef",
   "metadata": {},
   "outputs": [],
   "source": [
    "from scipy import stats"
   ]
  },
  {
   "cell_type": "code",
   "execution_count": 13,
   "id": "54e2ef2c",
   "metadata": {},
   "outputs": [
    {
     "name": "stdout",
     "output_type": "stream",
     "text": [
      "V1 SignificanceResult(statistic=-0.10134729859508607, pvalue=0.0)\n",
      "V2 SignificanceResult(statistic=0.09128865034462016, pvalue=0.0)\n",
      "V3 SignificanceResult(statistic=-0.19296082706741524, pvalue=0.0)\n",
      "V4 SignificanceResult(statistic=0.13344748623900582, pvalue=0.0)\n",
      "V5 SignificanceResult(statistic=-0.09497429899144924, pvalue=0.0)\n",
      "V6 SignificanceResult(statistic=-0.04364316069996427, pvalue=4.213111345325936e-120)\n",
      "V7 SignificanceResult(statistic=-0.1872565915142998, pvalue=0.0)\n",
      "V8 SignificanceResult(statistic=0.01987512391479456, pvalue=2.7406731012506354e-26)\n",
      "V9 SignificanceResult(statistic=-0.09773268607407982, pvalue=0.0)\n",
      "V10 SignificanceResult(statistic=-0.21688294364102964, pvalue=0.0)\n",
      "V11 SignificanceResult(statistic=0.154875644743949, pvalue=0.0)\n",
      "V12 SignificanceResult(statistic=-0.2605929248772197, pvalue=0.0)\n",
      "V13 SignificanceResult(statistic=-0.004569778799461305, pvalue=0.014737338961000997)\n",
      "V14 SignificanceResult(statistic=-0.3025436958044071, pvalue=0.0)\n",
      "V15 SignificanceResult(statistic=-0.004223402267856707, pvalue=0.024201426001455077)\n",
      "V16 SignificanceResult(statistic=-0.19653894030402028, pvalue=0.0)\n",
      "V17 SignificanceResult(statistic=-0.32648106724371756, pvalue=0.0)\n",
      "V18 SignificanceResult(statistic=-0.11148525388904217, pvalue=0.0)\n",
      "V19 SignificanceResult(statistic=0.03478301303651509, pvalue=5.8015173021586385e-77)\n",
      "V20 SignificanceResult(statistic=0.02009032419697556, pvalue=7.964292023523612e-27)\n",
      "V21 SignificanceResult(statistic=0.040413380610575984, pvalue=3.002268557850843e-103)\n",
      "V22 SignificanceResult(statistic=0.0008053175052984618, pvalue=0.6673596913925252)\n",
      "V23 SignificanceResult(statistic=-0.002685155740250706, pvalue=0.15186019852141144)\n",
      "V24 SignificanceResult(statistic=-0.0072209067159527945, pvalue=0.00011637602808851188)\n",
      "V25 SignificanceResult(statistic=0.003307705597299683, pvalue=0.07752500938140847)\n",
      "V26 SignificanceResult(statistic=0.004455397501283389, pvalue=0.017419705371244553)\n",
      "V27 SignificanceResult(statistic=0.017579728189513408, pvalue=6.441920343674859e-21)\n",
      "V28 SignificanceResult(statistic=0.009536040916236272, pvalue=3.5953535619905914e-07)\n"
     ]
    }
   ],
   "source": [
    "for c in fraud.drop(columns=['Time','Amount','Class']).columns:\n",
    "    print(c, stats.pointbiserialr(fraud['Class'], fraud[c]))"
   ]
  },
  {
   "cell_type": "code",
   "execution_count": 14,
   "id": "ac52e2fd",
   "metadata": {},
   "outputs": [
    {
     "data": {
      "text/plain": [
       "SignificanceResult(statistic=-0.012322570929245751, pvalue=4.818268891796334e-11)"
      ]
     },
     "execution_count": 14,
     "metadata": {},
     "output_type": "execute_result"
    }
   ],
   "source": [
    "stats.pointbiserialr(fraud['Class'], fraud['Time'])"
   ]
  },
  {
   "cell_type": "code",
   "execution_count": 15,
   "id": "339a1e21",
   "metadata": {},
   "outputs": [
    {
     "data": {
      "text/plain": [
       "SignificanceResult(statistic=0.0056317530067686, pvalue=0.002651220649191581)"
      ]
     },
     "execution_count": 15,
     "metadata": {},
     "output_type": "execute_result"
    }
   ],
   "source": [
    "stats.pointbiserialr(fraud['Class'], fraud['Amount'])"
   ]
  },
  {
   "cell_type": "markdown",
   "id": "97e7ca1c",
   "metadata": {},
   "source": [
    "Since the p-value of this correlation is not less than .05, this correlation is not statistically significant. \n",
    "\n",
    "Higher coefficients denote a stronger magnitude of relationship between variables. Smaller coefficients denote weaker relationships. \n",
    "\n",
    "Components 22, 23 and 25 has not significant correlation. Components 1 3 4 7 10 11 12 14 16 17 18 has > 10 coefficients with the strongest magnitud of relationship with labels "
   ]
  },
  {
   "cell_type": "markdown",
   "id": "14b93687",
   "metadata": {},
   "source": [
    "### 2.3. Correlation between PCA features "
   ]
  },
  {
   "cell_type": "code",
   "execution_count": 5,
   "id": "e978d392",
   "metadata": {},
   "outputs": [
    {
     "data": {
      "text/plain": [
       "<matplotlib.image.AxesImage at 0x7f170f635480>"
      ]
     },
     "execution_count": 5,
     "metadata": {},
     "output_type": "execute_result"
    },
    {
     "data": {
      "image/png": "[encoded data removed]",
      "text/plain": [
       "<Figure size 640x480 with 1 Axes>"
      ]
     },
     "metadata": {},
     "output_type": "display_data"
    }
   ],
   "source": [
    "plt.imshow(fraud.drop(columns=['Class','Time','Amount']).corr())"
   ]
  },
  {
   "cell_type": "markdown",
   "id": "57fc8498",
   "metadata": {},
   "source": [
    "It is expected to have correlation coefficients near to 0 because PCA components are linearlly independent."
   ]
  },
  {
   "cell_type": "code",
   "execution_count": 5,
   "id": "a2470237",
   "metadata": {},
   "outputs": [
    {
     "data": {
      "text/html": [
       "<div>\n",
       "<style scoped>\n",
       "    .dataframe tbody tr th:only-of-type {\n",
       "        vertical-align: middle;\n",
       "    }\n",
       "\n",
       "    .dataframe tbody tr th {\n",
       "        vertical-align: top;\n",
       "    }\n",
       "\n",
       "    .dataframe thead th {\n",
       "        text-align: right;\n",
       "    }\n",
       "</style>\n",
       "<table border=\"1\" class=\"dataframe\">\n",
       "  <thead>\n",
       "    <tr style=\"text-align: right;\">\n",
       "      <th></th>\n",
       "      <th>Time</th>\n",
       "      <th>Amount</th>\n",
       "    </tr>\n",
       "  </thead>\n",
       "  <tbody>\n",
       "    <tr>\n",
       "      <th>Time</th>\n",
       "      <td>1.000000</td>\n",
       "      <td>-0.010596</td>\n",
       "    </tr>\n",
       "    <tr>\n",
       "      <th>Amount</th>\n",
       "      <td>-0.010596</td>\n",
       "      <td>1.000000</td>\n",
       "    </tr>\n",
       "  </tbody>\n",
       "</table>\n",
       "</div>"
      ],
      "text/plain": [
       "            Time    Amount\n",
       "Time    1.000000 -0.010596\n",
       "Amount -0.010596  1.000000"
      ]
     },
     "execution_count": 5,
     "metadata": {},
     "output_type": "execute_result"
    }
   ],
   "source": [
    "fraud[['Time','Amount']].corr()"
   ]
  },
  {
   "cell_type": "markdown",
   "id": "5ca082f8",
   "metadata": {},
   "source": [
    "## 3. Imbalanced classification with linearSVM\n",
    "\n",
    "I'm going to run classification using just PCA components as input feature with and without cost-sensitive learning to compare results. I'll expect that hyperparameter tunning and crossvalidation optimal k-fold change."
   ]
  },
  {
   "cell_type": "code",
   "execution_count": 13,
   "id": "5b795f1b",
   "metadata": {},
   "outputs": [],
   "source": [
    "from sklearn.svm import LinearSVC\n",
    "from sklearn.model_selection import train_test_split, RepeatedStratifiedKFold, GridSearchCV"
   ]
  },
  {
   "cell_type": "markdown",
   "id": "62383cba",
   "metadata": {},
   "source": [
    "## 3.1. Imbalanced PCA components only."
   ]
  },
  {
   "cell_type": "code",
   "execution_count": 14,
   "id": "b400d884",
   "metadata": {},
   "outputs": [],
   "source": [
    "# A numpy random state object to create random state instances at each use\n",
    "rng = np.random.RandomState(0)\n",
    "\n",
    "# Dividing dataset in input features and labels\n",
    "y = fraud['Class']\n",
    "X = fraud.drop(columns=['Time','Amount','Class'])\n",
    "\n",
    "# Spliting data into train/test  \n",
    "X_train, X_test, y_train, y_test = train_test_split(X, y, random_state=rng)"
   ]
  },
  {
   "cell_type": "markdown",
   "id": "c8738fbe",
   "metadata": {},
   "source": [
    "### 3.1.1. Inspecting effect of SVM's C parameter and l-norm (regularization) on imbalanced learning.\n"
   ]
  },
  {
   "cell_type": "markdown",
   "id": "11f7bb95",
   "metadata": {},
   "source": [
    "I would like to see how C parameter and l-norm (C and L-norm pair candidates) behaves performing binary classification on this imbalanced dataset. For doing so, I'll run the following experiments\n",
    "\n",
    "1) I'll run a 3-fold crossvalidation grid search routine over 18 pairs candidates to find the 3 best pair candidates on the same crossvalidated partitions.\n",
    "2) I'll run a 3-fold repeted stratified crossvalidation grid search routine to get 90 samples for each pair canditates.\n",
    "3) I'll run a multi hypothesis test to find if there's statistical differences between the 3 pair candidates using frequentist and bayensian approach.\n",
    "4) If there's no differences across the 3 best pair candidates, I'll pick the pair candidate with the lowest fitting time.\n",
    "\n",
    "The metrics to compare performance will be F1 score and also, I want to inspect the Precision/Recall pair to see if the model have the ability to find all positive samples and it is capable of no classifying a positive sample as negative. \n",
    "\n",
    "I'll use the same metodology on cost-sensitive learning"
   ]
  },
  {
   "cell_type": "code",
   "execution_count": 15,
   "id": "022acb77",
   "metadata": {
    "scrolled": true
   },
   "outputs": [
    {
     "data": {
      "text/html": [
       "<style>#sk-container-id-1 {color: black;background-color: white;}#sk-container-id-1 pre{padding: 0;}#sk-container-id-1 div.sk-toggleable {background-color: white;}#sk-container-id-1 label.sk-toggleable__label {cursor: pointer;display: block;width: 100%;margin-bottom: 0;padding: 0.3em;box-sizing: border-box;text-align: center;}#sk-container-id-1 label.sk-toggleable__label-arrow:before {content: \"▸\";float: left;margin-right: 0.25em;color: #696969;}#sk-container-id-1 label.sk-toggleable__label-arrow:hover:before {color: black;}#sk-container-id-1 div.sk-estimator:hover label.sk-toggleable__label-arrow:before {color: black;}#sk-container-id-1 div.sk-toggleable__content {max-height: 0;max-width: 0;overflow: hidden;text-align: left;background-color: #f0f8ff;}#sk-container-id-1 div.sk-toggleable__content pre {margin: 0.2em;color: black;border-radius: 0.25em;background-color: #f0f8ff;}#sk-container-id-1 input.sk-toggleable__control:checked~div.sk-toggleable__content {max-height: 200px;max-width: 100%;overflow: auto;}#sk-container-id-1 input.sk-toggleable__control:checked~label.sk-toggleable__label-arrow:before {content: \"▾\";}#sk-container-id-1 div.sk-estimator input.sk-toggleable__control:checked~label.sk-toggleable__label {background-color: #d4ebff;}#sk-container-id-1 div.sk-label input.sk-toggleable__control:checked~label.sk-toggleable__label {background-color: #d4ebff;}#sk-container-id-1 input.sk-hidden--visually {border: 0;clip: rect(1px 1px 1px 1px);clip: rect(1px, 1px, 1px, 1px);height: 1px;margin: -1px;overflow: hidden;padding: 0;position: absolute;width: 1px;}#sk-container-id-1 div.sk-estimator {font-family: monospace;background-color: #f0f8ff;border: 1px dotted black;border-radius: 0.25em;box-sizing: border-box;margin-bottom: 0.5em;}#sk-container-id-1 div.sk-estimator:hover {background-color: #d4ebff;}#sk-container-id-1 div.sk-parallel-item::after {content: \"\";width: 100%;border-bottom: 1px solid gray;flex-grow: 1;}#sk-container-id-1 div.sk-label:hover label.sk-toggleable__label {background-color: #d4ebff;}#sk-container-id-1 div.sk-serial::before {content: \"\";position: absolute;border-left: 1px solid gray;box-sizing: border-box;top: 0;bottom: 0;left: 50%;z-index: 0;}#sk-container-id-1 div.sk-serial {display: flex;flex-direction: column;align-items: center;background-color: white;padding-right: 0.2em;padding-left: 0.2em;position: relative;}#sk-container-id-1 div.sk-item {position: relative;z-index: 1;}#sk-container-id-1 div.sk-parallel {display: flex;align-items: stretch;justify-content: center;background-color: white;position: relative;}#sk-container-id-1 div.sk-item::before, #sk-container-id-1 div.sk-parallel-item::before {content: \"\";position: absolute;border-left: 1px solid gray;box-sizing: border-box;top: 0;bottom: 0;left: 50%;z-index: -1;}#sk-container-id-1 div.sk-parallel-item {display: flex;flex-direction: column;z-index: 1;position: relative;background-color: white;}#sk-container-id-1 div.sk-parallel-item:first-child::after {align-self: flex-end;width: 50%;}#sk-container-id-1 div.sk-parallel-item:last-child::after {align-self: flex-start;width: 50%;}#sk-container-id-1 div.sk-parallel-item:only-child::after {width: 0;}#sk-container-id-1 div.sk-dashed-wrapped {border: 1px dashed gray;margin: 0 0.4em 0.5em 0.4em;box-sizing: border-box;padding-bottom: 0.4em;background-color: white;}#sk-container-id-1 div.sk-label label {font-family: monospace;font-weight: bold;display: inline-block;line-height: 1.2em;}#sk-container-id-1 div.sk-label-container {text-align: center;}#sk-container-id-1 div.sk-container {/* jupyter's `normalize.less` sets `[hidden] { display: none; }` but bootstrap.min.css set `[hidden] { display: none !important; }` so we also need the `!important` here to be able to override the default hidden behavior on the sphinx rendered scikit-learn.org. See: https://github.com/scikit-learn/scikit-learn/issues/21755 */display: inline-block !important;position: relative;}#sk-container-id-1 div.sk-text-repr-fallback {display: none;}</style><div id=\"sk-container-id-1\" class=\"sk-top-container\"><div class=\"sk-text-repr-fallback\"><pre>GridSearchCV(cv=3,\n",
       "             estimator=LinearSVC(dual=False,\n",
       "                                 random_state=RandomState(MT19937) at 0x7FE568492F40),\n",
       "             param_grid={&#x27;C&#x27;: [0.001, 0.005, 0.01, 0.05, 0.1, 0.5, 1, 10, 100],\n",
       "                         &#x27;penalty&#x27;: (&#x27;l1&#x27;, &#x27;l2&#x27;)},\n",
       "             scoring=&#x27;f1&#x27;)</pre><b>In a Jupyter environment, please rerun this cell to show the HTML representation or trust the notebook. <br />On GitHub, the HTML representation is unable to render, please try loading this page with nbviewer.org.</b></div><div class=\"sk-container\" hidden><div class=\"sk-item sk-dashed-wrapped\"><div class=\"sk-label-container\"><div class=\"sk-label sk-toggleable\"><input class=\"sk-toggleable__control sk-hidden--visually\" id=\"sk-estimator-id-1\" type=\"checkbox\" ><label for=\"sk-estimator-id-1\" class=\"sk-toggleable__label sk-toggleable__label-arrow\">GridSearchCV</label><div class=\"sk-toggleable__content\"><pre>GridSearchCV(cv=3,\n",
       "             estimator=LinearSVC(dual=False,\n",
       "                                 random_state=RandomState(MT19937) at 0x7FE568492F40),\n",
       "             param_grid={&#x27;C&#x27;: [0.001, 0.005, 0.01, 0.05, 0.1, 0.5, 1, 10, 100],\n",
       "                         &#x27;penalty&#x27;: (&#x27;l1&#x27;, &#x27;l2&#x27;)},\n",
       "             scoring=&#x27;f1&#x27;)</pre></div></div></div><div class=\"sk-parallel\"><div class=\"sk-parallel-item\"><div class=\"sk-item\"><div class=\"sk-label-container\"><div class=\"sk-label sk-toggleable\"><input class=\"sk-toggleable__control sk-hidden--visually\" id=\"sk-estimator-id-2\" type=\"checkbox\" ><label for=\"sk-estimator-id-2\" class=\"sk-toggleable__label sk-toggleable__label-arrow\">estimator: LinearSVC</label><div class=\"sk-toggleable__content\"><pre>LinearSVC(dual=False, random_state=RandomState(MT19937) at 0x7FE568492F40)</pre></div></div></div><div class=\"sk-serial\"><div class=\"sk-item\"><div class=\"sk-estimator sk-toggleable\"><input class=\"sk-toggleable__control sk-hidden--visually\" id=\"sk-estimator-id-3\" type=\"checkbox\" ><label for=\"sk-estimator-id-3\" class=\"sk-toggleable__label sk-toggleable__label-arrow\">LinearSVC</label><div class=\"sk-toggleable__content\"><pre>LinearSVC(dual=False, random_state=RandomState(MT19937) at 0x7FE568492F40)</pre></div></div></div></div></div></div></div></div></div></div>"
      ],
      "text/plain": [
       "GridSearchCV(cv=3,\n",
       "             estimator=LinearSVC(dual=False,\n",
       "                                 random_state=RandomState(MT19937) at 0x7FE568492F40),\n",
       "             param_grid={'C': [0.001, 0.005, 0.01, 0.05, 0.1, 0.5, 1, 10, 100],\n",
       "                         'penalty': ('l1', 'l2')},\n",
       "             scoring='f1')"
      ]
     },
     "execution_count": 15,
     "metadata": {},
     "output_type": "execute_result"
    }
   ],
   "source": [
    "# Grid search hyperparameter tunnig routine for 1)\n",
    "\n",
    "# Parameters to search\n",
    "parameters = {'penalty':('l1', 'l2'), \n",
    "              'C':[0.001, 0.005, 0.01, 0.05, 0.1, 0.5, 1, 10, 100]\n",
    "             }\n",
    "\n",
    "# Creating estimator instance\n",
    "\n",
    "lsvc = LinearSVC(dual=False, random_state=rng)\n",
    "\n",
    "# Creating grid search instance\n",
    "search = GridSearchCV(estimator=lsvc, param_grid=parameters, scoring=\"f1\", cv=3, verbose=0)\n",
    "\n",
    "# Fitting grid search instance\n",
    "search.fit(X_train, y_train)"
   ]
  },
  {
   "cell_type": "code",
   "execution_count": 16,
   "id": "b061b63f",
   "metadata": {},
   "outputs": [],
   "source": [
    "# Storing 1st resutls in a data frame\n",
    "results = pd.DataFrame(data=search.cv_results_)\n",
    "results.to_pickle('/home/gustavo/Documents/credit_card/first_experiment_results.pkl')"
   ]
  },
  {
   "cell_type": "code",
   "execution_count": 17,
   "id": "78ddad6a",
   "metadata": {},
   "outputs": [],
   "source": [
    "# Checkpoint to load 1st experiment results dataframe\n",
    "results = pd.read_pickle('/home/gustavo/Documents/credit_card/first_experiment_results.pkl')"
   ]
  },
  {
   "cell_type": "code",
   "execution_count": 18,
   "id": "11a17351",
   "metadata": {},
   "outputs": [
    {
     "data": {
      "text/html": [
       "<div>\n",
       "<style scoped>\n",
       "    .dataframe tbody tr th:only-of-type {\n",
       "        vertical-align: middle;\n",
       "    }\n",
       "\n",
       "    .dataframe tbody tr th {\n",
       "        vertical-align: top;\n",
       "    }\n",
       "\n",
       "    .dataframe thead th {\n",
       "        text-align: right;\n",
       "    }\n",
       "</style>\n",
       "<table border=\"1\" class=\"dataframe\">\n",
       "  <thead>\n",
       "    <tr style=\"text-align: right;\">\n",
       "      <th></th>\n",
       "      <th>mean_fit_time</th>\n",
       "      <th>std_fit_time</th>\n",
       "      <th>mean_score_time</th>\n",
       "      <th>std_score_time</th>\n",
       "      <th>param_C</th>\n",
       "      <th>param_penalty</th>\n",
       "      <th>params</th>\n",
       "      <th>split0_test_score</th>\n",
       "      <th>split1_test_score</th>\n",
       "      <th>split2_test_score</th>\n",
       "      <th>mean_test_score</th>\n",
       "      <th>std_test_score</th>\n",
       "      <th>rank_test_score</th>\n",
       "    </tr>\n",
       "  </thead>\n",
       "  <tbody>\n",
       "    <tr>\n",
       "      <th>6</th>\n",
       "      <td>7.202665</td>\n",
       "      <td>2.163170</td>\n",
       "      <td>0.021306</td>\n",
       "      <td>0.001134</td>\n",
       "      <td>0.05</td>\n",
       "      <td>l1</td>\n",
       "      <td>{'C': 0.05, 'penalty': 'l1'}</td>\n",
       "      <td>0.666667</td>\n",
       "      <td>0.772727</td>\n",
       "      <td>0.663265</td>\n",
       "      <td>0.700886</td>\n",
       "      <td>0.050818</td>\n",
       "      <td>2</td>\n",
       "    </tr>\n",
       "    <tr>\n",
       "      <th>7</th>\n",
       "      <td>0.640807</td>\n",
       "      <td>0.056735</td>\n",
       "      <td>0.023563</td>\n",
       "      <td>0.004272</td>\n",
       "      <td>0.05</td>\n",
       "      <td>l2</td>\n",
       "      <td>{'C': 0.05, 'penalty': 'l2'}</td>\n",
       "      <td>0.679803</td>\n",
       "      <td>0.755760</td>\n",
       "      <td>0.663265</td>\n",
       "      <td>0.699610</td>\n",
       "      <td>0.040275</td>\n",
       "      <td>3</td>\n",
       "    </tr>\n",
       "    <tr>\n",
       "      <th>8</th>\n",
       "      <td>7.546346</td>\n",
       "      <td>0.750423</td>\n",
       "      <td>0.020613</td>\n",
       "      <td>0.000284</td>\n",
       "      <td>0.1</td>\n",
       "      <td>l1</td>\n",
       "      <td>{'C': 0.1, 'penalty': 'l1'}</td>\n",
       "      <td>0.679803</td>\n",
       "      <td>0.761468</td>\n",
       "      <td>0.663265</td>\n",
       "      <td>0.701512</td>\n",
       "      <td>0.042929</td>\n",
       "      <td>1</td>\n",
       "    </tr>\n",
       "    <tr>\n",
       "      <th>9</th>\n",
       "      <td>0.635698</td>\n",
       "      <td>0.073850</td>\n",
       "      <td>0.024466</td>\n",
       "      <td>0.003920</td>\n",
       "      <td>0.1</td>\n",
       "      <td>l2</td>\n",
       "      <td>{'C': 0.1, 'penalty': 'l2'}</td>\n",
       "      <td>0.679803</td>\n",
       "      <td>0.755760</td>\n",
       "      <td>0.663265</td>\n",
       "      <td>0.699610</td>\n",
       "      <td>0.040275</td>\n",
       "      <td>3</td>\n",
       "    </tr>\n",
       "  </tbody>\n",
       "</table>\n",
       "</div>"
      ],
      "text/plain": [
       "   mean_fit_time  std_fit_time  mean_score_time  std_score_time param_C  \\\n",
       "6       7.202665      2.163170         0.021306        0.001134    0.05   \n",
       "7       0.640807      0.056735         0.023563        0.004272    0.05   \n",
       "8       7.546346      0.750423         0.020613        0.000284     0.1   \n",
       "9       0.635698      0.073850         0.024466        0.003920     0.1   \n",
       "\n",
       "  param_penalty                        params  split0_test_score  \\\n",
       "6            l1  {'C': 0.05, 'penalty': 'l1'}           0.666667   \n",
       "7            l2  {'C': 0.05, 'penalty': 'l2'}           0.679803   \n",
       "8            l1   {'C': 0.1, 'penalty': 'l1'}           0.679803   \n",
       "9            l2   {'C': 0.1, 'penalty': 'l2'}           0.679803   \n",
       "\n",
       "   split1_test_score  split2_test_score  mean_test_score  std_test_score  \\\n",
       "6           0.772727           0.663265         0.700886        0.050818   \n",
       "7           0.755760           0.663265         0.699610        0.040275   \n",
       "8           0.761468           0.663265         0.701512        0.042929   \n",
       "9           0.755760           0.663265         0.699610        0.040275   \n",
       "\n",
       "   rank_test_score  \n",
       "6                2  \n",
       "7                3  \n",
       "8                1  \n",
       "9                3  "
      ]
     },
     "execution_count": 18,
     "metadata": {},
     "output_type": "execute_result"
    }
   ],
   "source": [
    "# Visalizing 3 best pair candidates. In fact, 4\n",
    "results[(results['rank_test_score'] == 1) | (results['rank_test_score'] == 2) | (results['rank_test_score'] == 3)]"
   ]
  },
  {
   "cell_type": "code",
   "execution_count": 19,
   "id": "59578883",
   "metadata": {},
   "outputs": [
    {
     "data": {
      "text/plain": [
       "6    {'C': 0.05, 'penalty': 'l1'}\n",
       "7    {'C': 0.05, 'penalty': 'l2'}\n",
       "8     {'C': 0.1, 'penalty': 'l1'}\n",
       "9     {'C': 0.1, 'penalty': 'l2'}\n",
       "Name: params, dtype: object"
      ]
     },
     "execution_count": 19,
     "metadata": {},
     "output_type": "execute_result"
    }
   ],
   "source": [
    "# I extract the best pair candidates parameters\n",
    "parameters_to_test = results.loc[(results['rank_test_score'] == 1) | (results['rank_test_score'] == 2) | (results['rank_test_score'] == 3), 'params']\n",
    "parameters_to_test"
   ]
  },
  {
   "cell_type": "code",
   "execution_count": 20,
   "id": "560fe8a9",
   "metadata": {},
   "outputs": [
    {
     "name": "stderr",
     "output_type": "stream",
     "text": [
      "/home/gustavo/anaconda3/lib/python3.10/site-packages/sklearn/svm/_base.py:1244: ConvergenceWarning: Liblinear failed to converge, increase the number of iterations.\n",
      "  warnings.warn(\n",
      "/home/gustavo/anaconda3/lib/python3.10/site-packages/sklearn/svm/_base.py:1244: ConvergenceWarning: Liblinear failed to converge, increase the number of iterations.\n",
      "  warnings.warn(\n",
      "/home/gustavo/anaconda3/lib/python3.10/site-packages/sklearn/svm/_base.py:1244: ConvergenceWarning: Liblinear failed to converge, increase the number of iterations.\n",
      "  warnings.warn(\n",
      "/home/gustavo/anaconda3/lib/python3.10/site-packages/sklearn/svm/_base.py:1244: ConvergenceWarning: Liblinear failed to converge, increase the number of iterations.\n",
      "  warnings.warn(\n"
     ]
    },
    {
     "data": {
      "text/html": [
       "<style>#sk-container-id-2 {color: black;background-color: white;}#sk-container-id-2 pre{padding: 0;}#sk-container-id-2 div.sk-toggleable {background-color: white;}#sk-container-id-2 label.sk-toggleable__label {cursor: pointer;display: block;width: 100%;margin-bottom: 0;padding: 0.3em;box-sizing: border-box;text-align: center;}#sk-container-id-2 label.sk-toggleable__label-arrow:before {content: \"▸\";float: left;margin-right: 0.25em;color: #696969;}#sk-container-id-2 label.sk-toggleable__label-arrow:hover:before {color: black;}#sk-container-id-2 div.sk-estimator:hover label.sk-toggleable__label-arrow:before {color: black;}#sk-container-id-2 div.sk-toggleable__content {max-height: 0;max-width: 0;overflow: hidden;text-align: left;background-color: #f0f8ff;}#sk-container-id-2 div.sk-toggleable__content pre {margin: 0.2em;color: black;border-radius: 0.25em;background-color: #f0f8ff;}#sk-container-id-2 input.sk-toggleable__control:checked~div.sk-toggleable__content {max-height: 200px;max-width: 100%;overflow: auto;}#sk-container-id-2 input.sk-toggleable__control:checked~label.sk-toggleable__label-arrow:before {content: \"▾\";}#sk-container-id-2 div.sk-estimator input.sk-toggleable__control:checked~label.sk-toggleable__label {background-color: #d4ebff;}#sk-container-id-2 div.sk-label input.sk-toggleable__control:checked~label.sk-toggleable__label {background-color: #d4ebff;}#sk-container-id-2 input.sk-hidden--visually {border: 0;clip: rect(1px 1px 1px 1px);clip: rect(1px, 1px, 1px, 1px);height: 1px;margin: -1px;overflow: hidden;padding: 0;position: absolute;width: 1px;}#sk-container-id-2 div.sk-estimator {font-family: monospace;background-color: #f0f8ff;border: 1px dotted black;border-radius: 0.25em;box-sizing: border-box;margin-bottom: 0.5em;}#sk-container-id-2 div.sk-estimator:hover {background-color: #d4ebff;}#sk-container-id-2 div.sk-parallel-item::after {content: \"\";width: 100%;border-bottom: 1px solid gray;flex-grow: 1;}#sk-container-id-2 div.sk-label:hover label.sk-toggleable__label {background-color: #d4ebff;}#sk-container-id-2 div.sk-serial::before {content: \"\";position: absolute;border-left: 1px solid gray;box-sizing: border-box;top: 0;bottom: 0;left: 50%;z-index: 0;}#sk-container-id-2 div.sk-serial {display: flex;flex-direction: column;align-items: center;background-color: white;padding-right: 0.2em;padding-left: 0.2em;position: relative;}#sk-container-id-2 div.sk-item {position: relative;z-index: 1;}#sk-container-id-2 div.sk-parallel {display: flex;align-items: stretch;justify-content: center;background-color: white;position: relative;}#sk-container-id-2 div.sk-item::before, #sk-container-id-2 div.sk-parallel-item::before {content: \"\";position: absolute;border-left: 1px solid gray;box-sizing: border-box;top: 0;bottom: 0;left: 50%;z-index: -1;}#sk-container-id-2 div.sk-parallel-item {display: flex;flex-direction: column;z-index: 1;position: relative;background-color: white;}#sk-container-id-2 div.sk-parallel-item:first-child::after {align-self: flex-end;width: 50%;}#sk-container-id-2 div.sk-parallel-item:last-child::after {align-self: flex-start;width: 50%;}#sk-container-id-2 div.sk-parallel-item:only-child::after {width: 0;}#sk-container-id-2 div.sk-dashed-wrapped {border: 1px dashed gray;margin: 0 0.4em 0.5em 0.4em;box-sizing: border-box;padding-bottom: 0.4em;background-color: white;}#sk-container-id-2 div.sk-label label {font-family: monospace;font-weight: bold;display: inline-block;line-height: 1.2em;}#sk-container-id-2 div.sk-label-container {text-align: center;}#sk-container-id-2 div.sk-container {/* jupyter's `normalize.less` sets `[hidden] { display: none; }` but bootstrap.min.css set `[hidden] { display: none !important; }` so we also need the `!important` here to be able to override the default hidden behavior on the sphinx rendered scikit-learn.org. See: https://github.com/scikit-learn/scikit-learn/issues/21755 */display: inline-block !important;position: relative;}#sk-container-id-2 div.sk-text-repr-fallback {display: none;}</style><div id=\"sk-container-id-2\" class=\"sk-top-container\"><div class=\"sk-text-repr-fallback\"><pre>GridSearchCV(cv=RepeatedStratifiedKFold(n_repeats=30, n_splits=3, random_state=0),\n",
       "             estimator=LinearSVC(dual=False,\n",
       "                                 random_state=RandomState(MT19937) at 0x7FE568492F40),\n",
       "             n_jobs=-1, param_grid={&#x27;C&#x27;: [0.05, 0.1], &#x27;penalty&#x27;: (&#x27;l1&#x27;, &#x27;l2&#x27;)},\n",
       "             scoring=&#x27;f1&#x27;)</pre><b>In a Jupyter environment, please rerun this cell to show the HTML representation or trust the notebook. <br />On GitHub, the HTML representation is unable to render, please try loading this page with nbviewer.org.</b></div><div class=\"sk-container\" hidden><div class=\"sk-item sk-dashed-wrapped\"><div class=\"sk-label-container\"><div class=\"sk-label sk-toggleable\"><input class=\"sk-toggleable__control sk-hidden--visually\" id=\"sk-estimator-id-4\" type=\"checkbox\" ><label for=\"sk-estimator-id-4\" class=\"sk-toggleable__label sk-toggleable__label-arrow\">GridSearchCV</label><div class=\"sk-toggleable__content\"><pre>GridSearchCV(cv=RepeatedStratifiedKFold(n_repeats=30, n_splits=3, random_state=0),\n",
       "             estimator=LinearSVC(dual=False,\n",
       "                                 random_state=RandomState(MT19937) at 0x7FE568492F40),\n",
       "             n_jobs=-1, param_grid={&#x27;C&#x27;: [0.05, 0.1], &#x27;penalty&#x27;: (&#x27;l1&#x27;, &#x27;l2&#x27;)},\n",
       "             scoring=&#x27;f1&#x27;)</pre></div></div></div><div class=\"sk-parallel\"><div class=\"sk-parallel-item\"><div class=\"sk-item\"><div class=\"sk-label-container\"><div class=\"sk-label sk-toggleable\"><input class=\"sk-toggleable__control sk-hidden--visually\" id=\"sk-estimator-id-5\" type=\"checkbox\" ><label for=\"sk-estimator-id-5\" class=\"sk-toggleable__label sk-toggleable__label-arrow\">estimator: LinearSVC</label><div class=\"sk-toggleable__content\"><pre>LinearSVC(dual=False, random_state=RandomState(MT19937) at 0x7FE568492F40)</pre></div></div></div><div class=\"sk-serial\"><div class=\"sk-item\"><div class=\"sk-estimator sk-toggleable\"><input class=\"sk-toggleable__control sk-hidden--visually\" id=\"sk-estimator-id-6\" type=\"checkbox\" ><label for=\"sk-estimator-id-6\" class=\"sk-toggleable__label sk-toggleable__label-arrow\">LinearSVC</label><div class=\"sk-toggleable__content\"><pre>LinearSVC(dual=False, random_state=RandomState(MT19937) at 0x7FE568492F40)</pre></div></div></div></div></div></div></div></div></div></div>"
      ],
      "text/plain": [
       "GridSearchCV(cv=RepeatedStratifiedKFold(n_repeats=30, n_splits=3, random_state=0),\n",
       "             estimator=LinearSVC(dual=False,\n",
       "                                 random_state=RandomState(MT19937) at 0x7FE568492F40),\n",
       "             n_jobs=-1, param_grid={'C': [0.05, 0.1], 'penalty': ('l1', 'l2')},\n",
       "             scoring='f1')"
      ]
     },
     "execution_count": 20,
     "metadata": {},
     "output_type": "execute_result"
    }
   ],
   "source": [
    "# Grid search hyperparameter tunnig routine for 2.\n",
    "\n",
    "parameters_to_test = {'penalty':('l1', 'l2'),\n",
    "                      'C':[0.05, 0.1]\n",
    "                     }\n",
    "\n",
    "# estimator of choice\n",
    "lsvc = LinearSVC(dual=False, random_state=rng)\n",
    "\n",
    "# crossvalidation routine initialization\n",
    "cv = RepeatedStratifiedKFold(n_splits=3, n_repeats=30, random_state=0)\n",
    "\n",
    "# grid search routine initialization\n",
    "search = GridSearchCV(estimator=lsvc, param_grid=parameters_to_test, scoring=\"f1\", cv=cv, verbose=0, n_jobs=-1)\n",
    "\n",
    "# grid search fitting\n",
    "search.fit(X_train, y_train)"
   ]
  },
  {
   "cell_type": "code",
   "execution_count": 21,
   "id": "d642bf5a",
   "metadata": {},
   "outputs": [],
   "source": [
    "# Storing 2nd resutls in a data frame\n",
    "results = pd.DataFrame(data=search.cv_results_)\n",
    "results.to_pickle('/home/gustavo/Documents/credit_card/second_experiment_results.pkl')"
   ]
  },
  {
   "cell_type": "code",
   "execution_count": 22,
   "id": "bb04a346",
   "metadata": {},
   "outputs": [],
   "source": [
    "# Checkpoint to load 2nd experiment results dataframe\n",
    "results = pd.read_pickle('/home/gustavo/Documents/credit_card/second_experiment_results.pkl')"
   ]
  },
  {
   "cell_type": "code",
   "execution_count": 23,
   "id": "e40ffd1d",
   "metadata": {},
   "outputs": [],
   "source": [
    "# Visalizing 3 best pair candidates. In fact, 4. Name the 4 estimator\n",
    "results = results.sort_values(by=[\"rank_test_score\"])\n",
    "results = results.set_index(results[\"params\"].apply(lambda x: \"_\".join(str(val) for val in x.values())))"
   ]
  },
  {
   "cell_type": "code",
   "execution_count": 27,
   "id": "e3561b3e",
   "metadata": {},
   "outputs": [],
   "source": [
    "from multiple_comparison import multiple_model_comparison"
   ]
  },
  {
   "cell_type": "code",
   "execution_count": 28,
   "id": "9cd6d19f",
   "metadata": {},
   "outputs": [
    {
     "data": {
      "text/html": [
       "<div>\n",
       "<style scoped>\n",
       "    .dataframe tbody tr th:only-of-type {\n",
       "        vertical-align: middle;\n",
       "    }\n",
       "\n",
       "    .dataframe tbody tr th {\n",
       "        vertical-align: top;\n",
       "    }\n",
       "\n",
       "    .dataframe thead th {\n",
       "        text-align: right;\n",
       "    }\n",
       "</style>\n",
       "<table border=\"1\" class=\"dataframe\">\n",
       "  <thead>\n",
       "    <tr style=\"text-align: right;\">\n",
       "      <th></th>\n",
       "      <th>model_1</th>\n",
       "      <th>model_2</th>\n",
       "      <th>t_stat</th>\n",
       "      <th>p_val</th>\n",
       "      <th>worse_prob</th>\n",
       "      <th>better_prob</th>\n",
       "      <th>rope_prob</th>\n",
       "    </tr>\n",
       "  </thead>\n",
       "  <tbody>\n",
       "    <tr>\n",
       "      <th>0</th>\n",
       "      <td>0.1_l2</td>\n",
       "      <td>0.05_l2</td>\n",
       "      <td>0.485</td>\n",
       "      <td>1</td>\n",
       "      <td>0.000</td>\n",
       "      <td>0.002</td>\n",
       "      <td>0.998</td>\n",
       "    </tr>\n",
       "    <tr>\n",
       "      <th>1</th>\n",
       "      <td>0.1_l2</td>\n",
       "      <td>0.1_l1</td>\n",
       "      <td>0.533</td>\n",
       "      <td>1</td>\n",
       "      <td>0.010</td>\n",
       "      <td>0.100</td>\n",
       "      <td>0.890</td>\n",
       "    </tr>\n",
       "    <tr>\n",
       "      <th>2</th>\n",
       "      <td>0.1_l2</td>\n",
       "      <td>0.05_l1</td>\n",
       "      <td>0.474</td>\n",
       "      <td>1</td>\n",
       "      <td>0.045</td>\n",
       "      <td>0.224</td>\n",
       "      <td>0.731</td>\n",
       "    </tr>\n",
       "    <tr>\n",
       "      <th>3</th>\n",
       "      <td>0.05_l2</td>\n",
       "      <td>0.1_l1</td>\n",
       "      <td>0.317</td>\n",
       "      <td>1</td>\n",
       "      <td>0.009</td>\n",
       "      <td>0.039</td>\n",
       "      <td>0.952</td>\n",
       "    </tr>\n",
       "    <tr>\n",
       "      <th>4</th>\n",
       "      <td>0.05_l2</td>\n",
       "      <td>0.05_l1</td>\n",
       "      <td>0.338</td>\n",
       "      <td>1</td>\n",
       "      <td>0.043</td>\n",
       "      <td>0.147</td>\n",
       "      <td>0.810</td>\n",
       "    </tr>\n",
       "    <tr>\n",
       "      <th>5</th>\n",
       "      <td>0.1_l1</td>\n",
       "      <td>0.05_l1</td>\n",
       "      <td>0.173</td>\n",
       "      <td>1</td>\n",
       "      <td>0.021</td>\n",
       "      <td>0.044</td>\n",
       "      <td>0.935</td>\n",
       "    </tr>\n",
       "  </tbody>\n",
       "</table>\n",
       "</div>"
      ],
      "text/plain": [
       "   model_1  model_2  t_stat  p_val  worse_prob  better_prob  rope_prob\n",
       "0   0.1_l2  0.05_l2   0.485      1       0.000        0.002      0.998\n",
       "1   0.1_l2   0.1_l1   0.533      1       0.010        0.100      0.890\n",
       "2   0.1_l2  0.05_l1   0.474      1       0.045        0.224      0.731\n",
       "3  0.05_l2   0.1_l1   0.317      1       0.009        0.039      0.952\n",
       "4  0.05_l2  0.05_l1   0.338      1       0.043        0.147      0.810\n",
       "5   0.1_l1  0.05_l1   0.173      1       0.021        0.044      0.935"
      ]
     },
     "execution_count": 28,
     "metadata": {},
     "output_type": "execute_result"
    }
   ],
   "source": [
    "# Performing multi hypothesis test on 4 estimators results\n",
    "multiple_model_comparison(df_results=results,\n",
    "                          kfold=3, \n",
    "                          number_of_training_samples=X_train.shape[0], \n",
    "                          rope_interval=[-0.01, 0.01])"
   ]
  },
  {
   "cell_type": "markdown",
   "id": "c27bd41b",
   "metadata": {},
   "source": [
    "There's no statistical diferences among all four estimators. Threfore, the {'C': 0.05, 'penalty': 'l2'} model is chosen with the lowest fitting time. p-values > 0.05. The rope probability indicates how probable a model is equal to another. All probabilities are high then; all models have a high degree of similarity. Worse and better probabilities indicates pairwise if a estimator is worse or better than the other.In this case, the porbabilities are low then, no model is worse or better than the other."
   ]
  },
  {
   "cell_type": "markdown",
   "id": "1a133e50",
   "metadata": {},
   "source": [
    "3.3. Validation linear SVM best paramets on test data"
   ]
  },
  {
   "cell_type": "code",
   "execution_count": 29,
   "id": "eb4ce8ad",
   "metadata": {},
   "outputs": [],
   "source": [
    "from sklearn.metrics import classification_report\n",
    "from sklearn.metrics import ConfusionMatrixDisplay"
   ]
  },
  {
   "cell_type": "code",
   "execution_count": 30,
   "id": "57d6735a",
   "metadata": {},
   "outputs": [],
   "source": [
    "lsvc = LinearSVC(C=0.05, penalty='l2', dual=False, random_state=rng).fit(X_train, y_train)\n",
    "predictions = lsvc.predict(X_test)"
   ]
  },
  {
   "cell_type": "code",
   "execution_count": 32,
   "id": "3ec05182",
   "metadata": {},
   "outputs": [
    {
     "data": {
      "text/html": [
       "<div>\n",
       "<style scoped>\n",
       "    .dataframe tbody tr th:only-of-type {\n",
       "        vertical-align: middle;\n",
       "    }\n",
       "\n",
       "    .dataframe tbody tr th {\n",
       "        vertical-align: top;\n",
       "    }\n",
       "\n",
       "    .dataframe thead tr th {\n",
       "        text-align: left;\n",
       "    }\n",
       "</style>\n",
       "<table border=\"1\" class=\"dataframe\">\n",
       "  <thead>\n",
       "    <tr>\n",
       "      <th></th>\n",
       "      <th colspan=\"4\" halign=\"left\">Imbalanced</th>\n",
       "    </tr>\n",
       "    <tr>\n",
       "      <th></th>\n",
       "      <th>precision</th>\n",
       "      <th>recall</th>\n",
       "      <th>f1-score</th>\n",
       "      <th>support</th>\n",
       "    </tr>\n",
       "  </thead>\n",
       "  <tbody>\n",
       "    <tr>\n",
       "      <th>True</th>\n",
       "      <td>0.999367</td>\n",
       "      <td>0.999859</td>\n",
       "      <td>0.999613</td>\n",
       "      <td>71082.000000</td>\n",
       "    </tr>\n",
       "    <tr>\n",
       "      <th>Fraud</th>\n",
       "      <td>0.882353</td>\n",
       "      <td>0.625000</td>\n",
       "      <td>0.731707</td>\n",
       "      <td>120.000000</td>\n",
       "    </tr>\n",
       "    <tr>\n",
       "      <th>accuracy</th>\n",
       "      <td>0.999228</td>\n",
       "      <td>0.999228</td>\n",
       "      <td>0.999228</td>\n",
       "      <td>0.999228</td>\n",
       "    </tr>\n",
       "    <tr>\n",
       "      <th>macro avg</th>\n",
       "      <td>0.940860</td>\n",
       "      <td>0.812430</td>\n",
       "      <td>0.865660</td>\n",
       "      <td>71202.000000</td>\n",
       "    </tr>\n",
       "    <tr>\n",
       "      <th>weighted avg</th>\n",
       "      <td>0.999170</td>\n",
       "      <td>0.999228</td>\n",
       "      <td>0.999162</td>\n",
       "      <td>71202.000000</td>\n",
       "    </tr>\n",
       "  </tbody>\n",
       "</table>\n",
       "</div>"
      ],
      "text/plain": [
       "             Imbalanced                                  \n",
       "              precision    recall  f1-score       support\n",
       "True           0.999367  0.999859  0.999613  71082.000000\n",
       "Fraud          0.882353  0.625000  0.731707    120.000000\n",
       "accuracy       0.999228  0.999228  0.999228      0.999228\n",
       "macro avg      0.940860  0.812430  0.865660  71202.000000\n",
       "weighted avg   0.999170  0.999228  0.999162  71202.000000"
      ]
     },
     "execution_count": 32,
     "metadata": {},
     "output_type": "execute_result"
    }
   ],
   "source": [
    "tuples = list(zip(*[['Imbalanced']*4,['precision', 'recall', 'f1-score', 'support']]))\n",
    "index = pd.MultiIndex.from_tuples(tuples)\n",
    "results_imbalanced = pd.DataFrame(classification_report(y_test, predictions, target_names=['True','Fraud'], output_dict=True))\n",
    "results_imbalanced = results_imbalanced.set_index(index)\n",
    "results_imbalanced = results_imbalanced.transpose()\n",
    "results_imbalanced"
   ]
  },
  {
   "cell_type": "markdown",
   "id": "3c90da6f",
   "metadata": {},
   "source": [
    "### 3.1.2. Cost-sensitive learning on imbalanced dataset"
   ]
  },
  {
   "cell_type": "markdown",
   "id": "5487c6c5",
   "metadata": {},
   "source": [
    "I'll make the same experiements as before but, I uses the best C l-norm parameters from 1st part\n",
    "\n",
    "1) I'll run 3-fold crossvalidation grid search routine over 24 class weigth combinations to find the 3 best class weights combiantions on the same crossvalidated partitions.\n",
    "2) I'll run a 3-fold repeted stratified crossvalidation grid search routine to get 90 samples for each the 3 best class weights combiantions.\n",
    "3) I'll run a multi hypothesis test to find if there's statistical differences between the 3 best class weights combiantions using frequentist and bayensian approach.\n",
    "4) If there's no differences across the 3 best class weights combiantions, I'll pick the class weights combiantion with the lowest fitting time.\n",
    "\n",
    "I use F1 score as performance metric and precision and recall to get insights about the estimator capacity to find miniority class samples.\n"
   ]
  },
  {
   "cell_type": "code",
   "execution_count": 33,
   "id": "550f70de",
   "metadata": {},
   "outputs": [],
   "source": [
    "import itertools"
   ]
  },
  {
   "cell_type": "code",
   "execution_count": 34,
   "id": "e76b4b1d",
   "metadata": {},
   "outputs": [],
   "source": [
    "# I define the class_weight parameters to test \n",
    "class_weights_params = {0:[0.1,0.5,0.9,1], 1:[1,5,10,15,50,100]}\n",
    "\n",
    "# I transform a dictionary into a list of dictionaries with an unique pair of weigth for majority and miniority class \n",
    "keys, values = zip(*class_weights_params.items())\n",
    "class_weights_params = [dict(zip(keys, v)) for v in itertools.product(*values)]"
   ]
  },
  {
   "cell_type": "code",
   "execution_count": 36,
   "id": "368607e2",
   "metadata": {},
   "outputs": [
    {
     "data": {
      "text/html": [
       "<style>#sk-container-id-4 {color: black;background-color: white;}#sk-container-id-4 pre{padding: 0;}#sk-container-id-4 div.sk-toggleable {background-color: white;}#sk-container-id-4 label.sk-toggleable__label {cursor: pointer;display: block;width: 100%;margin-bottom: 0;padding: 0.3em;box-sizing: border-box;text-align: center;}#sk-container-id-4 label.sk-toggleable__label-arrow:before {content: \"▸\";float: left;margin-right: 0.25em;color: #696969;}#sk-container-id-4 label.sk-toggleable__label-arrow:hover:before {color: black;}#sk-container-id-4 div.sk-estimator:hover label.sk-toggleable__label-arrow:before {color: black;}#sk-container-id-4 div.sk-toggleable__content {max-height: 0;max-width: 0;overflow: hidden;text-align: left;background-color: #f0f8ff;}#sk-container-id-4 div.sk-toggleable__content pre {margin: 0.2em;color: black;border-radius: 0.25em;background-color: #f0f8ff;}#sk-container-id-4 input.sk-toggleable__control:checked~div.sk-toggleable__content {max-height: 200px;max-width: 100%;overflow: auto;}#sk-container-id-4 input.sk-toggleable__control:checked~label.sk-toggleable__label-arrow:before {content: \"▾\";}#sk-container-id-4 div.sk-estimator input.sk-toggleable__control:checked~label.sk-toggleable__label {background-color: #d4ebff;}#sk-container-id-4 div.sk-label input.sk-toggleable__control:checked~label.sk-toggleable__label {background-color: #d4ebff;}#sk-container-id-4 input.sk-hidden--visually {border: 0;clip: rect(1px 1px 1px 1px);clip: rect(1px, 1px, 1px, 1px);height: 1px;margin: -1px;overflow: hidden;padding: 0;position: absolute;width: 1px;}#sk-container-id-4 div.sk-estimator {font-family: monospace;background-color: #f0f8ff;border: 1px dotted black;border-radius: 0.25em;box-sizing: border-box;margin-bottom: 0.5em;}#sk-container-id-4 div.sk-estimator:hover {background-color: #d4ebff;}#sk-container-id-4 div.sk-parallel-item::after {content: \"\";width: 100%;border-bottom: 1px solid gray;flex-grow: 1;}#sk-container-id-4 div.sk-label:hover label.sk-toggleable__label {background-color: #d4ebff;}#sk-container-id-4 div.sk-serial::before {content: \"\";position: absolute;border-left: 1px solid gray;box-sizing: border-box;top: 0;bottom: 0;left: 50%;z-index: 0;}#sk-container-id-4 div.sk-serial {display: flex;flex-direction: column;align-items: center;background-color: white;padding-right: 0.2em;padding-left: 0.2em;position: relative;}#sk-container-id-4 div.sk-item {position: relative;z-index: 1;}#sk-container-id-4 div.sk-parallel {display: flex;align-items: stretch;justify-content: center;background-color: white;position: relative;}#sk-container-id-4 div.sk-item::before, #sk-container-id-4 div.sk-parallel-item::before {content: \"\";position: absolute;border-left: 1px solid gray;box-sizing: border-box;top: 0;bottom: 0;left: 50%;z-index: -1;}#sk-container-id-4 div.sk-parallel-item {display: flex;flex-direction: column;z-index: 1;position: relative;background-color: white;}#sk-container-id-4 div.sk-parallel-item:first-child::after {align-self: flex-end;width: 50%;}#sk-container-id-4 div.sk-parallel-item:last-child::after {align-self: flex-start;width: 50%;}#sk-container-id-4 div.sk-parallel-item:only-child::after {width: 0;}#sk-container-id-4 div.sk-dashed-wrapped {border: 1px dashed gray;margin: 0 0.4em 0.5em 0.4em;box-sizing: border-box;padding-bottom: 0.4em;background-color: white;}#sk-container-id-4 div.sk-label label {font-family: monospace;font-weight: bold;display: inline-block;line-height: 1.2em;}#sk-container-id-4 div.sk-label-container {text-align: center;}#sk-container-id-4 div.sk-container {/* jupyter's `normalize.less` sets `[hidden] { display: none; }` but bootstrap.min.css set `[hidden] { display: none !important; }` so we also need the `!important` here to be able to override the default hidden behavior on the sphinx rendered scikit-learn.org. See: https://github.com/scikit-learn/scikit-learn/issues/21755 */display: inline-block !important;position: relative;}#sk-container-id-4 div.sk-text-repr-fallback {display: none;}</style><div id=\"sk-container-id-4\" class=\"sk-top-container\"><div class=\"sk-text-repr-fallback\"><pre>GridSearchCV(cv=3,\n",
       "             estimator=LinearSVC(C=0.05, dual=False,\n",
       "                                 random_state=RandomState(MT19937) at 0x7FE568492F40),\n",
       "             param_grid={&#x27;class_weight&#x27;: [{0: 0.1, 1: 1}, {0: 0.1, 1: 5},\n",
       "                                          {0: 0.1, 1: 10}, {0: 0.1, 1: 15},\n",
       "                                          {0: 0.1, 1: 50}, {0: 0.1, 1: 100},\n",
       "                                          {0: 0.5, 1: 1}, {0: 0.5, 1: 5},\n",
       "                                          {0: 0.5, 1: 10}, {0: 0.5, 1: 15},\n",
       "                                          {0: 0.5, 1: 50}, {0: 0.5, 1: 100},\n",
       "                                          {0: 0.9, 1: 1}, {0: 0.9, 1: 5},\n",
       "                                          {0: 0.9, 1: 10}, {0: 0.9, 1: 15},\n",
       "                                          {0: 0.9, 1: 50}, {0: 0.9, 1: 100},\n",
       "                                          {0: 1, 1: 1}, {0: 1, 1: 5},\n",
       "                                          {0: 1, 1: 10}, {0: 1, 1: 15},\n",
       "                                          {0: 1, 1: 50}, {0: 1, 1: 100}]},\n",
       "             refit=&#x27;f1&#x27;, scoring=(&#x27;f1&#x27;, &#x27;recall&#x27;, &#x27;precision&#x27;))</pre><b>In a Jupyter environment, please rerun this cell to show the HTML representation or trust the notebook. <br />On GitHub, the HTML representation is unable to render, please try loading this page with nbviewer.org.</b></div><div class=\"sk-container\" hidden><div class=\"sk-item sk-dashed-wrapped\"><div class=\"sk-label-container\"><div class=\"sk-label sk-toggleable\"><input class=\"sk-toggleable__control sk-hidden--visually\" id=\"sk-estimator-id-10\" type=\"checkbox\" ><label for=\"sk-estimator-id-10\" class=\"sk-toggleable__label sk-toggleable__label-arrow\">GridSearchCV</label><div class=\"sk-toggleable__content\"><pre>GridSearchCV(cv=3,\n",
       "             estimator=LinearSVC(C=0.05, dual=False,\n",
       "                                 random_state=RandomState(MT19937) at 0x7FE568492F40),\n",
       "             param_grid={&#x27;class_weight&#x27;: [{0: 0.1, 1: 1}, {0: 0.1, 1: 5},\n",
       "                                          {0: 0.1, 1: 10}, {0: 0.1, 1: 15},\n",
       "                                          {0: 0.1, 1: 50}, {0: 0.1, 1: 100},\n",
       "                                          {0: 0.5, 1: 1}, {0: 0.5, 1: 5},\n",
       "                                          {0: 0.5, 1: 10}, {0: 0.5, 1: 15},\n",
       "                                          {0: 0.5, 1: 50}, {0: 0.5, 1: 100},\n",
       "                                          {0: 0.9, 1: 1}, {0: 0.9, 1: 5},\n",
       "                                          {0: 0.9, 1: 10}, {0: 0.9, 1: 15},\n",
       "                                          {0: 0.9, 1: 50}, {0: 0.9, 1: 100},\n",
       "                                          {0: 1, 1: 1}, {0: 1, 1: 5},\n",
       "                                          {0: 1, 1: 10}, {0: 1, 1: 15},\n",
       "                                          {0: 1, 1: 50}, {0: 1, 1: 100}]},\n",
       "             refit=&#x27;f1&#x27;, scoring=(&#x27;f1&#x27;, &#x27;recall&#x27;, &#x27;precision&#x27;))</pre></div></div></div><div class=\"sk-parallel\"><div class=\"sk-parallel-item\"><div class=\"sk-item\"><div class=\"sk-label-container\"><div class=\"sk-label sk-toggleable\"><input class=\"sk-toggleable__control sk-hidden--visually\" id=\"sk-estimator-id-11\" type=\"checkbox\" ><label for=\"sk-estimator-id-11\" class=\"sk-toggleable__label sk-toggleable__label-arrow\">estimator: LinearSVC</label><div class=\"sk-toggleable__content\"><pre>LinearSVC(C=0.05, dual=False,\n",
       "          random_state=RandomState(MT19937) at 0x7FE568492F40)</pre></div></div></div><div class=\"sk-serial\"><div class=\"sk-item\"><div class=\"sk-estimator sk-toggleable\"><input class=\"sk-toggleable__control sk-hidden--visually\" id=\"sk-estimator-id-12\" type=\"checkbox\" ><label for=\"sk-estimator-id-12\" class=\"sk-toggleable__label sk-toggleable__label-arrow\">LinearSVC</label><div class=\"sk-toggleable__content\"><pre>LinearSVC(C=0.05, dual=False,\n",
       "          random_state=RandomState(MT19937) at 0x7FE568492F40)</pre></div></div></div></div></div></div></div></div></div></div>"
      ],
      "text/plain": [
       "GridSearchCV(cv=3,\n",
       "             estimator=LinearSVC(C=0.05, dual=False,\n",
       "                                 random_state=RandomState(MT19937) at 0x7FE568492F40),\n",
       "             param_grid={'class_weight': [{0: 0.1, 1: 1}, {0: 0.1, 1: 5},\n",
       "                                          {0: 0.1, 1: 10}, {0: 0.1, 1: 15},\n",
       "                                          {0: 0.1, 1: 50}, {0: 0.1, 1: 100},\n",
       "                                          {0: 0.5, 1: 1}, {0: 0.5, 1: 5},\n",
       "                                          {0: 0.5, 1: 10}, {0: 0.5, 1: 15},\n",
       "                                          {0: 0.5, 1: 50}, {0: 0.5, 1: 100},\n",
       "                                          {0: 0.9, 1: 1}, {0: 0.9, 1: 5},\n",
       "                                          {0: 0.9, 1: 10}, {0: 0.9, 1: 15},\n",
       "                                          {0: 0.9, 1: 50}, {0: 0.9, 1: 100},\n",
       "                                          {0: 1, 1: 1}, {0: 1, 1: 5},\n",
       "                                          {0: 1, 1: 10}, {0: 1, 1: 15},\n",
       "                                          {0: 1, 1: 50}, {0: 1, 1: 100}]},\n",
       "             refit='f1', scoring=('f1', 'recall', 'precision'))"
      ]
     },
     "execution_count": 36,
     "metadata": {},
     "output_type": "execute_result"
    }
   ],
   "source": [
    "# Grid search hyperparameter tunnig routine for 1.\n",
    "\n",
    "parameters = {'class_weight':class_weights_params}\n",
    "\n",
    "# Creating estimator instance\n",
    "lsvc = LinearSVC(C=0.05, \n",
    "                 penalty='l2', \n",
    "                 dual=False, \n",
    "                 random_state=rng)\n",
    "\n",
    "# Creating grid search instance\n",
    "search = GridSearchCV(estimator=lsvc, \n",
    "                      param_grid=parameters, \n",
    "                      scoring=('f1','recall','precision'), \n",
    "                      refit='f1', \n",
    "                      cv=3, \n",
    "                      verbose=0)\n",
    "\n",
    "# Fitting grid search instance\n",
    "search.fit(X_train, y_train)"
   ]
  },
  {
   "cell_type": "code",
   "execution_count": 37,
   "id": "a90b51d3",
   "metadata": {},
   "outputs": [],
   "source": [
    "# Storing 3rd experiment results in a data frame to a pickle\n",
    "results = pd.DataFrame(data=search.cv_results_)\n",
    "results.to_pickle('/home/gustavo/Documents/credit_card/cost_sensite_results.pkl')"
   ]
  },
  {
   "cell_type": "code",
   "execution_count": 38,
   "id": "e7339267",
   "metadata": {},
   "outputs": [],
   "source": [
    "# Checkpoint to load 1st experiment results dataframe\n",
    "results = pd.read_pickle('/home/gustavo/Documents/credit_card/cost_sensite_results.pkl')"
   ]
  },
  {
   "cell_type": "code",
   "execution_count": 39,
   "id": "4eee1787",
   "metadata": {},
   "outputs": [],
   "source": [
    "# To select the 3 best class weights\n",
    "condition = (results['rank_test_f1'] == 1) | (results['rank_test_f1'] == 2) | (results['rank_test_f1'] == 3)"
   ]
  },
  {
   "cell_type": "code",
   "execution_count": 40,
   "id": "eaf37989",
   "metadata": {},
   "outputs": [
    {
     "data": {
      "text/plain": [
       "[[{'class_weight': {0: 0.9, 1: 5}},\n",
       "  0.8245382031342906,\n",
       "  0.8622305248373944,\n",
       "  0.7903225806451614,\n",
       "  2],\n",
       " [{'class_weight': {0: 1, 1: 5}},\n",
       "  0.8251733932244637,\n",
       "  0.8669988601570005,\n",
       "  0.7876344086021506,\n",
       "  1],\n",
       " [{'class_weight': {0: 1, 1: 10}},\n",
       "  0.8214898774964716,\n",
       "  0.8461613435297646,\n",
       "  0.7983870967741935,\n",
       "  3]]"
      ]
     },
     "execution_count": 40,
     "metadata": {},
     "output_type": "execute_result"
    }
   ],
   "source": [
    "# Selecting the 3 best class weigths\n",
    "best_models = results.loc[condition, ['params','mean_test_f1','mean_test_precision','mean_test_recall','rank_test_f1']]\n",
    "best_models.values.tolist()"
   ]
  },
  {
   "cell_type": "code",
   "execution_count": 41,
   "id": "952c4c48",
   "metadata": {},
   "outputs": [
    {
     "data": {
      "text/html": [
       "<style>#sk-container-id-5 {color: black;background-color: white;}#sk-container-id-5 pre{padding: 0;}#sk-container-id-5 div.sk-toggleable {background-color: white;}#sk-container-id-5 label.sk-toggleable__label {cursor: pointer;display: block;width: 100%;margin-bottom: 0;padding: 0.3em;box-sizing: border-box;text-align: center;}#sk-container-id-5 label.sk-toggleable__label-arrow:before {content: \"▸\";float: left;margin-right: 0.25em;color: #696969;}#sk-container-id-5 label.sk-toggleable__label-arrow:hover:before {color: black;}#sk-container-id-5 div.sk-estimator:hover label.sk-toggleable__label-arrow:before {color: black;}#sk-container-id-5 div.sk-toggleable__content {max-height: 0;max-width: 0;overflow: hidden;text-align: left;background-color: #f0f8ff;}#sk-container-id-5 div.sk-toggleable__content pre {margin: 0.2em;color: black;border-radius: 0.25em;background-color: #f0f8ff;}#sk-container-id-5 input.sk-toggleable__control:checked~div.sk-toggleable__content {max-height: 200px;max-width: 100%;overflow: auto;}#sk-container-id-5 input.sk-toggleable__control:checked~label.sk-toggleable__label-arrow:before {content: \"▾\";}#sk-container-id-5 div.sk-estimator input.sk-toggleable__control:checked~label.sk-toggleable__label {background-color: #d4ebff;}#sk-container-id-5 div.sk-label input.sk-toggleable__control:checked~label.sk-toggleable__label {background-color: #d4ebff;}#sk-container-id-5 input.sk-hidden--visually {border: 0;clip: rect(1px 1px 1px 1px);clip: rect(1px, 1px, 1px, 1px);height: 1px;margin: -1px;overflow: hidden;padding: 0;position: absolute;width: 1px;}#sk-container-id-5 div.sk-estimator {font-family: monospace;background-color: #f0f8ff;border: 1px dotted black;border-radius: 0.25em;box-sizing: border-box;margin-bottom: 0.5em;}#sk-container-id-5 div.sk-estimator:hover {background-color: #d4ebff;}#sk-container-id-5 div.sk-parallel-item::after {content: \"\";width: 100%;border-bottom: 1px solid gray;flex-grow: 1;}#sk-container-id-5 div.sk-label:hover label.sk-toggleable__label {background-color: #d4ebff;}#sk-container-id-5 div.sk-serial::before {content: \"\";position: absolute;border-left: 1px solid gray;box-sizing: border-box;top: 0;bottom: 0;left: 50%;z-index: 0;}#sk-container-id-5 div.sk-serial {display: flex;flex-direction: column;align-items: center;background-color: white;padding-right: 0.2em;padding-left: 0.2em;position: relative;}#sk-container-id-5 div.sk-item {position: relative;z-index: 1;}#sk-container-id-5 div.sk-parallel {display: flex;align-items: stretch;justify-content: center;background-color: white;position: relative;}#sk-container-id-5 div.sk-item::before, #sk-container-id-5 div.sk-parallel-item::before {content: \"\";position: absolute;border-left: 1px solid gray;box-sizing: border-box;top: 0;bottom: 0;left: 50%;z-index: -1;}#sk-container-id-5 div.sk-parallel-item {display: flex;flex-direction: column;z-index: 1;position: relative;background-color: white;}#sk-container-id-5 div.sk-parallel-item:first-child::after {align-self: flex-end;width: 50%;}#sk-container-id-5 div.sk-parallel-item:last-child::after {align-self: flex-start;width: 50%;}#sk-container-id-5 div.sk-parallel-item:only-child::after {width: 0;}#sk-container-id-5 div.sk-dashed-wrapped {border: 1px dashed gray;margin: 0 0.4em 0.5em 0.4em;box-sizing: border-box;padding-bottom: 0.4em;background-color: white;}#sk-container-id-5 div.sk-label label {font-family: monospace;font-weight: bold;display: inline-block;line-height: 1.2em;}#sk-container-id-5 div.sk-label-container {text-align: center;}#sk-container-id-5 div.sk-container {/* jupyter's `normalize.less` sets `[hidden] { display: none; }` but bootstrap.min.css set `[hidden] { display: none !important; }` so we also need the `!important` here to be able to override the default hidden behavior on the sphinx rendered scikit-learn.org. See: https://github.com/scikit-learn/scikit-learn/issues/21755 */display: inline-block !important;position: relative;}#sk-container-id-5 div.sk-text-repr-fallback {display: none;}</style><div id=\"sk-container-id-5\" class=\"sk-top-container\"><div class=\"sk-text-repr-fallback\"><pre>GridSearchCV(cv=RepeatedStratifiedKFold(n_repeats=30, n_splits=3, random_state=0),\n",
       "             estimator=LinearSVC(C=0.05, dual=False,\n",
       "                                 random_state=RandomState(MT19937) at 0x7FE568492F40),\n",
       "             n_jobs=-1,\n",
       "             param_grid={&#x27;class_weight&#x27;: [{0: 0.9, 1: 5}, {0: 1, 1: 5},\n",
       "                                          {0: 1, 1: 10}]},\n",
       "             scoring=&#x27;f1&#x27;)</pre><b>In a Jupyter environment, please rerun this cell to show the HTML representation or trust the notebook. <br />On GitHub, the HTML representation is unable to render, please try loading this page with nbviewer.org.</b></div><div class=\"sk-container\" hidden><div class=\"sk-item sk-dashed-wrapped\"><div class=\"sk-label-container\"><div class=\"sk-label sk-toggleable\"><input class=\"sk-toggleable__control sk-hidden--visually\" id=\"sk-estimator-id-13\" type=\"checkbox\" ><label for=\"sk-estimator-id-13\" class=\"sk-toggleable__label sk-toggleable__label-arrow\">GridSearchCV</label><div class=\"sk-toggleable__content\"><pre>GridSearchCV(cv=RepeatedStratifiedKFold(n_repeats=30, n_splits=3, random_state=0),\n",
       "             estimator=LinearSVC(C=0.05, dual=False,\n",
       "                                 random_state=RandomState(MT19937) at 0x7FE568492F40),\n",
       "             n_jobs=-1,\n",
       "             param_grid={&#x27;class_weight&#x27;: [{0: 0.9, 1: 5}, {0: 1, 1: 5},\n",
       "                                          {0: 1, 1: 10}]},\n",
       "             scoring=&#x27;f1&#x27;)</pre></div></div></div><div class=\"sk-parallel\"><div class=\"sk-parallel-item\"><div class=\"sk-item\"><div class=\"sk-label-container\"><div class=\"sk-label sk-toggleable\"><input class=\"sk-toggleable__control sk-hidden--visually\" id=\"sk-estimator-id-14\" type=\"checkbox\" ><label for=\"sk-estimator-id-14\" class=\"sk-toggleable__label sk-toggleable__label-arrow\">estimator: LinearSVC</label><div class=\"sk-toggleable__content\"><pre>LinearSVC(C=0.05, dual=False,\n",
       "          random_state=RandomState(MT19937) at 0x7FE568492F40)</pre></div></div></div><div class=\"sk-serial\"><div class=\"sk-item\"><div class=\"sk-estimator sk-toggleable\"><input class=\"sk-toggleable__control sk-hidden--visually\" id=\"sk-estimator-id-15\" type=\"checkbox\" ><label for=\"sk-estimator-id-15\" class=\"sk-toggleable__label sk-toggleable__label-arrow\">LinearSVC</label><div class=\"sk-toggleable__content\"><pre>LinearSVC(C=0.05, dual=False,\n",
       "          random_state=RandomState(MT19937) at 0x7FE568492F40)</pre></div></div></div></div></div></div></div></div></div></div>"
      ],
      "text/plain": [
       "GridSearchCV(cv=RepeatedStratifiedKFold(n_repeats=30, n_splits=3, random_state=0),\n",
       "             estimator=LinearSVC(C=0.05, dual=False,\n",
       "                                 random_state=RandomState(MT19937) at 0x7FE568492F40),\n",
       "             n_jobs=-1,\n",
       "             param_grid={'class_weight': [{0: 0.9, 1: 5}, {0: 1, 1: 5},\n",
       "                                          {0: 1, 1: 10}]},\n",
       "             scoring='f1')"
      ]
     },
     "execution_count": 41,
     "metadata": {},
     "output_type": "execute_result"
    }
   ],
   "source": [
    "# Grid search hyperparameter tunnig routine for 2.\n",
    "parameters_to_test = {'class_weight': [{0: 0.9, 1: 5}, {0: 1, 1: 5},{0: 1, 1: 10}]}\n",
    "\n",
    "lsvc = LinearSVC(C=0.05, \n",
    "                 penalty='l2', \n",
    "                 dual=False, \n",
    "                 random_state=rng)\n",
    "\n",
    "cv = RepeatedStratifiedKFold(n_splits=3, n_repeats=30, random_state=0)\n",
    "\n",
    "search = GridSearchCV(estimator=lsvc, param_grid=parameters_to_test, scoring=\"f1\", cv=cv, verbose=0, n_jobs=-1)\n",
    "\n",
    "search.fit(X_train, y_train)"
   ]
  },
  {
   "cell_type": "code",
   "execution_count": 42,
   "id": "c6adb0cf",
   "metadata": {},
   "outputs": [],
   "source": [
    "# Storing 4th experiment results in a data frame\n",
    "results = pd.DataFrame(data=search.cv_results_)\n",
    "results.to_pickle('/home/gustavo/Documents/credit_card/forth_experiment_results.pkl')"
   ]
  },
  {
   "cell_type": "code",
   "execution_count": 43,
   "id": "e2b6ef59",
   "metadata": {},
   "outputs": [],
   "source": [
    "# Visalizing 3 best class weights combinations. \n",
    "results = results.sort_values(by=[\"rank_test_score\"])\n",
    "results = results.set_index(results[\"params\"].apply(lambda x: \"_\".join(str(val) for val in x.values())))"
   ]
  },
  {
   "cell_type": "code",
   "execution_count": 46,
   "id": "139a48fc",
   "metadata": {},
   "outputs": [
    {
     "data": {
      "text/html": [
       "<div>\n",
       "<style scoped>\n",
       "    .dataframe tbody tr th:only-of-type {\n",
       "        vertical-align: middle;\n",
       "    }\n",
       "\n",
       "    .dataframe tbody tr th {\n",
       "        vertical-align: top;\n",
       "    }\n",
       "\n",
       "    .dataframe thead th {\n",
       "        text-align: right;\n",
       "    }\n",
       "</style>\n",
       "<table border=\"1\" class=\"dataframe\">\n",
       "  <thead>\n",
       "    <tr style=\"text-align: right;\">\n",
       "      <th></th>\n",
       "      <th>model_1</th>\n",
       "      <th>model_2</th>\n",
       "      <th>t_stat</th>\n",
       "      <th>p_val</th>\n",
       "      <th>worse_prob</th>\n",
       "      <th>better_prob</th>\n",
       "      <th>rope_prob</th>\n",
       "    </tr>\n",
       "  </thead>\n",
       "  <tbody>\n",
       "    <tr>\n",
       "      <th>0</th>\n",
       "      <td>{0: 1, 1: 5}</td>\n",
       "      <td>{0: 0.9, 1: 5}</td>\n",
       "      <td>0.380</td>\n",
       "      <td>1.000</td>\n",
       "      <td>0.000</td>\n",
       "      <td>0.000</td>\n",
       "      <td>1.000</td>\n",
       "    </tr>\n",
       "    <tr>\n",
       "      <th>1</th>\n",
       "      <td>{0: 1, 1: 5}</td>\n",
       "      <td>{0: 1, 1: 10}</td>\n",
       "      <td>1.502</td>\n",
       "      <td>0.205</td>\n",
       "      <td>0.001</td>\n",
       "      <td>0.362</td>\n",
       "      <td>0.637</td>\n",
       "    </tr>\n",
       "    <tr>\n",
       "      <th>2</th>\n",
       "      <td>{0: 0.9, 1: 5}</td>\n",
       "      <td>{0: 1, 1: 10}</td>\n",
       "      <td>1.503</td>\n",
       "      <td>0.205</td>\n",
       "      <td>0.000</td>\n",
       "      <td>0.283</td>\n",
       "      <td>0.716</td>\n",
       "    </tr>\n",
       "  </tbody>\n",
       "</table>\n",
       "</div>"
      ],
      "text/plain": [
       "          model_1         model_2  t_stat  p_val  worse_prob  better_prob  \\\n",
       "0    {0: 1, 1: 5}  {0: 0.9, 1: 5}   0.380  1.000       0.000        0.000   \n",
       "1    {0: 1, 1: 5}   {0: 1, 1: 10}   1.502  0.205       0.001        0.362   \n",
       "2  {0: 0.9, 1: 5}   {0: 1, 1: 10}   1.503  0.205       0.000        0.283   \n",
       "\n",
       "   rope_prob  \n",
       "0      1.000  \n",
       "1      0.637  \n",
       "2      0.716  "
      ]
     },
     "execution_count": 46,
     "metadata": {},
     "output_type": "execute_result"
    }
   ],
   "source": [
    "# Performing multi hypothesis test on 4th experiment results\n",
    "multiple_model_comparison(df_results=results,\n",
    "                          kfold=3, \n",
    "                          number_of_training_samples=X_train.shape[0], \n",
    "                          rope_interval=[-0.01, 0.01])"
   ]
  },
  {
   "cell_type": "markdown",
   "id": "3fc701dd",
   "metadata": {},
   "source": [
    "In this scenario, the estimator {0: 1, 1: 10} is slighly the best among all 3 with the lowest rope probability and being better than estimator {0: 1, 1: 5}."
   ]
  },
  {
   "cell_type": "markdown",
   "id": "5c5dccb2",
   "metadata": {},
   "source": [
    "3.4. Validation linear SVM best class weights parameters on test data"
   ]
  },
  {
   "cell_type": "code",
   "execution_count": 47,
   "id": "022c3449",
   "metadata": {},
   "outputs": [],
   "source": [
    "lsvc = LinearSVC(C=0.05, \n",
    "                 penalty='l2', \n",
    "                 dual=False, \n",
    "                 class_weight={0:1,1:10},\n",
    "                 random_state=rng).fit(X_train, y_train)\n",
    "predictions = lsvc.predict(X_test)"
   ]
  },
  {
   "cell_type": "code",
   "execution_count": 62,
   "id": "29f9bff5",
   "metadata": {},
   "outputs": [],
   "source": [
    "# Classification report on estimator with class weights\n",
    "tuples = list(zip(*[['Cost Sensitive']*4,['precision', 'recall', 'f1-score', 'support']]))\n",
    "index = pd.MultiIndex.from_tuples(tuples)\n",
    "results_cost_sensitive = pd.DataFrame(classification_report(y_test, predictions, target_names=['True','Fraud'], output_dict=True))\n",
    "results_cost_sensitive = results_cost_sensitive.set_index(index)\n",
    "results_cost_sensitive = results_cost_sensitive.transpose()"
   ]
  },
  {
   "cell_type": "code",
   "execution_count": 63,
   "id": "73744ac4",
   "metadata": {},
   "outputs": [
    {
     "data": {
      "text/html": [
       "<div>\n",
       "<style scoped>\n",
       "    .dataframe tbody tr th:only-of-type {\n",
       "        vertical-align: middle;\n",
       "    }\n",
       "\n",
       "    .dataframe tbody tr th {\n",
       "        vertical-align: top;\n",
       "    }\n",
       "\n",
       "    .dataframe thead tr th {\n",
       "        text-align: left;\n",
       "    }\n",
       "</style>\n",
       "<table border=\"1\" class=\"dataframe\">\n",
       "  <thead>\n",
       "    <tr>\n",
       "      <th></th>\n",
       "      <th colspan=\"3\" halign=\"left\">Imbalanced</th>\n",
       "      <th colspan=\"4\" halign=\"left\">Cost Sensitive</th>\n",
       "    </tr>\n",
       "    <tr>\n",
       "      <th></th>\n",
       "      <th>precision</th>\n",
       "      <th>recall</th>\n",
       "      <th>f1-score</th>\n",
       "      <th>precision</th>\n",
       "      <th>recall</th>\n",
       "      <th>f1-score</th>\n",
       "      <th>support</th>\n",
       "    </tr>\n",
       "  </thead>\n",
       "  <tbody>\n",
       "    <tr>\n",
       "      <th>True</th>\n",
       "      <td>1.00</td>\n",
       "      <td>1.00</td>\n",
       "      <td>1.00</td>\n",
       "      <td>1.00</td>\n",
       "      <td>1.0</td>\n",
       "      <td>1.00</td>\n",
       "      <td>71082</td>\n",
       "    </tr>\n",
       "    <tr>\n",
       "      <th>Fraud</th>\n",
       "      <td>0.88</td>\n",
       "      <td>0.62</td>\n",
       "      <td>0.73</td>\n",
       "      <td>0.86</td>\n",
       "      <td>0.8</td>\n",
       "      <td>0.83</td>\n",
       "      <td>120</td>\n",
       "    </tr>\n",
       "    <tr>\n",
       "      <th>accuracy</th>\n",
       "      <td>1.00</td>\n",
       "      <td>1.00</td>\n",
       "      <td>1.00</td>\n",
       "      <td>1.00</td>\n",
       "      <td>1.0</td>\n",
       "      <td>1.00</td>\n",
       "      <td>1</td>\n",
       "    </tr>\n",
       "    <tr>\n",
       "      <th>macro avg</th>\n",
       "      <td>0.94</td>\n",
       "      <td>0.81</td>\n",
       "      <td>0.87</td>\n",
       "      <td>0.93</td>\n",
       "      <td>0.9</td>\n",
       "      <td>0.91</td>\n",
       "      <td>71202</td>\n",
       "    </tr>\n",
       "    <tr>\n",
       "      <th>weighted avg</th>\n",
       "      <td>1.00</td>\n",
       "      <td>1.00</td>\n",
       "      <td>1.00</td>\n",
       "      <td>1.00</td>\n",
       "      <td>1.0</td>\n",
       "      <td>1.00</td>\n",
       "      <td>71202</td>\n",
       "    </tr>\n",
       "  </tbody>\n",
       "</table>\n",
       "</div>"
      ],
      "text/plain": [
       "             Imbalanced                 Cost Sensitive                        \n",
       "              precision recall f1-score      precision recall f1-score support\n",
       "True               1.00   1.00     1.00           1.00    1.0     1.00   71082\n",
       "Fraud              0.88   0.62     0.73           0.86    0.8     0.83     120\n",
       "accuracy           1.00   1.00     1.00           1.00    1.0     1.00       1\n",
       "macro avg          0.94   0.81     0.87           0.93    0.9     0.91   71202\n",
       "weighted avg       1.00   1.00     1.00           1.00    1.0     1.00   71202"
      ]
     },
     "execution_count": 63,
     "metadata": {},
     "output_type": "execute_result"
    }
   ],
   "source": [
    "# Creating a results dataframe for both experiments\n",
    "full_results = pd.concat([results_imbalanced.drop(columns=[('Imbalanced','support')]), results_cost_sensitive], axis=1)\n",
    "full_results = full_results.round(decimals=2)\n",
    "full_results[('Cost Sensitive','support')] = full_results[('Cost Sensitive','support')].astype('int')\n",
    "full_results"
   ]
  },
  {
   "cell_type": "code",
   "execution_count": 61,
   "id": "7fb26f8c",
   "metadata": {},
   "outputs": [],
   "source": [
    "full_results.to_excel('credit_card_results.xlsx')"
   ]
  },
  {
   "cell_type": "code",
   "execution_count": null,
   "id": "a94b561f",
   "metadata": {},
   "outputs": [],
   "source": []
  },
  {
   "cell_type": "markdown",
   "id": "24445c7d",
   "metadata": {},
   "source": [
    "Crossvalidated f1 score : 0.78\n",
    "Test set f1 score : 0.81"
   ]
  },
  {
   "cell_type": "markdown",
   "id": "83cd4d41",
   "metadata": {},
   "source": [
    "https://scikit-learn.org/stable/auto_examples/model_selection/plot_grid_search_stats.html"
   ]
  },
  {
   "cell_type": "code",
   "execution_count": null,
   "id": "85f0cd77",
   "metadata": {},
   "outputs": [],
   "source": []
  }
 ],
 "metadata": {
  "kernelspec": {
   "display_name": "Python 3 (ipykernel)",
   "language": "python",
   "name": "python3"
  },
  "language_info": {
   "codemirror_mode": {
    "name": "ipython",
    "version": 3
   },
   "file_extension": ".py",
   "mimetype": "text/x-python",
   "name": "python",
   "nbconvert_exporter": "python",
   "pygments_lexer": "ipython3",
   "version": "3.10.9"
  }
 },
 "nbformat": 4,
 "nbformat_minor": 5
}
